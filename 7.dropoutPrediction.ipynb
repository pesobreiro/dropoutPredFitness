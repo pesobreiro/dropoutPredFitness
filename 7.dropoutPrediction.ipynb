{
 "cells": [
  {
   "cell_type": "markdown",
   "metadata": {},
   "source": [
    "# Sport instalation analysis\n",
    "\n",
    "Variables:\n",
    "- age\tAge of the participants in years\n",
    "- sex\tSex (0-female, 1-male)\n",
    "- dayswfreq\tNon-attendance days before dropout\n",
    "- tbilled\tTotal amount billed in euros during the registration period (values in euros). \n",
    "- maccess\tAverage number of visits per week\n",
    "- freeuse\tFree use (0-no, 1-yes)\n",
    "- nentries\tTotal number of visits to the fitness center that the customer made during the registration \n",
    "- cfreq\tWeekly contracted accesses \n",
    "- nrenewals\tNumber of registration renewals\n",
    "- cref\tNumber of customer referrals\n",
    "- rmonth\tRegistration month\n",
    "- months\tCustomer enrolment (total time in months)\n",
    "- dropout\tMeasure of customers’ commitment (0=active, 1=dropout)\n",
    "\n",
    "\n",
    "1/TRUE = dead i.e. abandonou\n",
    "0/FALSE = alive i.e. não abandonou\n"
   ]
  },
  {
   "cell_type": "markdown",
   "metadata": {},
   "source": [
    "Corrections to the analysis considering the reviewers suggestions:\n",
    "1. Include 95% confidence intervals in Table 2 for the AUC\n",
    "2. Before moving to decision tree models, one should always try standard logistic regression\n",
    "3. There needs to be some cross validation performed. The reviewer suggests performing a three-fold cross validation for at least 50 iterations. This will generate condence intervals that the authors can see how stable their models are\n",
    "4. Data stratification on the hold-out"
   ]
  },
  {
   "cell_type": "markdown",
   "metadata": {},
   "source": [
    "# Support functions"
   ]
  },
  {
   "cell_type": "code",
   "execution_count": 9,
   "metadata": {},
   "outputs": [],
   "source": [
    "# Adapted from https://gist.github.com/doraneko94/e24643136cfb8baf03ef8a314ab9615c\n",
    "from sklearn.metrics import roc_auc_score\n",
    "from math import sqrt\n",
    "def roc_auc_ci(y_true, y_score, positive=1):\n",
    "    '''\n",
    "    # y_true = TRUE data\n",
    "    # y_pred = predicted data at the model\n",
    "    '''\n",
    "    auc = roc_auc_score(y_true, y_score)\n",
    "    n1 = sum(y_true == positive)\n",
    "    n2 = sum(y_true != positive)\n",
    "    q1 = auc / (2 - auc)\n",
    "    q2 = 2*auc**2 / (1 + auc)\n",
    "    se_auc = sqrt((auc*(1 - auc) + (n1 - 1)*(q1 - auc**2) + (n2 - 1)*(q2 - auc**2)) / (n1*n2))\n",
    "    lower = auc - 1.96*se_auc\n",
    "    upper = auc + 1.96*se_auc\n",
    "    if lower < 0:\n",
    "        lower = 0\n",
    "    if upper > 1:\n",
    "        upper = 1\n",
    "    return (lower, upper)"
   ]
  },
  {
   "cell_type": "markdown",
   "metadata": {},
   "source": [
    "# Imports"
   ]
  },
  {
   "cell_type": "code",
   "execution_count": 10,
   "metadata": {},
   "outputs": [],
   "source": [
    "import numpy as np\n",
    "import pandas as pd\n",
    "import time\n",
    "from sklearn import linear_model, datasets\n",
    "from sklearn import metrics\n",
    "from sklearn import preprocessing\n",
    "\n",
    "import matplotlib.pyplot as plt\n",
    "import seaborn as sns\n",
    "\n",
    "plt.style.use('fivethirtyeight')"
   ]
  },
  {
   "cell_type": "code",
   "execution_count": 11,
   "metadata": {},
   "outputs": [],
   "source": [
    "from sklearn.linear_model import LogisticRegression\n",
    "from sklearn.tree import DecisionTreeClassifier\n",
    "from sklearn.ensemble import RandomForestClassifier\n",
    "from sklearn.ensemble import GradientBoostingClassifier"
   ]
  },
  {
   "cell_type": "code",
   "execution_count": 12,
   "metadata": {},
   "outputs": [],
   "source": [
    "# Disable warnings\n",
    "import warnings\n",
    "warnings.filterwarnings('ignore')"
   ]
  },
  {
   "cell_type": "code",
   "execution_count": 13,
   "metadata": {},
   "outputs": [],
   "source": [
    "from sklearn.model_selection import train_test_split\n",
    "from sklearn.model_selection import StratifiedKFold\n",
    "from sklearn.model_selection import cross_val_score\n",
    "from sklearn.metrics import accuracy_score,mean_squared_error\n",
    "import time\n",
    "\n",
    "import graphviz\n",
    "import pydotplus\n",
    "#import pydot\n",
    "from sklearn.externals.six import StringIO  \n",
    "from sklearn.tree import export_graphviz\n",
    "from IPython.display import Image  "
   ]
  },
  {
   "cell_type": "code",
   "execution_count": 14,
   "metadata": {},
   "outputs": [],
   "source": [
    "from sklearn.model_selection import train_test_split\n",
    "from sklearn.model_selection import StratifiedKFold\n",
    "from sklearn.model_selection import cross_val_score\n",
    "from sklearn.metrics import accuracy_score,mean_squared_error\n",
    "from sklearn import metrics\n",
    "import time\n",
    "\n",
    "import graphviz\n",
    "import pydotplus\n",
    "#import pydot\n",
    "from sklearn.externals.six import StringIO  \n",
    "from sklearn.tree import export_graphviz\n",
    "from IPython.display import Image  "
   ]
  },
  {
   "cell_type": "code",
   "execution_count": 15,
   "metadata": {},
   "outputs": [],
   "source": [
    "from sklearn.model_selection import GridSearchCV"
   ]
  },
  {
   "cell_type": "code",
   "execution_count": 16,
   "metadata": {},
   "outputs": [],
   "source": [
    "from sklearn import tree\n",
    "from dtreeviz.trees import *"
   ]
  },
  {
   "cell_type": "code",
   "execution_count": 17,
   "metadata": {},
   "outputs": [],
   "source": [
    "%matplotlib inline"
   ]
  },
  {
   "cell_type": "markdown",
   "metadata": {},
   "source": [
    "# Data processing"
   ]
  },
  {
   "cell_type": "code",
   "execution_count": 21,
   "metadata": {},
   "outputs": [],
   "source": [
    "#reading data\n",
    "dt = pd.read_excel('dataset/fitnessCustomers.xlsx',index_col=0)"
   ]
  },
  {
   "cell_type": "code",
   "execution_count": 22,
   "metadata": {},
   "outputs": [
    {
     "data": {
      "text/plain": [
       "(5216, 13)"
      ]
     },
     "execution_count": 22,
     "metadata": {},
     "output_type": "execute_result"
    }
   ],
   "source": [
    "#rows and columns\n",
    "dt.shape"
   ]
  },
  {
   "cell_type": "code",
   "execution_count": 23,
   "metadata": {},
   "outputs": [
    {
     "data": {
      "text/plain": [
       "Index(['age', 'sex', 'dayswfreq', 'tbilled', 'maccess', 'freeuse', 'nentries',\n",
       "       'cfreq', 'nrenewals', 'cref', 'startDate', 'months', 'dropout'],\n",
       "      dtype='object')"
      ]
     },
     "execution_count": 23,
     "metadata": {},
     "output_type": "execute_result"
    }
   ],
   "source": [
    "#feature names\n",
    "dt.columns"
   ]
  },
  {
   "cell_type": "code",
   "execution_count": 24,
   "metadata": {},
   "outputs": [
    {
     "data": {
      "text/html": [
       "<div>\n",
       "<style scoped>\n",
       "    .dataframe tbody tr th:only-of-type {\n",
       "        vertical-align: middle;\n",
       "    }\n",
       "\n",
       "    .dataframe tbody tr th {\n",
       "        vertical-align: top;\n",
       "    }\n",
       "\n",
       "    .dataframe thead th {\n",
       "        text-align: right;\n",
       "    }\n",
       "</style>\n",
       "<table border=\"1\" class=\"dataframe\">\n",
       "  <thead>\n",
       "    <tr style=\"text-align: right;\">\n",
       "      <th>Id</th>\n",
       "      <th>00130FE8-5D34-4C66-9819-1EB0BFE69979</th>\n",
       "      <th>0016D0DD-E713-4EDC-BAA3-386AB4CE6779</th>\n",
       "    </tr>\n",
       "  </thead>\n",
       "  <tbody>\n",
       "    <tr>\n",
       "      <th>age</th>\n",
       "      <td>23</td>\n",
       "      <td>34</td>\n",
       "    </tr>\n",
       "    <tr>\n",
       "      <th>sex</th>\n",
       "      <td>1</td>\n",
       "      <td>1</td>\n",
       "    </tr>\n",
       "    <tr>\n",
       "      <th>dayswfreq</th>\n",
       "      <td>7</td>\n",
       "      <td>328</td>\n",
       "    </tr>\n",
       "    <tr>\n",
       "      <th>tbilled</th>\n",
       "      <td>37.6</td>\n",
       "      <td>205.6</td>\n",
       "    </tr>\n",
       "    <tr>\n",
       "      <th>maccess</th>\n",
       "      <td>1.35</td>\n",
       "      <td>0.54</td>\n",
       "    </tr>\n",
       "    <tr>\n",
       "      <th>freeuse</th>\n",
       "      <td>0</td>\n",
       "      <td>0</td>\n",
       "    </tr>\n",
       "    <tr>\n",
       "      <th>nentries</th>\n",
       "      <td>6</td>\n",
       "      <td>39</td>\n",
       "    </tr>\n",
       "    <tr>\n",
       "      <th>cfreq</th>\n",
       "      <td>7</td>\n",
       "      <td>7</td>\n",
       "    </tr>\n",
       "    <tr>\n",
       "      <th>nrenewals</th>\n",
       "      <td>0</td>\n",
       "      <td>2</td>\n",
       "    </tr>\n",
       "    <tr>\n",
       "      <th>cref</th>\n",
       "      <td>0</td>\n",
       "      <td>0</td>\n",
       "    </tr>\n",
       "    <tr>\n",
       "      <th>startDate</th>\n",
       "      <td>2017-05-02 09:43:11.320</td>\n",
       "      <td>2016-04-20 18:33:21.170</td>\n",
       "    </tr>\n",
       "    <tr>\n",
       "      <th>months</th>\n",
       "      <td>1</td>\n",
       "      <td>19</td>\n",
       "    </tr>\n",
       "    <tr>\n",
       "      <th>dropout</th>\n",
       "      <td>1</td>\n",
       "      <td>0</td>\n",
       "    </tr>\n",
       "  </tbody>\n",
       "</table>\n",
       "</div>"
      ],
      "text/plain": [
       "Id        00130FE8-5D34-4C66-9819-1EB0BFE69979  \\\n",
       "age                                         23   \n",
       "sex                                          1   \n",
       "dayswfreq                                    7   \n",
       "tbilled                                   37.6   \n",
       "maccess                                   1.35   \n",
       "freeuse                                      0   \n",
       "nentries                                     6   \n",
       "cfreq                                        7   \n",
       "nrenewals                                    0   \n",
       "cref                                         0   \n",
       "startDate              2017-05-02 09:43:11.320   \n",
       "months                                       1   \n",
       "dropout                                      1   \n",
       "\n",
       "Id        0016D0DD-E713-4EDC-BAA3-386AB4CE6779  \n",
       "age                                         34  \n",
       "sex                                          1  \n",
       "dayswfreq                                  328  \n",
       "tbilled                                  205.6  \n",
       "maccess                                   0.54  \n",
       "freeuse                                      0  \n",
       "nentries                                    39  \n",
       "cfreq                                        7  \n",
       "nrenewals                                    2  \n",
       "cref                                         0  \n",
       "startDate              2016-04-20 18:33:21.170  \n",
       "months                                      19  \n",
       "dropout                                      0  "
      ]
     },
     "execution_count": 24,
     "metadata": {},
     "output_type": "execute_result"
    }
   ],
   "source": [
    "dt.head(2).T"
   ]
  },
  {
   "cell_type": "code",
   "execution_count": 25,
   "metadata": {},
   "outputs": [
    {
     "data": {
      "text/plain": [
       "1    4566\n",
       "0     650\n",
       "Name: dropout, dtype: int64"
      ]
     },
     "execution_count": 25,
     "metadata": {},
     "output_type": "execute_result"
    }
   ],
   "source": [
    "# number Customers by dropout\n",
    "dt.dropout.value_counts()"
   ]
  },
  {
   "cell_type": "code",
   "execution_count": 26,
   "metadata": {
    "scrolled": true
   },
   "outputs": [
    {
     "data": {
      "text/html": [
       "<div>\n",
       "<style scoped>\n",
       "    .dataframe tbody tr th:only-of-type {\n",
       "        vertical-align: middle;\n",
       "    }\n",
       "\n",
       "    .dataframe tbody tr th {\n",
       "        vertical-align: top;\n",
       "    }\n",
       "\n",
       "    .dataframe thead th {\n",
       "        text-align: right;\n",
       "    }\n",
       "</style>\n",
       "<table border=\"1\" class=\"dataframe\">\n",
       "  <thead>\n",
       "    <tr style=\"text-align: right;\">\n",
       "      <th>Id</th>\n",
       "      <th>00130FE8-5D34-4C66-9819-1EB0BFE69979</th>\n",
       "      <th>0016D0DD-E713-4EDC-BAA3-386AB4CE6779</th>\n",
       "      <th>001A70CA-0985-42D1-A0C0-6D70BEC00BFB</th>\n",
       "      <th>001B9AC2-7711-4384-BF9D-C5205F68BDFC</th>\n",
       "      <th>001D927E-ACD2-4B3D-ACDA-1480F6A31F3E</th>\n",
       "    </tr>\n",
       "  </thead>\n",
       "  <tbody>\n",
       "    <tr>\n",
       "      <th>age</th>\n",
       "      <td>23</td>\n",
       "      <td>34</td>\n",
       "      <td>24</td>\n",
       "      <td>20</td>\n",
       "      <td>21</td>\n",
       "    </tr>\n",
       "    <tr>\n",
       "      <th>sex</th>\n",
       "      <td>1</td>\n",
       "      <td>1</td>\n",
       "      <td>0</td>\n",
       "      <td>1</td>\n",
       "      <td>1</td>\n",
       "    </tr>\n",
       "    <tr>\n",
       "      <th>dayswfreq</th>\n",
       "      <td>7</td>\n",
       "      <td>328</td>\n",
       "      <td>3</td>\n",
       "      <td>41</td>\n",
       "      <td>18</td>\n",
       "    </tr>\n",
       "    <tr>\n",
       "      <th>tbilled</th>\n",
       "      <td>37.6</td>\n",
       "      <td>205.6</td>\n",
       "      <td>140</td>\n",
       "      <td>71.6</td>\n",
       "      <td>113.2</td>\n",
       "    </tr>\n",
       "    <tr>\n",
       "      <th>maccess</th>\n",
       "      <td>1.35</td>\n",
       "      <td>0.54</td>\n",
       "      <td>0.8</td>\n",
       "      <td>1</td>\n",
       "      <td>0.08</td>\n",
       "    </tr>\n",
       "    <tr>\n",
       "      <th>freeuse</th>\n",
       "      <td>0</td>\n",
       "      <td>0</td>\n",
       "      <td>0</td>\n",
       "      <td>0</td>\n",
       "      <td>0</td>\n",
       "    </tr>\n",
       "    <tr>\n",
       "      <th>nentries</th>\n",
       "      <td>6</td>\n",
       "      <td>39</td>\n",
       "      <td>28</td>\n",
       "      <td>13</td>\n",
       "      <td>7</td>\n",
       "    </tr>\n",
       "    <tr>\n",
       "      <th>cfreq</th>\n",
       "      <td>7</td>\n",
       "      <td>7</td>\n",
       "      <td>7</td>\n",
       "      <td>7</td>\n",
       "      <td>7</td>\n",
       "    </tr>\n",
       "    <tr>\n",
       "      <th>nrenewals</th>\n",
       "      <td>0</td>\n",
       "      <td>2</td>\n",
       "      <td>0</td>\n",
       "      <td>0</td>\n",
       "      <td>3</td>\n",
       "    </tr>\n",
       "    <tr>\n",
       "      <th>cref</th>\n",
       "      <td>0</td>\n",
       "      <td>0</td>\n",
       "      <td>0</td>\n",
       "      <td>0</td>\n",
       "      <td>0</td>\n",
       "    </tr>\n",
       "    <tr>\n",
       "      <th>startDate</th>\n",
       "      <td>2017-05-02 09:43:11.320</td>\n",
       "      <td>2016-04-20 18:33:21.170</td>\n",
       "      <td>2015-12-01 19:47:59.513</td>\n",
       "      <td>2015-10-06 16:33:47.983</td>\n",
       "      <td>2015-03-25 15:25:11.383</td>\n",
       "    </tr>\n",
       "    <tr>\n",
       "      <th>months</th>\n",
       "      <td>1</td>\n",
       "      <td>19</td>\n",
       "      <td>8</td>\n",
       "      <td>3</td>\n",
       "      <td>24</td>\n",
       "    </tr>\n",
       "    <tr>\n",
       "      <th>dropout</th>\n",
       "      <td>1</td>\n",
       "      <td>0</td>\n",
       "      <td>1</td>\n",
       "      <td>1</td>\n",
       "      <td>1</td>\n",
       "    </tr>\n",
       "  </tbody>\n",
       "</table>\n",
       "</div>"
      ],
      "text/plain": [
       "Id        00130FE8-5D34-4C66-9819-1EB0BFE69979  \\\n",
       "age                                         23   \n",
       "sex                                          1   \n",
       "dayswfreq                                    7   \n",
       "tbilled                                   37.6   \n",
       "maccess                                   1.35   \n",
       "freeuse                                      0   \n",
       "nentries                                     6   \n",
       "cfreq                                        7   \n",
       "nrenewals                                    0   \n",
       "cref                                         0   \n",
       "startDate              2017-05-02 09:43:11.320   \n",
       "months                                       1   \n",
       "dropout                                      1   \n",
       "\n",
       "Id        0016D0DD-E713-4EDC-BAA3-386AB4CE6779  \\\n",
       "age                                         34   \n",
       "sex                                          1   \n",
       "dayswfreq                                  328   \n",
       "tbilled                                  205.6   \n",
       "maccess                                   0.54   \n",
       "freeuse                                      0   \n",
       "nentries                                    39   \n",
       "cfreq                                        7   \n",
       "nrenewals                                    2   \n",
       "cref                                         0   \n",
       "startDate              2016-04-20 18:33:21.170   \n",
       "months                                      19   \n",
       "dropout                                      0   \n",
       "\n",
       "Id        001A70CA-0985-42D1-A0C0-6D70BEC00BFB  \\\n",
       "age                                         24   \n",
       "sex                                          0   \n",
       "dayswfreq                                    3   \n",
       "tbilled                                    140   \n",
       "maccess                                    0.8   \n",
       "freeuse                                      0   \n",
       "nentries                                    28   \n",
       "cfreq                                        7   \n",
       "nrenewals                                    0   \n",
       "cref                                         0   \n",
       "startDate              2015-12-01 19:47:59.513   \n",
       "months                                       8   \n",
       "dropout                                      1   \n",
       "\n",
       "Id        001B9AC2-7711-4384-BF9D-C5205F68BDFC  \\\n",
       "age                                         20   \n",
       "sex                                          1   \n",
       "dayswfreq                                   41   \n",
       "tbilled                                   71.6   \n",
       "maccess                                      1   \n",
       "freeuse                                      0   \n",
       "nentries                                    13   \n",
       "cfreq                                        7   \n",
       "nrenewals                                    0   \n",
       "cref                                         0   \n",
       "startDate              2015-10-06 16:33:47.983   \n",
       "months                                       3   \n",
       "dropout                                      1   \n",
       "\n",
       "Id        001D927E-ACD2-4B3D-ACDA-1480F6A31F3E  \n",
       "age                                         21  \n",
       "sex                                          1  \n",
       "dayswfreq                                   18  \n",
       "tbilled                                  113.2  \n",
       "maccess                                   0.08  \n",
       "freeuse                                      0  \n",
       "nentries                                     7  \n",
       "cfreq                                        7  \n",
       "nrenewals                                    3  \n",
       "cref                                         0  \n",
       "startDate              2015-03-25 15:25:11.383  \n",
       "months                                      24  \n",
       "dropout                                      1  "
      ]
     },
     "execution_count": 26,
     "metadata": {},
     "output_type": "execute_result"
    }
   ],
   "source": [
    "dt.head().T"
   ]
  },
  {
   "cell_type": "markdown",
   "metadata": {},
   "source": [
    "## Inscription month calculation"
   ]
  },
  {
   "cell_type": "code",
   "execution_count": 27,
   "metadata": {},
   "outputs": [],
   "source": [
    "# Calculate inscriptio month\n",
    "dt['rmonth']=dt['startDate'].str.extract('-(\\d\\d)', expand=True)\n",
    "dt['rmonth']=pd.to_numeric(dt['rmonth'])"
   ]
  },
  {
   "cell_type": "code",
   "execution_count": 28,
   "metadata": {},
   "outputs": [],
   "source": [
    "# drop start date\n",
    "dt.drop(axis=1,columns=['startDate'],inplace=True)"
   ]
  },
  {
   "cell_type": "code",
   "execution_count": 29,
   "metadata": {},
   "outputs": [
    {
     "data": {
      "text/plain": [
       "Index(['age', 'sex', 'dayswfreq', 'tbilled', 'maccess', 'freeuse', 'nentries',\n",
       "       'cfreq', 'nrenewals', 'cref', 'months', 'dropout', 'rmonth'],\n",
       "      dtype='object')"
      ]
     },
     "execution_count": 29,
     "metadata": {},
     "output_type": "execute_result"
    }
   ],
   "source": [
    "dt.columns"
   ]
  },
  {
   "cell_type": "code",
   "execution_count": 30,
   "metadata": {},
   "outputs": [
    {
     "data": {
      "text/html": [
       "<div>\n",
       "<style scoped>\n",
       "    .dataframe tbody tr th:only-of-type {\n",
       "        vertical-align: middle;\n",
       "    }\n",
       "\n",
       "    .dataframe tbody tr th {\n",
       "        vertical-align: top;\n",
       "    }\n",
       "\n",
       "    .dataframe thead th {\n",
       "        text-align: right;\n",
       "    }\n",
       "</style>\n",
       "<table border=\"1\" class=\"dataframe\">\n",
       "  <thead>\n",
       "    <tr style=\"text-align: right;\">\n",
       "      <th>Id</th>\n",
       "      <th>00130FE8-5D34-4C66-9819-1EB0BFE69979</th>\n",
       "      <th>0016D0DD-E713-4EDC-BAA3-386AB4CE6779</th>\n",
       "    </tr>\n",
       "  </thead>\n",
       "  <tbody>\n",
       "    <tr>\n",
       "      <th>age</th>\n",
       "      <td>23.00</td>\n",
       "      <td>34.00</td>\n",
       "    </tr>\n",
       "    <tr>\n",
       "      <th>sex</th>\n",
       "      <td>1.00</td>\n",
       "      <td>1.00</td>\n",
       "    </tr>\n",
       "    <tr>\n",
       "      <th>dayswfreq</th>\n",
       "      <td>7.00</td>\n",
       "      <td>328.00</td>\n",
       "    </tr>\n",
       "    <tr>\n",
       "      <th>tbilled</th>\n",
       "      <td>37.60</td>\n",
       "      <td>205.60</td>\n",
       "    </tr>\n",
       "    <tr>\n",
       "      <th>maccess</th>\n",
       "      <td>1.35</td>\n",
       "      <td>0.54</td>\n",
       "    </tr>\n",
       "    <tr>\n",
       "      <th>freeuse</th>\n",
       "      <td>0.00</td>\n",
       "      <td>0.00</td>\n",
       "    </tr>\n",
       "    <tr>\n",
       "      <th>nentries</th>\n",
       "      <td>6.00</td>\n",
       "      <td>39.00</td>\n",
       "    </tr>\n",
       "    <tr>\n",
       "      <th>cfreq</th>\n",
       "      <td>7.00</td>\n",
       "      <td>7.00</td>\n",
       "    </tr>\n",
       "    <tr>\n",
       "      <th>nrenewals</th>\n",
       "      <td>0.00</td>\n",
       "      <td>2.00</td>\n",
       "    </tr>\n",
       "    <tr>\n",
       "      <th>cref</th>\n",
       "      <td>0.00</td>\n",
       "      <td>0.00</td>\n",
       "    </tr>\n",
       "    <tr>\n",
       "      <th>months</th>\n",
       "      <td>1.00</td>\n",
       "      <td>19.00</td>\n",
       "    </tr>\n",
       "    <tr>\n",
       "      <th>dropout</th>\n",
       "      <td>1.00</td>\n",
       "      <td>0.00</td>\n",
       "    </tr>\n",
       "    <tr>\n",
       "      <th>rmonth</th>\n",
       "      <td>5.00</td>\n",
       "      <td>4.00</td>\n",
       "    </tr>\n",
       "  </tbody>\n",
       "</table>\n",
       "</div>"
      ],
      "text/plain": [
       "Id         00130FE8-5D34-4C66-9819-1EB0BFE69979  \\\n",
       "age                                       23.00   \n",
       "sex                                        1.00   \n",
       "dayswfreq                                  7.00   \n",
       "tbilled                                   37.60   \n",
       "maccess                                    1.35   \n",
       "freeuse                                    0.00   \n",
       "nentries                                   6.00   \n",
       "cfreq                                      7.00   \n",
       "nrenewals                                  0.00   \n",
       "cref                                       0.00   \n",
       "months                                     1.00   \n",
       "dropout                                    1.00   \n",
       "rmonth                                     5.00   \n",
       "\n",
       "Id         0016D0DD-E713-4EDC-BAA3-386AB4CE6779  \n",
       "age                                       34.00  \n",
       "sex                                        1.00  \n",
       "dayswfreq                                328.00  \n",
       "tbilled                                  205.60  \n",
       "maccess                                    0.54  \n",
       "freeuse                                    0.00  \n",
       "nentries                                  39.00  \n",
       "cfreq                                      7.00  \n",
       "nrenewals                                  2.00  \n",
       "cref                                       0.00  \n",
       "months                                    19.00  \n",
       "dropout                                    0.00  \n",
       "rmonth                                     4.00  "
      ]
     },
     "execution_count": 30,
     "metadata": {},
     "output_type": "execute_result"
    }
   ],
   "source": [
    "dt.head(2).T"
   ]
  },
  {
   "cell_type": "markdown",
   "metadata": {},
   "source": [
    "## Checking null values"
   ]
  },
  {
   "cell_type": "code",
   "execution_count": 31,
   "metadata": {},
   "outputs": [
    {
     "data": {
      "text/plain": [
       "age          False\n",
       "sex          False\n",
       "dayswfreq    False\n",
       "tbilled      False\n",
       "maccess      False\n",
       "freeuse      False\n",
       "nentries     False\n",
       "cfreq         True\n",
       "nrenewals    False\n",
       "cref         False\n",
       "months       False\n",
       "dropout      False\n",
       "rmonth       False\n",
       "dtype: bool"
      ]
     },
     "execution_count": 31,
     "metadata": {},
     "output_type": "execute_result"
    }
   ],
   "source": [
    "dt.isnull().any()"
   ]
  },
  {
   "cell_type": "code",
   "execution_count": 32,
   "metadata": {},
   "outputs": [
    {
     "data": {
      "text/plain": [
       "7.0    5008\n",
       "4.0     125\n",
       "2.0      67\n",
       "6.0      10\n",
       "Name: cfreq, dtype: int64"
      ]
     },
     "execution_count": 32,
     "metadata": {},
     "output_type": "execute_result"
    }
   ],
   "source": [
    "dt.cfreq.value_counts()"
   ]
  },
  {
   "cell_type": "code",
   "execution_count": 33,
   "metadata": {},
   "outputs": [
    {
     "data": {
      "text/html": [
       "<div>\n",
       "<style scoped>\n",
       "    .dataframe tbody tr th:only-of-type {\n",
       "        vertical-align: middle;\n",
       "    }\n",
       "\n",
       "    .dataframe tbody tr th {\n",
       "        vertical-align: top;\n",
       "    }\n",
       "\n",
       "    .dataframe thead th {\n",
       "        text-align: right;\n",
       "    }\n",
       "</style>\n",
       "<table border=\"1\" class=\"dataframe\">\n",
       "  <thead>\n",
       "    <tr style=\"text-align: right;\">\n",
       "      <th></th>\n",
       "      <th>age</th>\n",
       "      <th>sex</th>\n",
       "      <th>dayswfreq</th>\n",
       "      <th>tbilled</th>\n",
       "      <th>maccess</th>\n",
       "      <th>freeuse</th>\n",
       "      <th>nentries</th>\n",
       "      <th>cfreq</th>\n",
       "      <th>nrenewals</th>\n",
       "      <th>cref</th>\n",
       "      <th>months</th>\n",
       "      <th>dropout</th>\n",
       "      <th>rmonth</th>\n",
       "    </tr>\n",
       "    <tr>\n",
       "      <th>Id</th>\n",
       "      <th></th>\n",
       "      <th></th>\n",
       "      <th></th>\n",
       "      <th></th>\n",
       "      <th></th>\n",
       "      <th></th>\n",
       "      <th></th>\n",
       "      <th></th>\n",
       "      <th></th>\n",
       "      <th></th>\n",
       "      <th></th>\n",
       "      <th></th>\n",
       "      <th></th>\n",
       "    </tr>\n",
       "  </thead>\n",
       "  <tbody>\n",
       "    <tr>\n",
       "      <th>4CA4608D-9366-46C7-9B51-7916E516B691</th>\n",
       "      <td>26</td>\n",
       "      <td>0</td>\n",
       "      <td>22</td>\n",
       "      <td>58.6</td>\n",
       "      <td>0.70</td>\n",
       "      <td>0</td>\n",
       "      <td>3</td>\n",
       "      <td>NaN</td>\n",
       "      <td>0</td>\n",
       "      <td>0</td>\n",
       "      <td>1</td>\n",
       "      <td>0</td>\n",
       "      <td>10</td>\n",
       "    </tr>\n",
       "    <tr>\n",
       "      <th>649D78E8-4C98-4397-AEDF-C6959AD959EA</th>\n",
       "      <td>26</td>\n",
       "      <td>0</td>\n",
       "      <td>6</td>\n",
       "      <td>126.1</td>\n",
       "      <td>0.03</td>\n",
       "      <td>0</td>\n",
       "      <td>3</td>\n",
       "      <td>NaN</td>\n",
       "      <td>2</td>\n",
       "      <td>0</td>\n",
       "      <td>25</td>\n",
       "      <td>0</td>\n",
       "      <td>10</td>\n",
       "    </tr>\n",
       "    <tr>\n",
       "      <th>6ABEE4C8-951A-4FE1-BF90-AAD1875AD582</th>\n",
       "      <td>21</td>\n",
       "      <td>0</td>\n",
       "      <td>8</td>\n",
       "      <td>58.6</td>\n",
       "      <td>1.63</td>\n",
       "      <td>0</td>\n",
       "      <td>7</td>\n",
       "      <td>NaN</td>\n",
       "      <td>0</td>\n",
       "      <td>0</td>\n",
       "      <td>1</td>\n",
       "      <td>0</td>\n",
       "      <td>10</td>\n",
       "    </tr>\n",
       "    <tr>\n",
       "      <th>A7438DA1-1801-4E73-8B99-896CC347C8FC</th>\n",
       "      <td>18</td>\n",
       "      <td>0</td>\n",
       "      <td>5</td>\n",
       "      <td>58.6</td>\n",
       "      <td>3.25</td>\n",
       "      <td>0</td>\n",
       "      <td>13</td>\n",
       "      <td>NaN</td>\n",
       "      <td>0</td>\n",
       "      <td>0</td>\n",
       "      <td>1</td>\n",
       "      <td>0</td>\n",
       "      <td>10</td>\n",
       "    </tr>\n",
       "    <tr>\n",
       "      <th>AEEDCE35-83DC-4CCB-A81F-5912FB6FE5C6</th>\n",
       "      <td>20</td>\n",
       "      <td>0</td>\n",
       "      <td>4</td>\n",
       "      <td>58.6</td>\n",
       "      <td>3.03</td>\n",
       "      <td>0</td>\n",
       "      <td>13</td>\n",
       "      <td>NaN</td>\n",
       "      <td>0</td>\n",
       "      <td>0</td>\n",
       "      <td>1</td>\n",
       "      <td>0</td>\n",
       "      <td>10</td>\n",
       "    </tr>\n",
       "    <tr>\n",
       "      <th>DE419BDD-A882-4754-8AA5-6656AF1D37CE</th>\n",
       "      <td>20</td>\n",
       "      <td>1</td>\n",
       "      <td>1</td>\n",
       "      <td>106.1</td>\n",
       "      <td>3.67</td>\n",
       "      <td>0</td>\n",
       "      <td>22</td>\n",
       "      <td>NaN</td>\n",
       "      <td>0</td>\n",
       "      <td>0</td>\n",
       "      <td>2</td>\n",
       "      <td>0</td>\n",
       "      <td>9</td>\n",
       "    </tr>\n",
       "  </tbody>\n",
       "</table>\n",
       "</div>"
      ],
      "text/plain": [
       "                                      age  sex  dayswfreq  tbilled  maccess  \\\n",
       "Id                                                                            \n",
       "4CA4608D-9366-46C7-9B51-7916E516B691   26    0         22     58.6     0.70   \n",
       "649D78E8-4C98-4397-AEDF-C6959AD959EA   26    0          6    126.1     0.03   \n",
       "6ABEE4C8-951A-4FE1-BF90-AAD1875AD582   21    0          8     58.6     1.63   \n",
       "A7438DA1-1801-4E73-8B99-896CC347C8FC   18    0          5     58.6     3.25   \n",
       "AEEDCE35-83DC-4CCB-A81F-5912FB6FE5C6   20    0          4     58.6     3.03   \n",
       "DE419BDD-A882-4754-8AA5-6656AF1D37CE   20    1          1    106.1     3.67   \n",
       "\n",
       "                                      freeuse  nentries  cfreq  nrenewals  \\\n",
       "Id                                                                          \n",
       "4CA4608D-9366-46C7-9B51-7916E516B691        0         3    NaN          0   \n",
       "649D78E8-4C98-4397-AEDF-C6959AD959EA        0         3    NaN          2   \n",
       "6ABEE4C8-951A-4FE1-BF90-AAD1875AD582        0         7    NaN          0   \n",
       "A7438DA1-1801-4E73-8B99-896CC347C8FC        0        13    NaN          0   \n",
       "AEEDCE35-83DC-4CCB-A81F-5912FB6FE5C6        0        13    NaN          0   \n",
       "DE419BDD-A882-4754-8AA5-6656AF1D37CE        0        22    NaN          0   \n",
       "\n",
       "                                      cref  months  dropout  rmonth  \n",
       "Id                                                                   \n",
       "4CA4608D-9366-46C7-9B51-7916E516B691     0       1        0      10  \n",
       "649D78E8-4C98-4397-AEDF-C6959AD959EA     0      25        0      10  \n",
       "6ABEE4C8-951A-4FE1-BF90-AAD1875AD582     0       1        0      10  \n",
       "A7438DA1-1801-4E73-8B99-896CC347C8FC     0       1        0      10  \n",
       "AEEDCE35-83DC-4CCB-A81F-5912FB6FE5C6     0       1        0      10  \n",
       "DE419BDD-A882-4754-8AA5-6656AF1D37CE     0       2        0       9  "
      ]
     },
     "execution_count": 33,
     "metadata": {},
     "output_type": "execute_result"
    }
   ],
   "source": [
    "# where are the nulls?\n",
    "dt[pd.isnull(dt['cfreq'])]"
   ]
  },
  {
   "cell_type": "code",
   "execution_count": 34,
   "metadata": {},
   "outputs": [
    {
     "data": {
      "text/plain": [
       "(6,)"
      ]
     },
     "execution_count": 34,
     "metadata": {},
     "output_type": "execute_result"
    }
   ],
   "source": [
    "# How many values are nulls?\n",
    "dt['cfreq'][pd.isnull(dt['cfreq'])].shape"
   ]
  },
  {
   "cell_type": "code",
   "execution_count": 35,
   "metadata": {},
   "outputs": [
    {
     "data": {
      "text/plain": [
       "(5216, 13)"
      ]
     },
     "execution_count": 35,
     "metadata": {},
     "output_type": "execute_result"
    }
   ],
   "source": [
    "dt.shape"
   ]
  },
  {
   "cell_type": "code",
   "execution_count": 36,
   "metadata": {},
   "outputs": [],
   "source": [
    "dt.dropna(axis=0,inplace=True)"
   ]
  },
  {
   "cell_type": "code",
   "execution_count": 37,
   "metadata": {},
   "outputs": [
    {
     "data": {
      "text/plain": [
       "(5210, 13)"
      ]
     },
     "execution_count": 37,
     "metadata": {},
     "output_type": "execute_result"
    }
   ],
   "source": [
    "dt.shape"
   ]
  },
  {
   "cell_type": "markdown",
   "metadata": {},
   "source": [
    "### Drop freeuse column\n",
    "The software used is also used to manage other sport facilities, such as swimming pools. In this study e only used customers that only perform fitness activities.The free use represents customers that in the past performed free use, which means that used to develop free swimming without a coach supervising their activity. That variable shouldn’t be in the study, and therefore we removed it."
   ]
  },
  {
   "cell_type": "code",
   "execution_count": 38,
   "metadata": {},
   "outputs": [],
   "source": [
    "dt.drop(axis=1,columns=['freeuse'],inplace=True)"
   ]
  },
  {
   "cell_type": "markdown",
   "metadata": {},
   "source": [
    "## Descriptives"
   ]
  },
  {
   "cell_type": "code",
   "execution_count": 39,
   "metadata": {},
   "outputs": [
    {
     "data": {
      "text/html": [
       "<div>\n",
       "<style scoped>\n",
       "    .dataframe tbody tr th:only-of-type {\n",
       "        vertical-align: middle;\n",
       "    }\n",
       "\n",
       "    .dataframe tbody tr th {\n",
       "        vertical-align: top;\n",
       "    }\n",
       "\n",
       "    .dataframe thead th {\n",
       "        text-align: right;\n",
       "    }\n",
       "</style>\n",
       "<table border=\"1\" class=\"dataframe\">\n",
       "  <thead>\n",
       "    <tr style=\"text-align: right;\">\n",
       "      <th></th>\n",
       "      <th>count</th>\n",
       "      <th>mean</th>\n",
       "      <th>std</th>\n",
       "      <th>min</th>\n",
       "      <th>25%</th>\n",
       "      <th>50%</th>\n",
       "      <th>75%</th>\n",
       "      <th>max</th>\n",
       "    </tr>\n",
       "  </thead>\n",
       "  <tbody>\n",
       "    <tr>\n",
       "      <th>age</th>\n",
       "      <td>5210.0</td>\n",
       "      <td>27.881766</td>\n",
       "      <td>11.804636</td>\n",
       "      <td>0.00</td>\n",
       "      <td>21.0000</td>\n",
       "      <td>23.00</td>\n",
       "      <td>30.00</td>\n",
       "      <td>93.00</td>\n",
       "    </tr>\n",
       "    <tr>\n",
       "      <th>sex</th>\n",
       "      <td>5210.0</td>\n",
       "      <td>0.351823</td>\n",
       "      <td>0.477585</td>\n",
       "      <td>0.00</td>\n",
       "      <td>0.0000</td>\n",
       "      <td>0.00</td>\n",
       "      <td>1.00</td>\n",
       "      <td>1.00</td>\n",
       "    </tr>\n",
       "    <tr>\n",
       "      <th>dayswfreq</th>\n",
       "      <td>5210.0</td>\n",
       "      <td>76.406526</td>\n",
       "      <td>101.792781</td>\n",
       "      <td>0.00</td>\n",
       "      <td>10.0000</td>\n",
       "      <td>41.00</td>\n",
       "      <td>99.00</td>\n",
       "      <td>991.00</td>\n",
       "    </tr>\n",
       "    <tr>\n",
       "      <th>tbilled</th>\n",
       "      <td>5210.0</td>\n",
       "      <td>155.314637</td>\n",
       "      <td>162.435028</td>\n",
       "      <td>3.60</td>\n",
       "      <td>61.6000</td>\n",
       "      <td>102.60</td>\n",
       "      <td>186.10</td>\n",
       "      <td>3747.20</td>\n",
       "    </tr>\n",
       "    <tr>\n",
       "      <th>maccess</th>\n",
       "      <td>5210.0</td>\n",
       "      <td>0.890616</td>\n",
       "      <td>0.761275</td>\n",
       "      <td>0.01</td>\n",
       "      <td>0.3325</td>\n",
       "      <td>0.68</td>\n",
       "      <td>1.21</td>\n",
       "      <td>10.33</td>\n",
       "    </tr>\n",
       "    <tr>\n",
       "      <th>nentries</th>\n",
       "      <td>5210.0</td>\n",
       "      <td>29.062188</td>\n",
       "      <td>41.149181</td>\n",
       "      <td>1.00</td>\n",
       "      <td>6.0000</td>\n",
       "      <td>15.00</td>\n",
       "      <td>34.75</td>\n",
       "      <td>585.00</td>\n",
       "    </tr>\n",
       "    <tr>\n",
       "      <th>cfreq</th>\n",
       "      <td>5210.0</td>\n",
       "      <td>6.861804</td>\n",
       "      <td>0.721352</td>\n",
       "      <td>2.00</td>\n",
       "      <td>7.0000</td>\n",
       "      <td>7.00</td>\n",
       "      <td>7.00</td>\n",
       "      <td>7.00</td>\n",
       "    </tr>\n",
       "    <tr>\n",
       "      <th>nrenewals</th>\n",
       "      <td>5210.0</td>\n",
       "      <td>0.777351</td>\n",
       "      <td>0.900260</td>\n",
       "      <td>0.00</td>\n",
       "      <td>0.0000</td>\n",
       "      <td>1.00</td>\n",
       "      <td>1.00</td>\n",
       "      <td>4.00</td>\n",
       "    </tr>\n",
       "    <tr>\n",
       "      <th>cref</th>\n",
       "      <td>5210.0</td>\n",
       "      <td>0.005566</td>\n",
       "      <td>0.076943</td>\n",
       "      <td>0.00</td>\n",
       "      <td>0.0000</td>\n",
       "      <td>0.00</td>\n",
       "      <td>0.00</td>\n",
       "      <td>2.00</td>\n",
       "    </tr>\n",
       "    <tr>\n",
       "      <th>months</th>\n",
       "      <td>5210.0</td>\n",
       "      <td>9.350288</td>\n",
       "      <td>8.215163</td>\n",
       "      <td>0.00</td>\n",
       "      <td>3.0000</td>\n",
       "      <td>7.00</td>\n",
       "      <td>12.00</td>\n",
       "      <td>47.00</td>\n",
       "    </tr>\n",
       "    <tr>\n",
       "      <th>dropout</th>\n",
       "      <td>5210.0</td>\n",
       "      <td>0.876392</td>\n",
       "      <td>0.329166</td>\n",
       "      <td>0.00</td>\n",
       "      <td>1.0000</td>\n",
       "      <td>1.00</td>\n",
       "      <td>1.00</td>\n",
       "      <td>1.00</td>\n",
       "    </tr>\n",
       "    <tr>\n",
       "      <th>rmonth</th>\n",
       "      <td>5210.0</td>\n",
       "      <td>6.721113</td>\n",
       "      <td>3.531276</td>\n",
       "      <td>1.00</td>\n",
       "      <td>3.0000</td>\n",
       "      <td>9.00</td>\n",
       "      <td>10.00</td>\n",
       "      <td>12.00</td>\n",
       "    </tr>\n",
       "  </tbody>\n",
       "</table>\n",
       "</div>"
      ],
      "text/plain": [
       "            count        mean         std   min      25%     50%     75%  \\\n",
       "age        5210.0   27.881766   11.804636  0.00  21.0000   23.00   30.00   \n",
       "sex        5210.0    0.351823    0.477585  0.00   0.0000    0.00    1.00   \n",
       "dayswfreq  5210.0   76.406526  101.792781  0.00  10.0000   41.00   99.00   \n",
       "tbilled    5210.0  155.314637  162.435028  3.60  61.6000  102.60  186.10   \n",
       "maccess    5210.0    0.890616    0.761275  0.01   0.3325    0.68    1.21   \n",
       "nentries   5210.0   29.062188   41.149181  1.00   6.0000   15.00   34.75   \n",
       "cfreq      5210.0    6.861804    0.721352  2.00   7.0000    7.00    7.00   \n",
       "nrenewals  5210.0    0.777351    0.900260  0.00   0.0000    1.00    1.00   \n",
       "cref       5210.0    0.005566    0.076943  0.00   0.0000    0.00    0.00   \n",
       "months     5210.0    9.350288    8.215163  0.00   3.0000    7.00   12.00   \n",
       "dropout    5210.0    0.876392    0.329166  0.00   1.0000    1.00    1.00   \n",
       "rmonth     5210.0    6.721113    3.531276  1.00   3.0000    9.00   10.00   \n",
       "\n",
       "               max  \n",
       "age          93.00  \n",
       "sex           1.00  \n",
       "dayswfreq   991.00  \n",
       "tbilled    3747.20  \n",
       "maccess      10.33  \n",
       "nentries    585.00  \n",
       "cfreq         7.00  \n",
       "nrenewals     4.00  \n",
       "cref          2.00  \n",
       "months       47.00  \n",
       "dropout       1.00  \n",
       "rmonth       12.00  "
      ]
     },
     "execution_count": 39,
     "metadata": {},
     "output_type": "execute_result"
    }
   ],
   "source": [
    "dt.describe().T"
   ]
  },
  {
   "cell_type": "markdown",
   "metadata": {},
   "source": [
    "### Checking Min age = 0\n",
    "There is something not well, minimum age of 0"
   ]
  },
  {
   "cell_type": "code",
   "execution_count": 40,
   "metadata": {},
   "outputs": [
    {
     "data": {
      "text/html": [
       "<div>\n",
       "<style scoped>\n",
       "    .dataframe tbody tr th:only-of-type {\n",
       "        vertical-align: middle;\n",
       "    }\n",
       "\n",
       "    .dataframe tbody tr th {\n",
       "        vertical-align: top;\n",
       "    }\n",
       "\n",
       "    .dataframe thead th {\n",
       "        text-align: right;\n",
       "    }\n",
       "</style>\n",
       "<table border=\"1\" class=\"dataframe\">\n",
       "  <thead>\n",
       "    <tr style=\"text-align: right;\">\n",
       "      <th>Id</th>\n",
       "      <th>352A9804-29B4-49CA-BDF1-EEC6453F38D5</th>\n",
       "      <th>5AE0C2F9-35F0-4EB4-AE2F-F7398E3C75BF</th>\n",
       "    </tr>\n",
       "  </thead>\n",
       "  <tbody>\n",
       "    <tr>\n",
       "      <th>age</th>\n",
       "      <td>9.00</td>\n",
       "      <td>0.0</td>\n",
       "    </tr>\n",
       "    <tr>\n",
       "      <th>sex</th>\n",
       "      <td>0.00</td>\n",
       "      <td>0.0</td>\n",
       "    </tr>\n",
       "    <tr>\n",
       "      <th>dayswfreq</th>\n",
       "      <td>204.00</td>\n",
       "      <td>118.0</td>\n",
       "    </tr>\n",
       "    <tr>\n",
       "      <th>tbilled</th>\n",
       "      <td>229.40</td>\n",
       "      <td>121.1</td>\n",
       "    </tr>\n",
       "    <tr>\n",
       "      <th>maccess</th>\n",
       "      <td>0.34</td>\n",
       "      <td>0.9</td>\n",
       "    </tr>\n",
       "    <tr>\n",
       "      <th>nentries</th>\n",
       "      <td>14.00</td>\n",
       "      <td>23.0</td>\n",
       "    </tr>\n",
       "    <tr>\n",
       "      <th>cfreq</th>\n",
       "      <td>4.00</td>\n",
       "      <td>7.0</td>\n",
       "    </tr>\n",
       "    <tr>\n",
       "      <th>nrenewals</th>\n",
       "      <td>1.00</td>\n",
       "      <td>1.0</td>\n",
       "    </tr>\n",
       "    <tr>\n",
       "      <th>cref</th>\n",
       "      <td>0.00</td>\n",
       "      <td>0.0</td>\n",
       "    </tr>\n",
       "    <tr>\n",
       "      <th>months</th>\n",
       "      <td>10.00</td>\n",
       "      <td>7.0</td>\n",
       "    </tr>\n",
       "    <tr>\n",
       "      <th>dropout</th>\n",
       "      <td>1.00</td>\n",
       "      <td>1.0</td>\n",
       "    </tr>\n",
       "    <tr>\n",
       "      <th>rmonth</th>\n",
       "      <td>11.00</td>\n",
       "      <td>2.0</td>\n",
       "    </tr>\n",
       "  </tbody>\n",
       "</table>\n",
       "</div>"
      ],
      "text/plain": [
       "Id         352A9804-29B4-49CA-BDF1-EEC6453F38D5  \\\n",
       "age                                        9.00   \n",
       "sex                                        0.00   \n",
       "dayswfreq                                204.00   \n",
       "tbilled                                  229.40   \n",
       "maccess                                    0.34   \n",
       "nentries                                  14.00   \n",
       "cfreq                                      4.00   \n",
       "nrenewals                                  1.00   \n",
       "cref                                       0.00   \n",
       "months                                    10.00   \n",
       "dropout                                    1.00   \n",
       "rmonth                                    11.00   \n",
       "\n",
       "Id         5AE0C2F9-35F0-4EB4-AE2F-F7398E3C75BF  \n",
       "age                                         0.0  \n",
       "sex                                         0.0  \n",
       "dayswfreq                                 118.0  \n",
       "tbilled                                   121.1  \n",
       "maccess                                     0.9  \n",
       "nentries                                   23.0  \n",
       "cfreq                                       7.0  \n",
       "nrenewals                                   1.0  \n",
       "cref                                        0.0  \n",
       "months                                      7.0  \n",
       "dropout                                     1.0  \n",
       "rmonth                                      2.0  "
      ]
     },
     "execution_count": 40,
     "metadata": {},
     "output_type": "execute_result"
    }
   ],
   "source": [
    "dt.loc[dt.age<10].T"
   ]
  },
  {
   "cell_type": "code",
   "execution_count": 41,
   "metadata": {},
   "outputs": [
    {
     "data": {
      "image/png": "[encoded data removed]",
      "text/plain": [
       "<Figure size 1440x360 with 1 Axes>"
      ]
     },
     "metadata": {
      "needs_background": "light"
     },
     "output_type": "display_data"
    }
   ],
   "source": [
    "plt.rcParams['figure.figsize'] = [20, 5]\n",
    "sns.countplot(x='age',data=dt,palette='rainbow').set_title('Customers by age')\n",
    "plt.xticks(rotation=45);"
   ]
  },
  {
   "cell_type": "markdown",
   "metadata": {},
   "source": [
    "### Remove the customer with age = 0"
   ]
  },
  {
   "cell_type": "code",
   "execution_count": 42,
   "metadata": {},
   "outputs": [],
   "source": [
    "dt=dt.loc[dt.age!=0]"
   ]
  },
  {
   "cell_type": "code",
   "execution_count": 43,
   "metadata": {},
   "outputs": [
    {
     "data": {
      "text/plain": [
       "0    3376\n",
       "1    1833\n",
       "Name: sex, dtype: int64"
      ]
     },
     "execution_count": 43,
     "metadata": {},
     "output_type": "execute_result"
    }
   ],
   "source": [
    "dt['sex'].value_counts()"
   ]
  },
  {
   "cell_type": "markdown",
   "metadata": {},
   "source": [
    "## Checking dataset balancing"
   ]
  },
  {
   "cell_type": "code",
   "execution_count": 44,
   "metadata": {},
   "outputs": [
    {
     "data": {
      "text/plain": [
       "1    4565\n",
       "0     644\n",
       "Name: dropout, dtype: int64"
      ]
     },
     "execution_count": 44,
     "metadata": {},
     "output_type": "execute_result"
    }
   ],
   "source": [
    "class_dropout=dt.dropout.value_counts()\n",
    "class_dropout"
   ]
  },
  {
   "cell_type": "code",
   "execution_count": 45,
   "metadata": {},
   "outputs": [
    {
     "name": "stdout",
     "output_type": "stream",
     "text": [
      "Minority class represents 12.363218\n"
     ]
    }
   ],
   "source": [
    "# checking classes \n",
    "# dropout customer\n",
    "print('Minority class represents %2f' %(class_dropout[0]/(class_dropout[0]+class_dropout[1])*100))"
   ]
  },
  {
   "cell_type": "markdown",
   "metadata": {},
   "source": [
    "The minority class represents 12.46% of the data. We are in the presence of imbalanced dataset customers that didn't dropout. We are going to address this using grid search to tune this parameter Based on this example: https://scikit-learn.org/stable/auto_examples/model_selection/plot_multi_metric_evaluation.html#sphx-glr-auto-examples-model-selection-plot-multi-metric-evaluation-py"
   ]
  },
  {
   "cell_type": "markdown",
   "metadata": {},
   "source": [
    "## Overall histograms"
   ]
  },
  {
   "cell_type": "code",
   "execution_count": 46,
   "metadata": {},
   "outputs": [
    {
     "data": {
      "image/png": "[encoded data removed]",
      "text/plain": [
       "<Figure size 1224x864 with 12 Axes>"
      ]
     },
     "metadata": {
      "needs_background": "light"
     },
     "output_type": "display_data"
    }
   ],
   "source": [
    "plt.rcParams['figure.figsize']=[17,12]\n",
    "dt.hist();"
   ]
  },
  {
   "cell_type": "markdown",
   "metadata": {},
   "source": [
    "# Dropout prediction\n",
    "\n",
    "1. Some data preparation\n",
    "2. Create dataset with features and prediction variable"
   ]
  },
  {
   "cell_type": "code",
   "execution_count": 47,
   "metadata": {},
   "outputs": [],
   "source": [
    "X=dt.copy()\n",
    "y=dt['dropout']\n",
    "X.drop(axis=1,columns=['dropout'],inplace=True)"
   ]
  },
  {
   "cell_type": "code",
   "execution_count": 48,
   "metadata": {},
   "outputs": [
    {
     "data": {
      "text/plain": [
       "Index(['age', 'sex', 'dayswfreq', 'tbilled', 'maccess', 'nentries', 'cfreq',\n",
       "       'nrenewals', 'cref', 'months', 'rmonth'],\n",
       "      dtype='object')"
      ]
     },
     "execution_count": 48,
     "metadata": {},
     "output_type": "execute_result"
    }
   ],
   "source": [
    "X.columns"
   ]
  },
  {
   "cell_type": "code",
   "execution_count": 49,
   "metadata": {},
   "outputs": [
    {
     "name": "stdout",
     "output_type": "stream",
     "text": [
      "<class 'pandas.core.frame.DataFrame'>\n",
      "Index: 5209 entries, 00130FE8-5D34-4C66-9819-1EB0BFE69979 to FFFB7214-F2FE-4AC0-8BD2-DB1CD47BDBEF\n",
      "Data columns (total 11 columns):\n",
      " #   Column     Non-Null Count  Dtype  \n",
      "---  ------     --------------  -----  \n",
      " 0   age        5209 non-null   int64  \n",
      " 1   sex        5209 non-null   int64  \n",
      " 2   dayswfreq  5209 non-null   int64  \n",
      " 3   tbilled    5209 non-null   float64\n",
      " 4   maccess    5209 non-null   float64\n",
      " 5   nentries   5209 non-null   int64  \n",
      " 6   cfreq      5209 non-null   float64\n",
      " 7   nrenewals  5209 non-null   int64  \n",
      " 8   cref       5209 non-null   int64  \n",
      " 9   months     5209 non-null   int64  \n",
      " 10  rmonth     5209 non-null   int64  \n",
      "dtypes: float64(3), int64(8)\n",
      "memory usage: 488.3+ KB\n"
     ]
    }
   ],
   "source": [
    "X.info()"
   ]
  },
  {
   "cell_type": "code",
   "execution_count": 50,
   "metadata": {},
   "outputs": [
    {
     "data": {
      "text/plain": [
       "Index(['age', 'sex', 'dayswfreq', 'tbilled', 'maccess', 'nentries', 'cfreq',\n",
       "       'nrenewals', 'cref', 'months', 'rmonth'],\n",
       "      dtype='object')"
      ]
     },
     "execution_count": 50,
     "metadata": {},
     "output_type": "execute_result"
    }
   ],
   "source": [
    "X.columns"
   ]
  },
  {
   "cell_type": "code",
   "execution_count": 51,
   "metadata": {},
   "outputs": [
    {
     "data": {
      "text/html": [
       "<div>\n",
       "<style scoped>\n",
       "    .dataframe tbody tr th:only-of-type {\n",
       "        vertical-align: middle;\n",
       "    }\n",
       "\n",
       "    .dataframe tbody tr th {\n",
       "        vertical-align: top;\n",
       "    }\n",
       "\n",
       "    .dataframe thead th {\n",
       "        text-align: right;\n",
       "    }\n",
       "</style>\n",
       "<table border=\"1\" class=\"dataframe\">\n",
       "  <thead>\n",
       "    <tr style=\"text-align: right;\">\n",
       "      <th></th>\n",
       "      <th>age</th>\n",
       "      <th>sex</th>\n",
       "      <th>dayswfreq</th>\n",
       "      <th>tbilled</th>\n",
       "      <th>maccess</th>\n",
       "      <th>nentries</th>\n",
       "      <th>cfreq</th>\n",
       "      <th>nrenewals</th>\n",
       "      <th>cref</th>\n",
       "      <th>months</th>\n",
       "      <th>rmonth</th>\n",
       "    </tr>\n",
       "  </thead>\n",
       "  <tbody>\n",
       "    <tr>\n",
       "      <th>count</th>\n",
       "      <td>5209.00</td>\n",
       "      <td>5209.00</td>\n",
       "      <td>5209.0</td>\n",
       "      <td>5209.00</td>\n",
       "      <td>5209.00</td>\n",
       "      <td>5209.00</td>\n",
       "      <td>5209.00</td>\n",
       "      <td>5209.00</td>\n",
       "      <td>5209.00</td>\n",
       "      <td>5209.00</td>\n",
       "      <td>5209.00</td>\n",
       "    </tr>\n",
       "    <tr>\n",
       "      <th>mean</th>\n",
       "      <td>27.89</td>\n",
       "      <td>0.35</td>\n",
       "      <td>76.4</td>\n",
       "      <td>155.32</td>\n",
       "      <td>0.89</td>\n",
       "      <td>29.06</td>\n",
       "      <td>6.86</td>\n",
       "      <td>0.78</td>\n",
       "      <td>0.01</td>\n",
       "      <td>9.35</td>\n",
       "      <td>6.72</td>\n",
       "    </tr>\n",
       "    <tr>\n",
       "      <th>std</th>\n",
       "      <td>11.80</td>\n",
       "      <td>0.48</td>\n",
       "      <td>101.8</td>\n",
       "      <td>162.45</td>\n",
       "      <td>0.76</td>\n",
       "      <td>41.15</td>\n",
       "      <td>0.72</td>\n",
       "      <td>0.90</td>\n",
       "      <td>0.08</td>\n",
       "      <td>8.22</td>\n",
       "      <td>3.53</td>\n",
       "    </tr>\n",
       "    <tr>\n",
       "      <th>min</th>\n",
       "      <td>9.00</td>\n",
       "      <td>0.00</td>\n",
       "      <td>0.0</td>\n",
       "      <td>3.60</td>\n",
       "      <td>0.01</td>\n",
       "      <td>1.00</td>\n",
       "      <td>2.00</td>\n",
       "      <td>0.00</td>\n",
       "      <td>0.00</td>\n",
       "      <td>0.00</td>\n",
       "      <td>1.00</td>\n",
       "    </tr>\n",
       "    <tr>\n",
       "      <th>25%</th>\n",
       "      <td>21.00</td>\n",
       "      <td>0.00</td>\n",
       "      <td>10.0</td>\n",
       "      <td>61.60</td>\n",
       "      <td>0.33</td>\n",
       "      <td>6.00</td>\n",
       "      <td>7.00</td>\n",
       "      <td>0.00</td>\n",
       "      <td>0.00</td>\n",
       "      <td>3.00</td>\n",
       "      <td>3.00</td>\n",
       "    </tr>\n",
       "    <tr>\n",
       "      <th>50%</th>\n",
       "      <td>23.00</td>\n",
       "      <td>0.00</td>\n",
       "      <td>41.0</td>\n",
       "      <td>102.60</td>\n",
       "      <td>0.68</td>\n",
       "      <td>15.00</td>\n",
       "      <td>7.00</td>\n",
       "      <td>1.00</td>\n",
       "      <td>0.00</td>\n",
       "      <td>7.00</td>\n",
       "      <td>9.00</td>\n",
       "    </tr>\n",
       "    <tr>\n",
       "      <th>75%</th>\n",
       "      <td>30.00</td>\n",
       "      <td>1.00</td>\n",
       "      <td>99.0</td>\n",
       "      <td>186.10</td>\n",
       "      <td>1.21</td>\n",
       "      <td>35.00</td>\n",
       "      <td>7.00</td>\n",
       "      <td>1.00</td>\n",
       "      <td>0.00</td>\n",
       "      <td>12.00</td>\n",
       "      <td>10.00</td>\n",
       "    </tr>\n",
       "    <tr>\n",
       "      <th>max</th>\n",
       "      <td>93.00</td>\n",
       "      <td>1.00</td>\n",
       "      <td>991.0</td>\n",
       "      <td>3747.20</td>\n",
       "      <td>10.33</td>\n",
       "      <td>585.00</td>\n",
       "      <td>7.00</td>\n",
       "      <td>4.00</td>\n",
       "      <td>2.00</td>\n",
       "      <td>47.00</td>\n",
       "      <td>12.00</td>\n",
       "    </tr>\n",
       "  </tbody>\n",
       "</table>\n",
       "</div>"
      ],
      "text/plain": [
       "           age      sex  dayswfreq  tbilled  maccess  nentries    cfreq  \\\n",
       "count  5209.00  5209.00     5209.0  5209.00  5209.00   5209.00  5209.00   \n",
       "mean     27.89     0.35       76.4   155.32     0.89     29.06     6.86   \n",
       "std      11.80     0.48      101.8   162.45     0.76     41.15     0.72   \n",
       "min       9.00     0.00        0.0     3.60     0.01      1.00     2.00   \n",
       "25%      21.00     0.00       10.0    61.60     0.33      6.00     7.00   \n",
       "50%      23.00     0.00       41.0   102.60     0.68     15.00     7.00   \n",
       "75%      30.00     1.00       99.0   186.10     1.21     35.00     7.00   \n",
       "max      93.00     1.00      991.0  3747.20    10.33    585.00     7.00   \n",
       "\n",
       "       nrenewals     cref   months   rmonth  \n",
       "count    5209.00  5209.00  5209.00  5209.00  \n",
       "mean        0.78     0.01     9.35     6.72  \n",
       "std         0.90     0.08     8.22     3.53  \n",
       "min         0.00     0.00     0.00     1.00  \n",
       "25%         0.00     0.00     3.00     3.00  \n",
       "50%         1.00     0.00     7.00     9.00  \n",
       "75%         1.00     0.00    12.00    10.00  \n",
       "max         4.00     2.00    47.00    12.00  "
      ]
     },
     "execution_count": 51,
     "metadata": {},
     "output_type": "execute_result"
    }
   ],
   "source": [
    "X.describe().round(decimals=2)"
   ]
  },
  {
   "cell_type": "code",
   "execution_count": 52,
   "metadata": {},
   "outputs": [
    {
     "data": {
      "text/plain": [
       "count    5209.00\n",
       "mean        0.88\n",
       "std         0.33\n",
       "min         0.00\n",
       "25%         1.00\n",
       "50%         1.00\n",
       "75%         1.00\n",
       "max         1.00\n",
       "Name: dropout, dtype: float64"
      ]
     },
     "execution_count": 52,
     "metadata": {},
     "output_type": "execute_result"
    }
   ],
   "source": [
    "y.describe().round(decimals=2)"
   ]
  },
  {
   "cell_type": "code",
   "execution_count": 53,
   "metadata": {},
   "outputs": [
    {
     "data": {
      "text/plain": [
       "<matplotlib.axes._subplots.AxesSubplot at 0x7fc54153f9e8>"
      ]
     },
     "execution_count": 53,
     "metadata": {},
     "output_type": "execute_result"
    },
    {
     "data": {
      "image/png": "[encoded data removed]",
      "text/plain": [
       "<Figure size 864x216 with 1 Axes>"
      ]
     },
     "metadata": {
      "needs_background": "light"
     },
     "output_type": "display_data"
    }
   ],
   "source": [
    "plt.rcParams['figure.figsize'] = [12, 3]\n",
    "X.age.hist(bins=20)"
   ]
  },
  {
   "cell_type": "code",
   "execution_count": 54,
   "metadata": {},
   "outputs": [
    {
     "data": {
      "text/plain": [
       "0    3376\n",
       "1    1833\n",
       "Name: sex, dtype: int64"
      ]
     },
     "execution_count": 54,
     "metadata": {},
     "output_type": "execute_result"
    }
   ],
   "source": [
    "X.sex.value_counts()"
   ]
  },
  {
   "cell_type": "markdown",
   "metadata": {},
   "source": [
    "## Comparison of the performance of the machine learning classifier"
   ]
  },
  {
   "cell_type": "markdown",
   "metadata": {},
   "source": [
    "__Create train/test__\n",
    "1. Following the proportion 2/3 for training and 1/3 for test (Kohavi 1995;Gama et al. 2017)\n",
    "2. To ensure the proportion of cases in the train/test the stratification was defined in the target variable\n",
    "3. Altought the class weights were optimized with grid-search best results were achieved with balanced.\n",
    "\n",
    "Balanced calculations are based in the following formula:\n",
    "\n",
    "$K_n=\\frac{n}{k.n_j}$\n",
    "where:\n",
    "- $n$ sample size\n",
    "- $k$ number of classes\n",
    "- $n_j$ observations in class j\n",
    "\n",
    "More details available in scikit-learn [docs](https://scikit-learn.org/stable/modules/generated/sklearn.utils.class_weight.compute_class_weight.html\n",
    ")."
   ]
  },
  {
   "cell_type": "markdown",
   "metadata": {},
   "source": [
    "12% of the data are customers that didn't dropout. We are going to address this using grid search to tune this parameter Based on this example: https://scikit-learn.org/stable/auto_examples/model_selection/plot_multi_metric_evaluation.html#sphx-glr-auto-examples-model-selection-plot-multi-metric-evaluation-py"
   ]
  },
  {
   "cell_type": "code",
   "execution_count": 72,
   "metadata": {},
   "outputs": [
    {
     "name": "stdout",
     "output_type": "stream",
     "text": [
      "1    4565\n",
      "0     644\n",
      "Name: dropout, dtype: int64\n",
      "class 1 4.044255 class 2 0.570537\n"
     ]
    }
   ],
   "source": [
    "# calculation class weights\n",
    "n=len(y)\n",
    "k=2\n",
    "print(y.value_counts())\n",
    "n0=np.bincount(y)[0]\n",
    "n1=np.bincount(y)[1]\n",
    "print('class 1 %2f class 2 %2f' % ((n/(2*n0)),(n/(k*n1))))"
   ]
  },
  {
   "cell_type": "code",
   "execution_count": 44,
   "metadata": {},
   "outputs": [
    {
     "name": "stdout",
     "output_type": "stream",
     "text": [
      "Size X_train: (3472, 11)\n",
      "Size X_test: (1737, 11)\n",
      "Size y_train: (3472,)\n",
      "Size y_test: (1737,)\n"
     ]
    }
   ],
   "source": [
    "X_train, X_test, y_train, y_test = train_test_split(X, y, train_size=2/3, stratify = y, random_state=0)\n",
    "print('Size X_train:',X_train.shape)\n",
    "print('Size X_test:',X_test.shape)\n",
    "print('Size y_train:',y_train.shape)\n",
    "print('Size y_test:',y_test.shape)"
   ]
  },
  {
   "cell_type": "markdown",
   "metadata": {},
   "source": [
    "### Confirm if the proportion of cases are maintained"
   ]
  },
  {
   "cell_type": "code",
   "execution_count": 45,
   "metadata": {},
   "outputs": [
    {
     "name": "stdout",
     "output_type": "stream",
     "text": [
      "base \t[ 644 4565] ratio 0.123632 \n",
      "y_train [ 429 3043] ratio 0.123632 \n",
      "y_test \t[ 215 1522] ratio 0.123632\n"
     ]
    }
   ],
   "source": [
    "print('base \\t%s ratio %2f \\ny_train %s ratio %2f \\ny_test \\t%s ratio %2f'\n",
    "      % (np.bincount(y), np.bincount(y)[0]/(np.bincount(y)[0]+np.bincount(y)[1]),\n",
    "         np.bincount(y_train),np.bincount(y)[0]/(np.bincount(y)[0]+np.bincount(y)[1]),\n",
    "         np.bincount(y_test), np.bincount(y)[0]/(np.bincount(y)[0]+np.bincount(y)[1])))"
   ]
  },
  {
   "cell_type": "markdown",
   "metadata": {},
   "source": [
    "### Model accuracies"
   ]
  },
  {
   "cell_type": "markdown",
   "metadata": {},
   "source": [
    "#### Logistic Regression"
   ]
  },
  {
   "cell_type": "code",
   "execution_count": 46,
   "metadata": {},
   "outputs": [
    {
     "data": {
      "text/plain": [
       "{'C': 1.0,\n",
       " 'class_weight': None,\n",
       " 'dual': False,\n",
       " 'fit_intercept': True,\n",
       " 'intercept_scaling': 1,\n",
       " 'l1_ratio': None,\n",
       " 'max_iter': 100,\n",
       " 'multi_class': 'auto',\n",
       " 'n_jobs': None,\n",
       " 'penalty': 'l2',\n",
       " 'random_state': None,\n",
       " 'solver': 'lbfgs',\n",
       " 'tol': 0.0001,\n",
       " 'verbose': 0,\n",
       " 'warm_start': False}"
      ]
     },
     "execution_count": 46,
     "metadata": {},
     "output_type": "execute_result"
    }
   ],
   "source": [
    "# getting params that can be optimized in gridsearch\n",
    "LogisticRegression().get_params()"
   ]
  },
  {
   "cell_type": "code",
   "execution_count": 47,
   "metadata": {},
   "outputs": [],
   "source": [
    "solvers = ['newton-cg', 'lbfgs', 'liblinear']\n",
    "penalty = ['l1', 'l2', 'elasticnet', 'none']\n",
    "c_values = [100, 10, 1.0, 0.1, 0.01]\n",
    "# define grid search\n",
    "grid = dict(solver=solvers,penalty=penalty,C=c_values)"
   ]
  },
  {
   "cell_type": "code",
   "execution_count": 48,
   "metadata": {},
   "outputs": [
    {
     "name": "stdout",
     "output_type": "stream",
     "text": [
      "best params {'C': 1.0, 'penalty': 'l2', 'solver': 'liblinear'}\n",
      "best AUC score: 0.8417935009968195\n",
      "execution time: 143.2659125328064\n"
     ]
    }
   ],
   "source": [
    "start_time = time.time()\n",
    "\n",
    "scoring = {'AUC': 'roc_auc'}\n",
    "gs = GridSearchCV(estimator = LogisticRegression(random_state=42, class_weight={0: 4.0, 1: 0.571}),\n",
    "                  param_grid=grid,\n",
    "                  scoring=scoring, \n",
    "                  refit='AUC', \n",
    "                  return_train_score=True)\n",
    "grid_result = gs.fit(X_train,y_train)\n",
    "print('best params',grid_result.best_params_)\n",
    "print('best AUC score:',grid_result.best_score_)\n",
    "print('execution time:',time.time()-start_time)"
   ]
  },
  {
   "cell_type": "code",
   "execution_count": 49,
   "metadata": {},
   "outputs": [
    {
     "name": "stdout",
     "output_type": "stream",
     "text": [
      "              precision    recall  f1-score   support\n",
      "\n",
      "           0       0.34      0.79      0.48       215\n",
      "           1       0.96      0.79      0.87      1522\n",
      "\n",
      "    accuracy                           0.79      1737\n",
      "   macro avg       0.65      0.79      0.67      1737\n",
      "weighted avg       0.89      0.79      0.82      1737\n",
      "\n",
      "[[ 169   46]\n",
      " [ 327 1195]]\n",
      "AUC 0.7855988142896433\n",
      "AUC_ROC (0.7587821295307224, 0.8124154990485641)\n"
     ]
    }
   ],
   "source": [
    "model_LR = LogisticRegression(C=1.0,penalty='l2', solver='liblinear' , random_state=42, class_weight={0: 4.0, 1: 0.571})\n",
    "model_LR.fit(X_train,y_train)\n",
    "y_pred_lr = model_LR.predict(X_test)\n",
    "print(metrics.classification_report(y_test,y_pred_lr))\n",
    "print(metrics.confusion_matrix(y_test,y_pred_lr))\n",
    "#print(\"Features sorted by their score:\") Logistic regression dont allow to sort features by their score\n",
    "#print(sorted(zip(map(lambda x: float(\"{0:.2f}\".format(round(x, 4))), model.feature_importances_), X_train.columns),reverse=True))\n",
    "matrix_LR=metrics.confusion_matrix(y_test, y_pred_lr)\n",
    "print('AUC',metrics.roc_auc_score(y_test, y_pred_lr))\n",
    "print('AUC_ROC',roc_auc_ci(y_test,y_pred_lr))"
   ]
  },
  {
   "cell_type": "markdown",
   "metadata": {},
   "source": [
    "$ \\begin{align} sensivity = \\frac{TP}{TP+FN} \\end{align} $\n",
    "$ \\begin{align} specificity = \\frac{TN}{TN+FP} \\end{align} $\n",
    "$ \\begin{align} precision = \\frac{TP}{TP+FP} \\end{align} $\n",
    "$ \\begin{align} F-Score = \\frac{2xTP}{2xTP+FP+FN} \\end{align} $\n",
    "\n",
    "**Logistic regression**\n",
    "\n",
    "|  &nbsp; | &nbsp; |real<br/>pos|<br/>neg |\n",
    "|---------|--------|:----------:|--------:|\n",
    "|Pre      | Pos    |     169    |     46  |\n",
    "|  &nbsp; | Neg    |     327    |    1195 |\n",
    "\n",
    "- Sensitity = TP/(TP+FN) = 169/(169+327) = 0.34 <br/>\n",
    "- Specificity = TN/(TN+FP) = 1195/(1195+46) = 0.96 <br/>\n",
    "- Precision = TP / (TP+FP) = 169/(169+46) = 0.79 <br/>\n",
    "- F1Score = 2TP/(2TP+FP+FN) = 2x169/(2x169+46+327) = 0.47"
   ]
  },
  {
   "cell_type": "code",
   "execution_count": 50,
   "metadata": {},
   "outputs": [
    {
     "name": "stdout",
     "output_type": "stream",
     "text": [
      "sensitivity 0.340726, specificity 0.962933, precision 0.786047, f1score 0.475387\n"
     ]
    }
   ],
   "source": [
    "print('sensitivity %f, specificity %f, precision %f, f1score %f' %((169/(169+327)),1195/(1195+46),169/(169+46),2*169/(2*169+46+327)))"
   ]
  },
  {
   "cell_type": "markdown",
   "metadata": {},
   "source": [
    "#### DecisionTreeClassifier"
   ]
  },
  {
   "cell_type": "code",
   "execution_count": 51,
   "metadata": {},
   "outputs": [
    {
     "data": {
      "text/plain": [
       "{'ccp_alpha': 0.0,\n",
       " 'class_weight': None,\n",
       " 'criterion': 'gini',\n",
       " 'max_depth': None,\n",
       " 'max_features': None,\n",
       " 'max_leaf_nodes': None,\n",
       " 'min_impurity_decrease': 0.0,\n",
       " 'min_impurity_split': None,\n",
       " 'min_samples_leaf': 1,\n",
       " 'min_samples_split': 2,\n",
       " 'min_weight_fraction_leaf': 0.0,\n",
       " 'presort': 'deprecated',\n",
       " 'random_state': None,\n",
       " 'splitter': 'best'}"
      ]
     },
     "execution_count": 51,
     "metadata": {},
     "output_type": "execute_result"
    }
   ],
   "source": [
    "DecisionTreeClassifier().get_params()"
   ]
  },
  {
   "cell_type": "code",
   "execution_count": 52,
   "metadata": {},
   "outputs": [],
   "source": [
    "max_features = ['auto', 'sqrt', 'log2','None']\n",
    "max_depth = [3,4,5,6,7,8]\n",
    "criterion = ['gini', 'entropy']\n",
    "class_weight = [\"balanced\", \"balanced_subsample\"]\n",
    "\n",
    "# define grid search\n",
    "grid = dict(max_features=max_features,max_depth=max_depth, criterion=criterion, class_weight = class_weight)"
   ]
  },
  {
   "cell_type": "code",
   "execution_count": 53,
   "metadata": {},
   "outputs": [
    {
     "name": "stdout",
     "output_type": "stream",
     "text": [
      "best params {'class_weight': 'balanced', 'criterion': 'entropy', 'max_depth': 5, 'max_features': 'auto'}\n",
      "best AUC score: 0.8905878914421885\n",
      "execution time: 1.8378710746765137\n"
     ]
    }
   ],
   "source": [
    "start_time = time.time()\n",
    "\n",
    "scoring = {'AUC': 'roc_auc'}\n",
    "gs = GridSearchCV(estimator = DecisionTreeClassifier(random_state=42),\n",
    "                  param_grid=grid,\n",
    "                  scoring=scoring, \n",
    "                  refit='AUC', \n",
    "                  return_train_score=True)\n",
    "grid_result = gs.fit(X_train,y_train)\n",
    "print('best params',grid_result.best_params_)\n",
    "print('best AUC score:',grid_result.best_score_)\n",
    "print('execution time:',time.time()-start_time)"
   ]
  },
  {
   "cell_type": "markdown",
   "metadata": {},
   "source": [
    "Class balanced is calculated using this formula $K_n=\\frac{n}{k.n_j}$ so we mantain class_weight={0: 4.0, 1: 0.571}"
   ]
  },
  {
   "cell_type": "code",
   "execution_count": 55,
   "metadata": {},
   "outputs": [
    {
     "name": "stdout",
     "output_type": "stream",
     "text": [
      "              precision    recall  f1-score   support\n",
      "\n",
      "           0       0.51      0.80      0.62       215\n",
      "           1       0.97      0.89      0.93      1522\n",
      "\n",
      "    accuracy                           0.88      1737\n",
      "   macro avg       0.74      0.85      0.78      1737\n",
      "weighted avg       0.91      0.88      0.89      1737\n",
      "\n",
      "[[ 173   42]\n",
      " [ 166 1356]]\n",
      "Features sorted by their score:\n",
      "[(0.55, 'dayswfreq'), (0.16, 'tbilled'), (0.13, 'months'), (0.08, 'nrenewals'), (0.02, 'rmonth'), (0.02, 'age'), (0.01, 'nentries'), (0.01, 'maccess'), (0.0, 'sex'), (0.0, 'cref'), (0.0, 'cfreq')]\n",
      "AUCROC: 0.847792072853956\n",
      "AUC_ROC_CI (0.8264697551172449, 0.8691143905906671)\n"
     ]
    }
   ],
   "source": [
    "model_DTC = DecisionTreeClassifier(class_weight={0: 4.0, 1: 0.571}, criterion='entropy',max_depth = 5, max_features='auto', random_state=42)\n",
    "model_DTC.fit(X_train,y_train)\n",
    "y_pred_dtc = model_DTC.predict(X_test)\n",
    "print(metrics.classification_report(y_test,y_pred_dtc))\n",
    "print(metrics.confusion_matrix(y_test,y_pred_dtc))\n",
    "print(\"Features sorted by their score:\")\n",
    "print(sorted(zip(map(lambda x: float(\"{0:.2f}\".format(round(x, 4))), model_DTC.feature_importances_), X_train.columns),reverse=True))\n",
    "matrix_DTC=metrics.confusion_matrix(y_test, y_pred_dtc)\n",
    "print('AUCROC:',metrics.roc_auc_score(y_test, y_pred_dtc))\n",
    "print('AUC_ROC_CI',roc_auc_ci(y_test,y_pred_dtc))"
   ]
  },
  {
   "cell_type": "markdown",
   "metadata": {},
   "source": [
    "$ \\begin{align} sensivity = \\frac{TP}{TP+FN} \\end{align} $\n",
    "$ \\begin{align} specificity = \\frac{TN}{TN+FP} \\end{align} $\n",
    "$ \\begin{align} precision = \\frac{TP}{TP+FP} \\end{align} $\n",
    "$ \\begin{align} F-Score = \\frac{2xTP}{2xTP+FP+FN} \\end{align} $\n",
    "\n",
    "**Decision Tree Classifier**\n",
    "\n",
    "\n",
    "|  &nbsp; | &nbsp; |real<br/>pos|<br/>neg |\n",
    "|---------|--------|:----------:|--------:|\n",
    "|Pre      | Pos    |     173    |     42  |\n",
    "|  &nbsp; | Neg    |     166    |    1356 |\n",
    "\n",
    "- Sensivity = TP/(TP+FN) = 173/(173+166) = 0.51 <br/>\n",
    "- Specificity = TN/(TN+FP) = 1356/(1356+42) = 0.970 <br/>\n",
    "- Precision = TP / (TP+FP) = 173/(173+42) = 0.805 <br/>\n",
    "- F1Score = 2TP/(2TP+FP+FN) = 2x173/(2x173+42+166) = 0.625"
   ]
  },
  {
   "cell_type": "code",
   "execution_count": 56,
   "metadata": {},
   "outputs": [
    {
     "name": "stdout",
     "output_type": "stream",
     "text": [
      "sensitivy 0.510324, specificity 0.969957, precision 0.804651, f1score 0.624549\n"
     ]
    }
   ],
   "source": [
    "print('sensitivy %f, specificity %f, precision %f, f1score %f' %((173/(173+166)),1356/(1356+42),173/(173+42), 2*173/(2*173+42+166)))"
   ]
  },
  {
   "cell_type": "markdown",
   "metadata": {},
   "source": [
    "#### Random Forest Classifier"
   ]
  },
  {
   "cell_type": "code",
   "execution_count": 57,
   "metadata": {},
   "outputs": [
    {
     "data": {
      "text/plain": [
       "{'bootstrap': True,\n",
       " 'ccp_alpha': 0.0,\n",
       " 'class_weight': None,\n",
       " 'criterion': 'gini',\n",
       " 'max_depth': None,\n",
       " 'max_features': 'auto',\n",
       " 'max_leaf_nodes': None,\n",
       " 'max_samples': None,\n",
       " 'min_impurity_decrease': 0.0,\n",
       " 'min_impurity_split': None,\n",
       " 'min_samples_leaf': 1,\n",
       " 'min_samples_split': 2,\n",
       " 'min_weight_fraction_leaf': 0.0,\n",
       " 'n_estimators': 100,\n",
       " 'n_jobs': None,\n",
       " 'oob_score': False,\n",
       " 'random_state': None,\n",
       " 'verbose': 0,\n",
       " 'warm_start': False}"
      ]
     },
     "execution_count": 57,
     "metadata": {},
     "output_type": "execute_result"
    }
   ],
   "source": [
    "RandomForestClassifier().get_params()"
   ]
  },
  {
   "cell_type": "code",
   "execution_count": 58,
   "metadata": {},
   "outputs": [],
   "source": [
    "n_estimators = [100,200, 500]\n",
    "max_features = ['auto', 'sqrt', 'log2','None']\n",
    "max_depth = [4,5,6,7,8]\n",
    "criterion = ['gini', 'entropy']\n",
    "class_weight = [\"balanced\", \"balanced_subsample\"]\n",
    "\n",
    "# define grid search\n",
    "grid = dict(n_estimators = n_estimators,max_features=max_features,max_depth=max_depth, criterion=criterion, class_weight = class_weight)"
   ]
  },
  {
   "cell_type": "code",
   "execution_count": 59,
   "metadata": {},
   "outputs": [
    {
     "name": "stdout",
     "output_type": "stream",
     "text": [
      "best params {'class_weight': 'balanced', 'criterion': 'gini', 'max_depth': 8, 'max_features': 'auto', 'n_estimators': 500}\n",
      "best AUC score: 0.9517397641853348\n",
      "execution time: 696.2199819087982\n"
     ]
    }
   ],
   "source": [
    "start_time = time.time()\n",
    "X_train, X_test, y_train, y_test = train_test_split(X, y, train_size=2/3, stratify = y, random_state=0)\n",
    "\n",
    "scoring = {'AUC': 'roc_auc'}\n",
    "gs = GridSearchCV(estimator = RandomForestClassifier(random_state=42),\n",
    "                  param_grid=grid,\n",
    "                  scoring=scoring, \n",
    "                  refit='AUC', \n",
    "                  return_train_score=True)\n",
    "grid_result = gs.fit(X_train,y_train)\n",
    "print('best params',grid_result.best_params_)\n",
    "print('best AUC score:',grid_result.best_score_)\n",
    "print('execution time:',time.time()-start_time)"
   ]
  },
  {
   "cell_type": "code",
   "execution_count": 61,
   "metadata": {},
   "outputs": [
    {
     "name": "stdout",
     "output_type": "stream",
     "text": [
      "              precision    recall  f1-score   support\n",
      "\n",
      "           0       0.65      0.79      0.71       215\n",
      "           1       0.97      0.94      0.95      1522\n",
      "\n",
      "    accuracy                           0.92      1737\n",
      "   macro avg       0.81      0.86      0.83      1737\n",
      "weighted avg       0.93      0.92      0.92      1737\n",
      "\n",
      "[[ 170   45]\n",
      " [  93 1429]]\n",
      "Features sorted by their score:\n",
      "[(0.43, 'dayswfreq'), (0.14, 'months'), (0.1, 'tbilled'), (0.08, 'maccess'), (0.07, 'age'), (0.06, 'rmonth'), (0.06, 'nentries'), (0.05, 'nrenewals'), (0.01, 'sex'), (0.01, 'cfreq'), (0.0, 'cref')]\n",
      "AUC 0.8647969318216544\n",
      "AUCROC: 0.8647969318216544\n",
      "AUC_ROC_CI (0.8451435573967021, 0.8844503062466067)\n"
     ]
    }
   ],
   "source": [
    "model_RFC = RandomForestClassifier(class_weight='balanced',criterion='gini',max_depth=8,max_features='auto',\n",
    "                                   n_estimators=500, random_state=42)\n",
    "model_RFC.fit(X_train,y_train)\n",
    "y_pred_rfc = model_RFC.predict(X_test)\n",
    "print(metrics.classification_report(y_test,y_pred_rfc))\n",
    "print(metrics.confusion_matrix(y_test,y_pred_rfc))\n",
    "print(\"Features sorted by their score:\")\n",
    "print(sorted(zip(map(lambda x: float(\"{0:.2f}\".format(round(x, 4))), model_RFC.feature_importances_), X_train.columns),reverse=True))\n",
    "matrix_RFC=metrics.confusion_matrix(y_test, y_pred_rfc)\n",
    "print('AUC',metrics.roc_auc_score(y_test, y_pred_rfc))\n",
    "print('AUCROC:',metrics.roc_auc_score(y_test, y_pred_rfc))\n",
    "print('AUC_ROC_CI',roc_auc_ci(y_test,y_pred_rfc))"
   ]
  },
  {
   "cell_type": "markdown",
   "metadata": {},
   "source": [
    "$ \\begin{align} sensivity = \\frac{TP}{TP+FN} \\end{align} $ \n",
    "$ \\begin{align} specificity = \\frac{TN}{TN+FP} \\end{align} $\n",
    "$ \\begin{align} precision = \\frac{TP}{TP+FP} \\end{align} $\n",
    "$ \\begin{align} F-Score = \\frac{2xTP}{2xTP+FP+FN} \\end{align} $\n",
    "\n",
    "**Random Forest Classifier**\n",
    "\n",
    "|  &nbsp; | &nbsp; |real<br/>pos|<br/>neg |\n",
    "|---------|--------|:----------:|--------:|\n",
    "|Pre      | Pos    |     170    |     45  |\n",
    "|  &nbsp; | Neg    |      93    |    1429 |\n",
    "\n",
    "- Sensivity = TP/(TP+FN) = 170/(170+93) = 0.647 <br/>\n",
    "- Specificity = TN/(TN+FP) = 1429/(1429+45) = 0.969 <br/>\n",
    "- Precision = TP / (TP+FP) = 170/(170+45) = 0.790 <br/>\n",
    "- F1Score = 2TP/(2TP+FP+FN) = 2x170/(2x170+45+93) = 0.711"
   ]
  },
  {
   "cell_type": "code",
   "execution_count": 63,
   "metadata": {},
   "outputs": [
    {
     "name": "stdout",
     "output_type": "stream",
     "text": [
      "sensitivy 0.646388, specificity 0.969471, precision 0.790698, f1score 0.711297\n"
     ]
    }
   ],
   "source": [
    "print('sensitivy %f, specificity %f, precision %f, f1score %f' %(170/(170+93),1429/(1429+45),170/(170+45), 2*170/(2*170+45+93)))"
   ]
  },
  {
   "cell_type": "markdown",
   "metadata": {},
   "source": [
    "#### Gradient Boosting Classifier"
   ]
  },
  {
   "cell_type": "code",
   "execution_count": 64,
   "metadata": {},
   "outputs": [
    {
     "data": {
      "text/plain": [
       "{'ccp_alpha': 0.0,\n",
       " 'criterion': 'friedman_mse',\n",
       " 'init': None,\n",
       " 'learning_rate': 0.1,\n",
       " 'loss': 'deviance',\n",
       " 'max_depth': 3,\n",
       " 'max_features': None,\n",
       " 'max_leaf_nodes': None,\n",
       " 'min_impurity_decrease': 0.0,\n",
       " 'min_impurity_split': None,\n",
       " 'min_samples_leaf': 1,\n",
       " 'min_samples_split': 2,\n",
       " 'min_weight_fraction_leaf': 0.0,\n",
       " 'n_estimators': 100,\n",
       " 'n_iter_no_change': None,\n",
       " 'presort': 'deprecated',\n",
       " 'random_state': None,\n",
       " 'subsample': 1.0,\n",
       " 'tol': 0.0001,\n",
       " 'validation_fraction': 0.1,\n",
       " 'verbose': 0,\n",
       " 'warm_start': False}"
      ]
     },
     "execution_count": 64,
     "metadata": {},
     "output_type": "execute_result"
    }
   ],
   "source": [
    "GradientBoostingClassifier().get_params()"
   ]
  },
  {
   "cell_type": "code",
   "execution_count": 65,
   "metadata": {},
   "outputs": [],
   "source": [
    "n_estimators = [100, 200, 500]\n",
    "max_features = ['auto', 'sqrt', 'log2','None']\n",
    "max_depth = [3,4,5,6,7,8]\n",
    "\n",
    "# define grid search\n",
    "grid = dict(n_estimators = n_estimators,max_features=max_features,max_depth=max_depth)"
   ]
  },
  {
   "cell_type": "code",
   "execution_count": 66,
   "metadata": {},
   "outputs": [
    {
     "name": "stdout",
     "output_type": "stream",
     "text": [
      "best params {'max_depth': 6, 'max_features': 'sqrt', 'n_estimators': 500}\n",
      "best AUC score: 0.965127764396604\n",
      "execution time: 248.593403339386\n"
     ]
    }
   ],
   "source": [
    "start_time = time.time()\n",
    "X_train, X_test, y_train, y_test = train_test_split(X, y, train_size=2/3, stratify = y, random_state=0)\n",
    "\n",
    "scoring = {'AUC': 'roc_auc'}\n",
    "gs = GridSearchCV(estimator = GradientBoostingClassifier(random_state=42),\n",
    "                  param_grid=grid,\n",
    "                  scoring=scoring, \n",
    "                  refit='AUC', \n",
    "                  return_train_score=True)\n",
    "grid_result = gs.fit(X_train,y_train)\n",
    "print('best params',grid_result.best_params_)\n",
    "print('best AUC score:',grid_result.best_score_)\n",
    "print('execution time:',time.time()-start_time)"
   ]
  },
  {
   "cell_type": "code",
   "execution_count": 67,
   "metadata": {},
   "outputs": [
    {
     "name": "stdout",
     "output_type": "stream",
     "text": [
      "              precision    recall  f1-score   support\n",
      "\n",
      "           0       0.88      0.73      0.80       215\n",
      "           1       0.96      0.99      0.97      1522\n",
      "\n",
      "    accuracy                           0.96      1737\n",
      "   macro avg       0.92      0.86      0.89      1737\n",
      "weighted avg       0.95      0.96      0.95      1737\n",
      "\n",
      "[[ 158   57]\n",
      " [  21 1501]]\n",
      "Features sorted by their score:\n",
      "[(0.35, 'dayswfreq'), (0.15, 'months'), (0.14, 'tbilled'), (0.07, 'rmonth'), (0.07, 'nentries'), (0.07, 'maccess'), (0.07, 'age'), (0.06, 'nrenewals'), (0.01, 'sex'), (0.01, 'cfreq'), (0.0, 'cref')]\n",
      "AUCROC: 0.8605430431195183\n",
      "AUC_ROC_CI (0.8404650542744497, 0.880621031964587)\n"
     ]
    }
   ],
   "source": [
    "model_gbc = GradientBoostingClassifier(max_depth=6,max_features='sqrt',n_estimators=500, random_state=42)\n",
    "model_gbc.fit(X_train,y_train)\n",
    "y_pred_gbc = model_gbc.predict(X_test)\n",
    "print(metrics.classification_report(y_test,y_pred_gbc))\n",
    "print(metrics.confusion_matrix(y_test,y_pred_gbc))\n",
    "print(\"Features sorted by their score:\")\n",
    "print(sorted(zip(map(lambda x: float(\"{0:.2f}\".format(round(x, 4))), model_gbc.feature_importances_), X_train.columns),reverse=True))\n",
    "matrix_GBC=metrics.confusion_matrix(y_test, y_pred_gbc)\n",
    "print('AUCROC:',metrics.roc_auc_score(y_test, y_pred_gbc))\n",
    "print('AUC_ROC_CI',roc_auc_ci(y_test,y_pred_gbc))"
   ]
  },
  {
   "cell_type": "markdown",
   "metadata": {},
   "source": [
    "$ \\begin{align} sensivity = \\frac{TP}{TP+FN} \\end{align} $ \n",
    "$ \\begin{align} specificity = \\frac{TN}{TN+FP} \\end{align} $\n",
    "$ \\begin{align} precision = \\frac{TP}{TP+FP} \\end{align} $\n",
    "$ \\begin{align} F-Score = \\frac{2xTP}{2xTP+FP+FN} \\end{align} $\n",
    "\n",
    "**Gradient Boosting Classifier**\n",
    "\n",
    "|  &nbsp; | &nbsp; |real<br/>pos|<br/>neg |\n",
    "|---------|--------|:----------:|--------:|\n",
    "|Pre      | Pos    |     158    |      57 |\n",
    "|  &nbsp; | Neg    |      21    |    1501 |\n",
    "\n",
    "- Sensivity = TP/(TP+FN) = 158/(158+21) = 0.887 <br/>\n",
    "- Specificity = TN/(TN+FP) = 1501/(1501+57) = 0.968 <br/>\n",
    "- Precision = TP / (TP+FP) = 158/(158+57) = 0.760 <br/>\n",
    "- F1Score = 2TP/(2TP+FP+FN) = 2x158/(2x158+57+21) = 0.8"
   ]
  },
  {
   "cell_type": "code",
   "execution_count": 69,
   "metadata": {},
   "outputs": [
    {
     "name": "stdout",
     "output_type": "stream",
     "text": [
      "sensitivy 0.882682, specificity 0.963415, precision 0.734884, f1score 0.802030\n"
     ]
    }
   ],
   "source": [
    "print('sensitivy %f, specificity %f, precision %f, f1score %f' %(158/(158+21),1501/(1501+57),158/(158+57), 2*158/(2*158+57+21)))"
   ]
  },
  {
   "cell_type": "markdown",
   "metadata": {},
   "source": [
    "## Variable importance"
   ]
  },
  {
   "cell_type": "markdown",
   "metadata": {},
   "source": [
    "Logistic Regression doesn't have feature importance. We are working in a classification problem with classes 0 and 1. The coefficients are  positive and negative, the positive represents a feature that predicts class 1,the negative scores a feature that predicts class 0."
   ]
  },
  {
   "cell_type": "code",
   "execution_count": 83,
   "metadata": {},
   "outputs": [
    {
     "data": {
      "text/plain": [
       "Index(['age', 'sex', 'dayswfreq', 'tbilled', 'maccess', 'nentries', 'cfreq',\n",
       "       'nrenewals', 'cref', 'months', 'rmonth'],\n",
       "      dtype='object')"
      ]
     },
     "execution_count": 83,
     "metadata": {},
     "output_type": "execute_result"
    }
   ],
   "source": [
    "X_test.columns"
   ]
  },
  {
   "cell_type": "code",
   "execution_count": 82,
   "metadata": {},
   "outputs": [
    {
     "data": {
      "text/html": [
       "<div>\n",
       "<style scoped>\n",
       "    .dataframe tbody tr th:only-of-type {\n",
       "        vertical-align: middle;\n",
       "    }\n",
       "\n",
       "    .dataframe tbody tr th {\n",
       "        vertical-align: top;\n",
       "    }\n",
       "\n",
       "    .dataframe thead th {\n",
       "        text-align: right;\n",
       "    }\n",
       "</style>\n",
       "<table border=\"1\" class=\"dataframe\">\n",
       "  <thead>\n",
       "    <tr style=\"text-align: right;\">\n",
       "      <th></th>\n",
       "      <th>0</th>\n",
       "      <th>1</th>\n",
       "    </tr>\n",
       "  </thead>\n",
       "  <tbody>\n",
       "    <tr>\n",
       "      <th>0</th>\n",
       "      <td>0.019923</td>\n",
       "      <td>age</td>\n",
       "    </tr>\n",
       "    <tr>\n",
       "      <th>1</th>\n",
       "      <td>0.002618</td>\n",
       "      <td>sex</td>\n",
       "    </tr>\n",
       "    <tr>\n",
       "      <th>2</th>\n",
       "      <td>0.553739</td>\n",
       "      <td>dayswfreq</td>\n",
       "    </tr>\n",
       "    <tr>\n",
       "      <th>3</th>\n",
       "      <td>0.163024</td>\n",
       "      <td>tbilled</td>\n",
       "    </tr>\n",
       "    <tr>\n",
       "      <th>4</th>\n",
       "      <td>0.008315</td>\n",
       "      <td>maccess</td>\n",
       "    </tr>\n",
       "    <tr>\n",
       "      <th>5</th>\n",
       "      <td>0.010938</td>\n",
       "      <td>nentries</td>\n",
       "    </tr>\n",
       "    <tr>\n",
       "      <th>6</th>\n",
       "      <td>0.001052</td>\n",
       "      <td>cfreq</td>\n",
       "    </tr>\n",
       "    <tr>\n",
       "      <th>7</th>\n",
       "      <td>0.084032</td>\n",
       "      <td>nrenewals</td>\n",
       "    </tr>\n",
       "    <tr>\n",
       "      <th>8</th>\n",
       "      <td>0.000000</td>\n",
       "      <td>cref</td>\n",
       "    </tr>\n",
       "    <tr>\n",
       "      <th>9</th>\n",
       "      <td>0.134492</td>\n",
       "      <td>months</td>\n",
       "    </tr>\n",
       "    <tr>\n",
       "      <th>10</th>\n",
       "      <td>0.021867</td>\n",
       "      <td>rmonth</td>\n",
       "    </tr>\n",
       "  </tbody>\n",
       "</table>\n",
       "</div>"
      ],
      "text/plain": [
       "           0          1\n",
       "0   0.019923        age\n",
       "1   0.002618        sex\n",
       "2   0.553739  dayswfreq\n",
       "3   0.163024    tbilled\n",
       "4   0.008315    maccess\n",
       "5   0.010938   nentries\n",
       "6   0.001052      cfreq\n",
       "7   0.084032  nrenewals\n",
       "8   0.000000       cref\n",
       "9   0.134492     months\n",
       "10  0.021867     rmonth"
      ]
     },
     "execution_count": 82,
     "metadata": {},
     "output_type": "execute_result"
    }
   ],
   "source": [
    "pd.DataFrame(list(zip(model_DTC.feature_importances_,X_test.columns)))"
   ]
  },
  {
   "cell_type": "code",
   "execution_count": 84,
   "metadata": {},
   "outputs": [
    {
     "data": {
      "text/html": [
       "<div>\n",
       "<style scoped>\n",
       "    .dataframe tbody tr th:only-of-type {\n",
       "        vertical-align: middle;\n",
       "    }\n",
       "\n",
       "    .dataframe tbody tr th {\n",
       "        vertical-align: top;\n",
       "    }\n",
       "\n",
       "    .dataframe thead th {\n",
       "        text-align: right;\n",
       "    }\n",
       "</style>\n",
       "<table border=\"1\" class=\"dataframe\">\n",
       "  <thead>\n",
       "    <tr style=\"text-align: right;\">\n",
       "      <th></th>\n",
       "      <th>0</th>\n",
       "      <th>1</th>\n",
       "    </tr>\n",
       "  </thead>\n",
       "  <tbody>\n",
       "    <tr>\n",
       "      <th>0</th>\n",
       "      <td>0.065540</td>\n",
       "      <td>age</td>\n",
       "    </tr>\n",
       "    <tr>\n",
       "      <th>1</th>\n",
       "      <td>0.006523</td>\n",
       "      <td>sex</td>\n",
       "    </tr>\n",
       "    <tr>\n",
       "      <th>2</th>\n",
       "      <td>0.432990</td>\n",
       "      <td>dayswfreq</td>\n",
       "    </tr>\n",
       "    <tr>\n",
       "      <th>3</th>\n",
       "      <td>0.097895</td>\n",
       "      <td>tbilled</td>\n",
       "    </tr>\n",
       "    <tr>\n",
       "      <th>4</th>\n",
       "      <td>0.084736</td>\n",
       "      <td>maccess</td>\n",
       "    </tr>\n",
       "    <tr>\n",
       "      <th>5</th>\n",
       "      <td>0.058316</td>\n",
       "      <td>nentries</td>\n",
       "    </tr>\n",
       "    <tr>\n",
       "      <th>6</th>\n",
       "      <td>0.005794</td>\n",
       "      <td>cfreq</td>\n",
       "    </tr>\n",
       "    <tr>\n",
       "      <th>7</th>\n",
       "      <td>0.046346</td>\n",
       "      <td>nrenewals</td>\n",
       "    </tr>\n",
       "    <tr>\n",
       "      <th>8</th>\n",
       "      <td>0.000296</td>\n",
       "      <td>cref</td>\n",
       "    </tr>\n",
       "    <tr>\n",
       "      <th>9</th>\n",
       "      <td>0.142693</td>\n",
       "      <td>months</td>\n",
       "    </tr>\n",
       "    <tr>\n",
       "      <th>10</th>\n",
       "      <td>0.058872</td>\n",
       "      <td>rmonth</td>\n",
       "    </tr>\n",
       "  </tbody>\n",
       "</table>\n",
       "</div>"
      ],
      "text/plain": [
       "           0          1\n",
       "0   0.065540        age\n",
       "1   0.006523        sex\n",
       "2   0.432990  dayswfreq\n",
       "3   0.097895    tbilled\n",
       "4   0.084736    maccess\n",
       "5   0.058316   nentries\n",
       "6   0.005794      cfreq\n",
       "7   0.046346  nrenewals\n",
       "8   0.000296       cref\n",
       "9   0.142693     months\n",
       "10  0.058872     rmonth"
      ]
     },
     "execution_count": 84,
     "metadata": {},
     "output_type": "execute_result"
    }
   ],
   "source": [
    "pd.DataFrame(list(zip(model_RFC.feature_importances_,X_test.columns)))"
   ]
  },
  {
   "cell_type": "code",
   "execution_count": 89,
   "metadata": {},
   "outputs": [
    {
     "data": {
      "text/html": [
       "<div>\n",
       "<style scoped>\n",
       "    .dataframe tbody tr th:only-of-type {\n",
       "        vertical-align: middle;\n",
       "    }\n",
       "\n",
       "    .dataframe tbody tr th {\n",
       "        vertical-align: top;\n",
       "    }\n",
       "\n",
       "    .dataframe thead th {\n",
       "        text-align: right;\n",
       "    }\n",
       "</style>\n",
       "<table border=\"1\" class=\"dataframe\">\n",
       "  <thead>\n",
       "    <tr style=\"text-align: right;\">\n",
       "      <th></th>\n",
       "      <th>0</th>\n",
       "      <th>1</th>\n",
       "    </tr>\n",
       "  </thead>\n",
       "  <tbody>\n",
       "    <tr>\n",
       "      <th>0</th>\n",
       "      <td>0.073031</td>\n",
       "      <td>age</td>\n",
       "    </tr>\n",
       "    <tr>\n",
       "      <th>1</th>\n",
       "      <td>0.008865</td>\n",
       "      <td>sex</td>\n",
       "    </tr>\n",
       "    <tr>\n",
       "      <th>2</th>\n",
       "      <td>0.350187</td>\n",
       "      <td>dayswfreq</td>\n",
       "    </tr>\n",
       "    <tr>\n",
       "      <th>3</th>\n",
       "      <td>0.144715</td>\n",
       "      <td>tbilled</td>\n",
       "    </tr>\n",
       "    <tr>\n",
       "      <th>4</th>\n",
       "      <td>0.071915</td>\n",
       "      <td>maccess</td>\n",
       "    </tr>\n",
       "    <tr>\n",
       "      <th>5</th>\n",
       "      <td>0.069500</td>\n",
       "      <td>nentries</td>\n",
       "    </tr>\n",
       "    <tr>\n",
       "      <th>6</th>\n",
       "      <td>0.011180</td>\n",
       "      <td>cfreq</td>\n",
       "    </tr>\n",
       "    <tr>\n",
       "      <th>7</th>\n",
       "      <td>0.055012</td>\n",
       "      <td>nrenewals</td>\n",
       "    </tr>\n",
       "    <tr>\n",
       "      <th>8</th>\n",
       "      <td>0.000565</td>\n",
       "      <td>cref</td>\n",
       "    </tr>\n",
       "    <tr>\n",
       "      <th>9</th>\n",
       "      <td>0.147133</td>\n",
       "      <td>months</td>\n",
       "    </tr>\n",
       "    <tr>\n",
       "      <th>10</th>\n",
       "      <td>0.067897</td>\n",
       "      <td>rmonth</td>\n",
       "    </tr>\n",
       "  </tbody>\n",
       "</table>\n",
       "</div>"
      ],
      "text/plain": [
       "           0          1\n",
       "0   0.073031        age\n",
       "1   0.008865        sex\n",
       "2   0.350187  dayswfreq\n",
       "3   0.144715    tbilled\n",
       "4   0.071915    maccess\n",
       "5   0.069500   nentries\n",
       "6   0.011180      cfreq\n",
       "7   0.055012  nrenewals\n",
       "8   0.000565       cref\n",
       "9   0.147133     months\n",
       "10  0.067897     rmonth"
      ]
     },
     "execution_count": 89,
     "metadata": {},
     "output_type": "execute_result"
    }
   ],
   "source": [
    "pd.DataFrame(list(zip(model_gbc.feature_importances_,X_test.columns)))"
   ]
  },
  {
   "cell_type": "code",
   "execution_count": 90,
   "metadata": {},
   "outputs": [],
   "source": [
    "importance = pd.DataFrame(dict(features=X_test.columns,lr=model_LR.coef_[0],\n",
    "                               dtc=model_DTC.feature_importances_,\n",
    "                               rfc=model_RFC.feature_importances_,\n",
    "                               gbc=model_gbc.feature_importances_)).set_index('features')\n",
    "importance=importance.sort_values(by='gbc',ascending=False)"
   ]
  },
  {
   "cell_type": "code",
   "execution_count": 91,
   "metadata": {},
   "outputs": [
    {
     "data": {
      "text/html": [
       "<div>\n",
       "<style scoped>\n",
       "    .dataframe tbody tr th:only-of-type {\n",
       "        vertical-align: middle;\n",
       "    }\n",
       "\n",
       "    .dataframe tbody tr th {\n",
       "        vertical-align: top;\n",
       "    }\n",
       "\n",
       "    .dataframe thead th {\n",
       "        text-align: right;\n",
       "    }\n",
       "</style>\n",
       "<table border=\"1\" class=\"dataframe\">\n",
       "  <thead>\n",
       "    <tr style=\"text-align: right;\">\n",
       "      <th></th>\n",
       "      <th>lr</th>\n",
       "      <th>dtc</th>\n",
       "      <th>rfc</th>\n",
       "      <th>gbc</th>\n",
       "    </tr>\n",
       "    <tr>\n",
       "      <th>features</th>\n",
       "      <th></th>\n",
       "      <th></th>\n",
       "      <th></th>\n",
       "      <th></th>\n",
       "    </tr>\n",
       "  </thead>\n",
       "  <tbody>\n",
       "    <tr>\n",
       "      <th>dayswfreq</th>\n",
       "      <td>0.004427</td>\n",
       "      <td>0.553739</td>\n",
       "      <td>0.432990</td>\n",
       "      <td>0.350187</td>\n",
       "    </tr>\n",
       "    <tr>\n",
       "      <th>months</th>\n",
       "      <td>-0.086537</td>\n",
       "      <td>0.134492</td>\n",
       "      <td>0.142693</td>\n",
       "      <td>0.147133</td>\n",
       "    </tr>\n",
       "    <tr>\n",
       "      <th>tbilled</th>\n",
       "      <td>-0.002418</td>\n",
       "      <td>0.163024</td>\n",
       "      <td>0.097895</td>\n",
       "      <td>0.144715</td>\n",
       "    </tr>\n",
       "    <tr>\n",
       "      <th>age</th>\n",
       "      <td>-0.031351</td>\n",
       "      <td>0.019923</td>\n",
       "      <td>0.065540</td>\n",
       "      <td>0.073031</td>\n",
       "    </tr>\n",
       "    <tr>\n",
       "      <th>maccess</th>\n",
       "      <td>-1.408999</td>\n",
       "      <td>0.008315</td>\n",
       "      <td>0.084736</td>\n",
       "      <td>0.071915</td>\n",
       "    </tr>\n",
       "    <tr>\n",
       "      <th>nentries</th>\n",
       "      <td>0.017364</td>\n",
       "      <td>0.010938</td>\n",
       "      <td>0.058316</td>\n",
       "      <td>0.069500</td>\n",
       "    </tr>\n",
       "    <tr>\n",
       "      <th>rmonth</th>\n",
       "      <td>-0.071246</td>\n",
       "      <td>0.021867</td>\n",
       "      <td>0.058872</td>\n",
       "      <td>0.067897</td>\n",
       "    </tr>\n",
       "    <tr>\n",
       "      <th>nrenewals</th>\n",
       "      <td>-0.399163</td>\n",
       "      <td>0.084032</td>\n",
       "      <td>0.046346</td>\n",
       "      <td>0.055012</td>\n",
       "    </tr>\n",
       "    <tr>\n",
       "      <th>cfreq</th>\n",
       "      <td>0.260549</td>\n",
       "      <td>0.001052</td>\n",
       "      <td>0.005794</td>\n",
       "      <td>0.011180</td>\n",
       "    </tr>\n",
       "    <tr>\n",
       "      <th>sex</th>\n",
       "      <td>0.180330</td>\n",
       "      <td>0.002618</td>\n",
       "      <td>0.006523</td>\n",
       "      <td>0.008865</td>\n",
       "    </tr>\n",
       "    <tr>\n",
       "      <th>cref</th>\n",
       "      <td>1.139181</td>\n",
       "      <td>0.000000</td>\n",
       "      <td>0.000296</td>\n",
       "      <td>0.000565</td>\n",
       "    </tr>\n",
       "  </tbody>\n",
       "</table>\n",
       "</div>"
      ],
      "text/plain": [
       "                 lr       dtc       rfc       gbc\n",
       "features                                         \n",
       "dayswfreq  0.004427  0.553739  0.432990  0.350187\n",
       "months    -0.086537  0.134492  0.142693  0.147133\n",
       "tbilled   -0.002418  0.163024  0.097895  0.144715\n",
       "age       -0.031351  0.019923  0.065540  0.073031\n",
       "maccess   -1.408999  0.008315  0.084736  0.071915\n",
       "nentries   0.017364  0.010938  0.058316  0.069500\n",
       "rmonth    -0.071246  0.021867  0.058872  0.067897\n",
       "nrenewals -0.399163  0.084032  0.046346  0.055012\n",
       "cfreq      0.260549  0.001052  0.005794  0.011180\n",
       "sex        0.180330  0.002618  0.006523  0.008865\n",
       "cref       1.139181  0.000000  0.000296  0.000565"
      ]
     },
     "execution_count": 91,
     "metadata": {},
     "output_type": "execute_result"
    }
   ],
   "source": [
    "importance"
   ]
  },
  {
   "cell_type": "code",
   "execution_count": 93,
   "metadata": {},
   "outputs": [
    {
     "data": {
      "image/png": "[encoded data removed]",
      "text/plain": [
       "<Figure size 1080x504 with 2 Axes>"
      ]
     },
     "metadata": {
      "needs_background": "light"
     },
     "output_type": "display_data"
    }
   ],
   "source": [
    "fig,ax = plt.subplots(2,1,figsize=(15,7))\n",
    "ax1,ax2=ax.flatten()\n",
    "ax1.set_xticks([])\n",
    "ax2.set_xticks([])\n",
    "#sns.distplot()\n",
    "importance[['dtc','rfc','gbc']].plot(kind='bar',title='Features importance',ax=ax1,xticks=[]).xaxis.label.set_visible(False);\n",
    "importance[['lr']].plot(kind='bar',ax=ax2);"
   ]
  },
  {
   "cell_type": "markdown",
   "metadata": {},
   "source": [
    "## Old"
   ]
  },
  {
   "cell_type": "code",
   "execution_count": 54,
   "metadata": {},
   "outputs": [
    {
     "name": "stdout",
     "output_type": "stream",
     "text": [
      "Size X_train: (3912, 12)\n",
      "Size X_test: (1304, 12)\n",
      "Size y_train: (3912,)\n",
      "Size y_test: (1304,)\n",
      "DecisionTreeClassifier(ccp_alpha=0.0, class_weight=None, criterion='gini',\n",
      "                       max_depth=None, max_features=None, max_leaf_nodes=None,\n",
      "                       min_impurity_decrease=0.0, min_impurity_split=None,\n",
      "                       min_samples_leaf=1, min_samples_split=2,\n",
      "                       min_weight_fraction_leaf=0.0, presort='deprecated',\n",
      "                       random_state=None, splitter='best')\n",
      "              precision    recall  f1-score   support\n",
      "\n",
      "           0       0.67      0.42      0.52       148\n",
      "           1       0.93      0.97      0.95      1156\n",
      "\n",
      "    accuracy                           0.91      1304\n",
      "   macro avg       0.80      0.70      0.73      1304\n",
      "weighted avg       0.90      0.91      0.90      1304\n",
      "\n",
      "[[  62   86]\n",
      " [  30 1126]]\n",
      "RMSE: 0.08895705521472393\n",
      "duracao: 0.02898859977722168\n",
      "Features sorted by their score:\n",
      "[(0.8, 'dayswfreq'), (0.15, 'tbilled'), (0.04, 'months'), (0.01, 'age'), (0.0, 'sex'), (0.0, 'rmonth'), (0.0, 'nrenewals'), (0.0, 'nentries'), (0.0, 'maccess'), (0.0, 'free_use'), (0.0, 'cref'), (0.0, 'cfreq')]\n",
      "RandomForestClassifier(bootstrap=True, ccp_alpha=0.0, class_weight=None,\n",
      "                       criterion='gini', max_depth=None, max_features='auto',\n",
      "                       max_leaf_nodes=None, max_samples=None,\n",
      "                       min_impurity_decrease=0.0, min_impurity_split=None,\n",
      "                       min_samples_leaf=1, min_samples_split=2,\n",
      "                       min_weight_fraction_leaf=0.0, n_estimators=100,\n",
      "                       n_jobs=None, oob_score=False, random_state=None,\n",
      "                       verbose=0, warm_start=False)\n",
      "              precision    recall  f1-score   support\n",
      "\n",
      "           0       0.81      0.20      0.32       148\n",
      "           1       0.91      0.99      0.95      1156\n",
      "\n",
      "    accuracy                           0.90      1304\n",
      "   macro avg       0.86      0.60      0.64      1304\n",
      "weighted avg       0.90      0.90      0.88      1304\n",
      "\n",
      "[[  30  118]\n",
      " [   7 1149]]\n",
      "RMSE: 0.09585889570552147\n",
      "duracao: 0.20333409309387207\n",
      "Features sorted by their score:\n",
      "[(0.45, 'dayswfreq'), (0.16, 'tbilled'), (0.12, 'months'), (0.07, 'nentries'), (0.07, 'maccess'), (0.05, 'age'), (0.04, 'nrenewals'), (0.01, 'rmonth'), (0.01, 'free_use'), (0.01, 'cfreq'), (0.0, 'sex'), (0.0, 'cref')]\n",
      "GradientBoostingClassifier(ccp_alpha=0.0, criterion='friedman_mse', init=None,\n",
      "                           learning_rate=0.1, loss='deviance', max_depth=3,\n",
      "                           max_features=None, max_leaf_nodes=None,\n",
      "                           min_impurity_decrease=0.0, min_impurity_split=None,\n",
      "                           min_samples_leaf=1, min_samples_split=2,\n",
      "                           min_weight_fraction_leaf=0.0, n_estimators=100,\n",
      "                           n_iter_no_change=None, presort='deprecated',\n",
      "                           random_state=None, subsample=1.0, tol=0.0001,\n",
      "                           validation_fraction=0.1, verbose=0,\n",
      "                           warm_start=False)\n",
      "              precision    recall  f1-score   support\n",
      "\n",
      "           0       0.78      0.68      0.73       148\n",
      "           1       0.96      0.98      0.97      1156\n",
      "\n",
      "    accuracy                           0.94      1304\n",
      "   macro avg       0.87      0.83      0.85      1304\n",
      "weighted avg       0.94      0.94      0.94      1304\n",
      "\n",
      "[[ 101   47]\n",
      " [  28 1128]]\n",
      "RMSE: 0.057515337423312884\n",
      "duracao: 0.38478827476501465\n",
      "Features sorted by their score:\n",
      "[(0.53, 'dayswfreq'), (0.14, 'months'), (0.08, 'tbilled'), (0.07, 'nrenewals'), (0.05, 'rmonth'), (0.05, 'age'), (0.03, 'free_use'), (0.02, 'nentries'), (0.02, 'cfreq'), (0.01, 'maccess'), (0.0, 'sex'), (0.0, 'cref')]\n",
      "  Nome  Accuracy\n",
      "0  DTC  0.911043\n",
      "1  RFC  0.904141\n",
      "2  GBC  0.942485\n",
      "duracao: 0.749380350112915\n"
     ]
    }
   ],
   "source": [
    "X_train, X_test, y_train, y_test = train_test_split(X, y, random_state=0)\n",
    "print('Size X_train:',X_train.shape)\n",
    "print('Size X_test:',X_test.shape)\n",
    "print('Size y_train:',y_train.shape)\n",
    "print('Size y_test:',y_test.shape)\n",
    "\n",
    "names = []\n",
    "scores = []\n",
    "\n",
    "tInicial = time.time()\n",
    "for name, model in models:\n",
    "    t0 = time.time()\n",
    "    # Colocar o tempo de execução de cada algoritmo t_inicio = \n",
    "    print(model)\n",
    "    if name == 'DTC': model = DecisionTreeClassifier(max_depth = 3, random_state=42)\n",
    "    if name == 'RFC': model = RandomForestClassifier(max_depth = 3, random_state=42)\n",
    "    if name == 'GBC': model = GradientBoostingClassifier(max_depth = 3, random_state=42)\n",
    "        \n",
    "    model.fit(X_train, y_train)\n",
    "    y_pred = model.predict(X_test)\n",
    "    print(metrics.classification_report(y_test, y_pred))\n",
    "    print(metrics.confusion_matrix(y_test, y_pred))\n",
    "    print('RMSE:',metrics.mean_squared_error(y_test,y_pred))\n",
    "\n",
    "    scores.append(accuracy_score(y_test, y_pred))\n",
    "    names.append(name)\n",
    "    \n",
    "    t1 = time.time()\n",
    "    total = t1-t0\n",
    "    print('duracao:',total)\n",
    "    print(\"Features sorted by their score:\")\n",
    "    print(sorted(zip(map(lambda x: float(\"{0:.2f}\".format(round(x, 4))), model.feature_importances_), X_train.columns),reverse=True))\n",
    "    if (name == 'DTC'):\n",
    "        dot_data = StringIO()\n",
    "        export_graphviz(model, out_file=dot_data, feature_names=X.columns, class_names=X.columns,\n",
    "                        filled=False, rounded=True,\n",
    "                        special_characters=True)\n",
    "        graph = pydotplus.graph_from_dot_data(dot_data.getvalue()) \n",
    "        graph.write_png('../graficos/'+name+'_arvore.png')\n",
    "        Image(graph.create_png())\n",
    "        matrix_DTC=metrics.confusion_matrix(y_test, y_pred)\n",
    "        \n",
    "    if (name == 'RFC'):\n",
    "        dot_data = StringIO()\n",
    "        for i in range(10):\n",
    "            estimator = model.estimators_[i]\n",
    "            dot_data = export_graphviz(estimator, out_file=None, feature_names=X.columns,class_names=X.columns,rounded=True)\n",
    "            graph = pydotplus.graph_from_dot_data(dot_data)  \n",
    "            graph.write_png('../graficos/'+name+str(i)+'_arvore.png')\n",
    "            Image(graph.create_png())\n",
    "            matrix_RFC=metrics.confusion_matrix(y_test, y_pred)\n",
    "    if (name == 'GBC'):\n",
    "        dot_data = StringIO()\n",
    "        sub_tree_42 = model.estimators_[98, 0]\n",
    "        export_graphviz(sub_tree_42, \n",
    "                        out_file=dot_data, \n",
    "                        feature_names=X.columns, class_names=X.columns,\n",
    "                        filled=False, rounded=True,\n",
    "                        special_characters=True)\n",
    "        graph = pydotplus.graph_from_dot_data(dot_data.getvalue()) \n",
    "        graph.write_png('../graficos/'+name+'_arvore.png')\n",
    "        Image(graph.create_png())\n",
    "        matrix_GBC=metrics.confusion_matrix(y_test, y_pred)\n",
    "        \n",
    "tr_split = pd.DataFrame({'Nome': names, 'Accuracy': scores})\n",
    "print(tr_split)\n",
    "\n",
    "tFinal = time.time()\n",
    "total = tFinal-t0\n",
    "print('duracao:',total)"
   ]
  },
  {
   "cell_type": "markdown",
   "metadata": {},
   "source": [
    "## Visualização com o dtreeviz"
   ]
  },
  {
   "cell_type": "code",
   "execution_count": 81,
   "metadata": {},
   "outputs": [
    {
     "name": "stdout",
     "output_type": "stream",
     "text": [
      "Size X_train: (3912, 12)\n",
      "Size X_test: (1304, 12)\n",
      "Size y_train: (3912,)\n",
      "Size y_test: (1304,)\n",
      "DecisionTreeClassifier(ccp_alpha=0.0, class_weight=None, criterion='gini',\n",
      "                       max_depth=None, max_features=None, max_leaf_nodes=None,\n",
      "                       min_impurity_decrease=0.0, min_impurity_split=None,\n",
      "                       min_samples_leaf=1, min_samples_split=2,\n",
      "                       min_weight_fraction_leaf=0.0, presort='deprecated',\n",
      "                       random_state=None, splitter='best')\n",
      "              precision    recall  f1-score   support\n",
      "\n",
      "           0       0.67      0.42      0.52       148\n",
      "           1       0.93      0.97      0.95      1156\n",
      "\n",
      "    accuracy                           0.91      1304\n",
      "   macro avg       0.80      0.70      0.73      1304\n",
      "weighted avg       0.90      0.91      0.90      1304\n",
      "\n",
      "[[  62   86]\n",
      " [  30 1126]]\n",
      "RMSE: 0.08895705521472393\n",
      "duracao: 0.02516317367553711\n",
      "Features sorted by their score:\n",
      "[(0.8, 'dayswfreq'), (0.15, 'tbilled'), (0.04, 'months'), (0.01, 'age'), (0.0, 'sex'), (0.0, 'rmonth'), (0.0, 'nrenewals'), (0.0, 'nentries'), (0.0, 'maccess'), (0.0, 'free_use'), (0.0, 'cref'), (0.0, 'cfreq')]\n",
      "RandomForestClassifier(bootstrap=True, ccp_alpha=0.0, class_weight=None,\n",
      "                       criterion='gini', max_depth=None, max_features='auto',\n",
      "                       max_leaf_nodes=None, max_samples=None,\n",
      "                       min_impurity_decrease=0.0, min_impurity_split=None,\n",
      "                       min_samples_leaf=1, min_samples_split=2,\n",
      "                       min_weight_fraction_leaf=0.0, n_estimators=100,\n",
      "                       n_jobs=None, oob_score=False, random_state=None,\n",
      "                       verbose=0, warm_start=False)\n",
      "              precision    recall  f1-score   support\n",
      "\n",
      "           0       0.81      0.20      0.32       148\n",
      "           1       0.91      0.99      0.95      1156\n",
      "\n",
      "    accuracy                           0.90      1304\n",
      "   macro avg       0.86      0.60      0.64      1304\n",
      "weighted avg       0.90      0.90      0.88      1304\n",
      "\n",
      "[[  30  118]\n",
      " [   7 1149]]\n",
      "RMSE: 0.09585889570552147\n",
      "duracao: 0.18901371955871582\n",
      "Features sorted by their score:\n",
      "[(0.45, 'dayswfreq'), (0.16, 'tbilled'), (0.12, 'months'), (0.07, 'nentries'), (0.07, 'maccess'), (0.05, 'age'), (0.04, 'nrenewals'), (0.01, 'rmonth'), (0.01, 'free_use'), (0.01, 'cfreq'), (0.0, 'sex'), (0.0, 'cref')]\n",
      "GradientBoostingClassifier(ccp_alpha=0.0, criterion='friedman_mse', init=None,\n",
      "                           learning_rate=0.1, loss='deviance', max_depth=3,\n",
      "                           max_features=None, max_leaf_nodes=None,\n",
      "                           min_impurity_decrease=0.0, min_impurity_split=None,\n",
      "                           min_samples_leaf=1, min_samples_split=2,\n",
      "                           min_weight_fraction_leaf=0.0, n_estimators=100,\n",
      "                           n_iter_no_change=None, presort='deprecated',\n",
      "                           random_state=None, subsample=1.0, tol=0.0001,\n",
      "                           validation_fraction=0.1, verbose=0,\n",
      "                           warm_start=False)\n",
      "              precision    recall  f1-score   support\n",
      "\n",
      "           0       0.78      0.68      0.73       148\n",
      "           1       0.96      0.98      0.97      1156\n",
      "\n",
      "    accuracy                           0.94      1304\n",
      "   macro avg       0.87      0.83      0.85      1304\n",
      "weighted avg       0.94      0.94      0.94      1304\n",
      "\n",
      "[[ 101   47]\n",
      " [  28 1128]]\n",
      "RMSE: 0.057515337423312884\n",
      "duracao: 0.3723428249359131\n",
      "Features sorted by their score:\n",
      "[(0.53, 'dayswfreq'), (0.14, 'months'), (0.08, 'tbilled'), (0.07, 'nrenewals'), (0.05, 'rmonth'), (0.05, 'age'), (0.03, 'free_use'), (0.02, 'nentries'), (0.02, 'cfreq'), (0.01, 'maccess'), (0.0, 'sex'), (0.0, 'cref')]\n",
      "  Nome  Accuracy\n",
      "0  DTC  0.911043\n",
      "1  RFC  0.904141\n",
      "2  GBC  0.942485\n",
      "duracao: 3.6430065631866455\n"
     ]
    }
   ],
   "source": [
    "X_train, X_test, y_train, y_test = train_test_split(X, y, random_state=0)\n",
    "print('Size X_train:',X_train.shape)\n",
    "print('Size X_test:',X_test.shape)\n",
    "print('Size y_train:',y_train.shape)\n",
    "print('Size y_test:',y_test.shape)\n",
    "\n",
    "names = []\n",
    "scores = []\n",
    "\n",
    "tInicial = time.time()\n",
    "for name, model in models:\n",
    "    t0 = time.time()\n",
    "    # Colocar o tempo de execução de cada algoritmo t_inicio = \n",
    "    print(model)\n",
    "    if name == 'DTC':\n",
    "        model = DecisionTreeClassifier(max_depth = 3, random_state=42)\n",
    "    if name == 'RFC':\n",
    "        model = RandomForestClassifier(max_depth = 3, random_state=42)\n",
    "    if name == 'GBC':\n",
    "        model = GradientBoostingClassifier(max_depth = 3, random_state=42)\n",
    "        \n",
    "    model.fit(X_train, y_train)\n",
    "    y_pred = model.predict(X_test)\n",
    "    print(metrics.classification_report(y_test, y_pred))\n",
    "    print(metrics.confusion_matrix(y_test, y_pred))\n",
    "    print('RMSE:',metrics.mean_squared_error(y_test,y_pred))\n",
    "\n",
    "    scores.append(accuracy_score(y_test, y_pred))\n",
    "    names.append(name)\n",
    "    \n",
    "    t1 = time.time()\n",
    "    total = t1-t0\n",
    "    print('duracao:',total)\n",
    "    print(\"Features sorted by their score:\")\n",
    "    print(sorted(zip(map(lambda x: float(\"{0:.2f}\".format(round(x, 4))), model.feature_importances_), X_train.columns),reverse=True))\n",
    "    if (name == 'DTC'):\n",
    "        viz = dtreeviz(model,X_train,y_train,target_name='dropout',\n",
    "               feature_names=['age', 'gender', 'dayswfreq', 'months', 'tbilled', 'maccess',\n",
    "                              'free_use', 'nactivities', 'nentries', 'cfreq', 'nrenewals', 'cref','rmonth'],class_names=['no','yes'])\n",
    "              \n",
    "        #viz.view()\n",
    "        viz.save('../graficos/dtree_'+name+'_arvore.svg')\n",
    "        \n",
    "    if (name == 'RFC'):\n",
    "        dot_data = StringIO()\n",
    "        for i in range(10):\n",
    "            estimator = model.estimators_[i]\n",
    "            viz = dtreeviz(estimator,X_train,y_train,target_name='dropout',\n",
    "                   feature_names=['age', 'gender', 'dayswfreq', 'months', 'tbilled', 'maccess',\n",
    "                                  'free_use', 'nactivities', 'nentries', 'cfreq', 'nrenewals', 'cref','rmonth'],class_names=['no','yes'])\n",
    "\n",
    "            #viz.view()\n",
    "            viz.save('../graficos/dtree_'+name+str(i)+'_arvore.svg')\n",
    "    if (name == 'GBC'):\n",
    "        sub_tree_42 = model.estimators_[98, 0]\n",
    "        viz = dtreeviz(sub_tree_42,X_train,y_train,target_name='dropout',\n",
    "               feature_names=['age', 'gender', 'dayswfreq', 'months', 'tbilled', 'maccess',\n",
    "                              'free_use', 'nactivities', 'nentries', 'cfreq', 'nrenewals', 'cref','rmonth'],class_names=['no','yes'])\n",
    "\n",
    "        #viz.view()\n",
    "        viz.save('../graficos/dtree_'+name+str(i)+'_arvore.svg')\n",
    "        \n",
    "tr_split = pd.DataFrame({'Nome': names, 'Accuracy': scores})\n",
    "print(tr_split)\n",
    "\n",
    "tFinal = time.time()\n",
    "total = tFinal-t0\n",
    "print('duracao:',total)"
   ]
  },
  {
   "cell_type": "code",
   "execution_count": 94,
   "metadata": {},
   "outputs": [
    {
     "name": "stdout",
     "output_type": "stream",
     "text": [
      "              precision    recall  f1-score   support\n",
      "\n",
      "           0       0.67      0.42      0.52       148\n",
      "           1       0.93      0.97      0.95      1156\n",
      "\n",
      "    accuracy                           0.91      1304\n",
      "   macro avg       0.80      0.70      0.73      1304\n",
      "weighted avg       0.90      0.91      0.90      1304\n",
      "\n",
      "[[  62   86]\n",
      " [  30 1126]]\n",
      "RMSE: 0.08895705521472393\n"
     ]
    }
   ],
   "source": [
    "X_train, X_test, y_train, y_test = train_test_split(X, y, random_state=0)\n",
    "model = DecisionTreeClassifier(max_depth = 3, random_state=42)\n",
    "model.fit(X_train, y_train)\n",
    "y_pred = model.predict(X_test)\n",
    "print(metrics.classification_report(y_test, y_pred))\n",
    "print(metrics.confusion_matrix(y_test, y_pred))\n",
    "print('RMSE:',metrics.mean_squared_error(y_test,y_pred))\n"
   ]
  },
  {
   "cell_type": "code",
   "execution_count": 97,
   "metadata": {},
   "outputs": [
    {
     "data": {
      "text/plain": [
       "0.719"
      ]
     },
     "execution_count": 97,
     "metadata": {},
     "output_type": "execute_result"
    }
   ],
   "source": [
    "y_pred = model.predict(X_train)\n",
    "np.round(metrics.roc_auc_score(y_train, y_pred),3)"
   ]
  },
  {
   "cell_type": "code",
   "execution_count": 99,
   "metadata": {},
   "outputs": [
    {
     "data": {
      "text/plain": [
       "(0.6976607489608436, 0.7393922122149811)"
      ]
     },
     "execution_count": 99,
     "metadata": {},
     "output_type": "execute_result"
    }
   ],
   "source": [
    "roc_auc_ci(y_train,y_pred)"
   ]
  },
  {
   "cell_type": "markdown",
   "metadata": {},
   "source": [
    "**Métricas de avaliação do desempenho**\n",
    "\n",
    "$ \\begin{align} sensivity = \\frac{TP}{TP+FN} \\end{align} $\n",
    "$ \\begin{align} specificity = \\frac{TN}{TN+FP} \\end{align} $\n",
    "$ \\begin{align} precision = \\frac{TP}{TP+FP} \\end{align} $\n",
    "$ \\begin{align} F-Score = \\frac{2xTP}{2xTP+FP+FN} \\end{align} $\n",
    "\n",
    "**Decision Tree Classifier**\n",
    "\n",
    "|  &nbsp; | &nbsp; |real<br/>pos|<br/>neg |\n",
    "|---------|--------|:----------:|--------:|\n",
    "|Pre      | Pos    |     62     |     86  |\n",
    "|  &nbsp; | Neg    |     30     |    1126 |\n",
    "\n",
    "Sensitity = TP/(TP+FN) = 62/(62+30) = 0.674 <br/>\n",
    "Specificity = TN/(TN+FP) = 1126/(1126+86) = 0.929 <br/>\n",
    "Precision = TP / (TP+FP) = 62/(62+86) = 0.419 <br/>\n",
    "F1Score = 2TP/(2TP+FP+FN) = 2x62/(2x62+86+30) =0.582\n",
    "\n",
    "**Random Forest Classifier**\n",
    "\n",
    "|  &nbsp; | &nbsp; |real<br/>pos|<br/>neg |\n",
    "|---------|--------|:----------:|--------:|\n",
    "|Pre      | Pos    |     35     |    113  |\n",
    "|  &nbsp; | Neg    |      5     |    1151 |\n",
    "\n",
    "Sensitity = TP/(TP+FN) = 35/(35+5) = 0.875 <br/>\n",
    "Specificity = TN/(TN+FP) = 1151/(1151+113) = 0.911 <br/>\n",
    "Precision = TP / (TP+FP) = 35/(35+113) = 0.236 <br/>\n",
    "F1Score = 2TP/(2TP+FP+FN) = 2x35/(2x35+113+5) =0.372\n",
    "\n",
    "**Gradient Boosting Classifier**\n",
    "\n",
    "|  &nbsp; | &nbsp; |real<br/>pos|<br/>neg |\n",
    "|---------|--------|:----------:|--------:|\n",
    "|Pre      | Pos    |     101    |    47   |\n",
    "|  &nbsp; | Neg    |     28     |    1128 |\n",
    "\n",
    "Sensitity = TP/(TP+FN) = 101/(101+28) = 0.783 <br/>\n",
    "Specificity = TN/(TN+FP) = 1128/(1128+47) = 0.960 <br/>\n",
    "Precision = TP / (TP+FP) = 101/(101+47) = 0.682 <br/>\n",
    "F1Score = 2TP/(2TP+FP+FN) = 2x101/(2x101+47+28) =0.729"
   ]
  },
  {
   "cell_type": "code",
   "execution_count": 56,
   "metadata": {},
   "outputs": [
    {
     "data": {
      "text/plain": [
       "array([[ 101,   47],\n",
       "       [  28, 1128]])"
      ]
     },
     "execution_count": 56,
     "metadata": {},
     "output_type": "execute_result"
    }
   ],
   "source": [
    "matrix_GBC"
   ]
  },
  {
   "cell_type": "code",
   "execution_count": 57,
   "metadata": {},
   "outputs": [
    {
     "data": {
      "text/plain": [
       "array([[  30,  118],\n",
       "       [   7, 1149]])"
      ]
     },
     "execution_count": 57,
     "metadata": {},
     "output_type": "execute_result"
    }
   ],
   "source": [
    "matrix_RFC"
   ]
  },
  {
   "cell_type": "code",
   "execution_count": 58,
   "metadata": {},
   "outputs": [
    {
     "data": {
      "text/plain": [
       "array([[  62,   86],\n",
       "       [  30, 1126]])"
      ]
     },
     "execution_count": 58,
     "metadata": {},
     "output_type": "execute_result"
    }
   ],
   "source": [
    "matrix_DTC"
   ]
  },
  {
   "cell_type": "markdown",
   "metadata": {},
   "source": [
    "## Model accuracy"
   ]
  },
  {
   "cell_type": "code",
   "execution_count": 59,
   "metadata": {},
   "outputs": [],
   "source": [
    "plt.rcParams['figure.figsize'] = [12, 3]"
   ]
  },
  {
   "cell_type": "code",
   "execution_count": 60,
   "metadata": {},
   "outputs": [
    {
     "data": {
      "image/png": "[encoded data removed]",
      "text/plain": [
       "<Figure size 864x216 with 1 Axes>"
      ]
     },
     "metadata": {},
     "output_type": "display_data"
    }
   ],
   "source": [
    "import seaborn as sns\n",
    "axis = sns.barplot(x = 'Nome', y = 'Accuracy', data = tr_split)\n",
    "axis.set(xlabel='Train/Test', ylabel='Accuracy')\n",
    "for p in axis.patches:\n",
    "    height = p.get_height()\n",
    "    axis.text(p.get_x() + p.get_width()/2, height + 0.005, '{:1.4f}'.format(height), ha=\"center\") \n",
    "    \n",
    "plt.show()"
   ]
  },
  {
   "cell_type": "code",
   "execution_count": 61,
   "metadata": {},
   "outputs": [
    {
     "data": {
      "text/html": [
       "<div>\n",
       "<style scoped>\n",
       "    .dataframe tbody tr th:only-of-type {\n",
       "        vertical-align: middle;\n",
       "    }\n",
       "\n",
       "    .dataframe tbody tr th {\n",
       "        vertical-align: top;\n",
       "    }\n",
       "\n",
       "    .dataframe thead th {\n",
       "        text-align: right;\n",
       "    }\n",
       "</style>\n",
       "<table border=\"1\" class=\"dataframe\">\n",
       "  <thead>\n",
       "    <tr style=\"text-align: right;\">\n",
       "      <th></th>\n",
       "      <th>DTC</th>\n",
       "      <th>RFC</th>\n",
       "      <th>GBC</th>\n",
       "    </tr>\n",
       "    <tr>\n",
       "      <th>feature</th>\n",
       "      <th></th>\n",
       "      <th></th>\n",
       "      <th></th>\n",
       "    </tr>\n",
       "  </thead>\n",
       "  <tbody>\n",
       "    <tr>\n",
       "      <th>age</th>\n",
       "      <td>0.071</td>\n",
       "      <td>0.087</td>\n",
       "      <td>0.047</td>\n",
       "    </tr>\n",
       "    <tr>\n",
       "      <th>sex</th>\n",
       "      <td>0.010</td>\n",
       "      <td>0.013</td>\n",
       "      <td>0.001</td>\n",
       "    </tr>\n",
       "    <tr>\n",
       "      <th>dayswfreq</th>\n",
       "      <td>0.332</td>\n",
       "      <td>0.277</td>\n",
       "      <td>0.528</td>\n",
       "    </tr>\n",
       "    <tr>\n",
       "      <th>months</th>\n",
       "      <td>0.118</td>\n",
       "      <td>0.139</td>\n",
       "      <td>0.138</td>\n",
       "    </tr>\n",
       "    <tr>\n",
       "      <th>tbilled</th>\n",
       "      <td>0.106</td>\n",
       "      <td>0.146</td>\n",
       "      <td>0.085</td>\n",
       "    </tr>\n",
       "    <tr>\n",
       "      <th>maccess</th>\n",
       "      <td>0.070</td>\n",
       "      <td>0.101</td>\n",
       "      <td>0.012</td>\n",
       "    </tr>\n",
       "    <tr>\n",
       "      <th>free_use</th>\n",
       "      <td>0.027</td>\n",
       "      <td>0.018</td>\n",
       "      <td>0.033</td>\n",
       "    </tr>\n",
       "    <tr>\n",
       "      <th>nentries</th>\n",
       "      <td>0.066</td>\n",
       "      <td>0.082</td>\n",
       "      <td>0.015</td>\n",
       "    </tr>\n",
       "    <tr>\n",
       "      <th>cfreq</th>\n",
       "      <td>0.014</td>\n",
       "      <td>0.016</td>\n",
       "      <td>0.022</td>\n",
       "    </tr>\n",
       "    <tr>\n",
       "      <th>nrenewals</th>\n",
       "      <td>0.081</td>\n",
       "      <td>0.048</td>\n",
       "      <td>0.057</td>\n",
       "    </tr>\n",
       "    <tr>\n",
       "      <th>cref</th>\n",
       "      <td>0.000</td>\n",
       "      <td>0.001</td>\n",
       "      <td>0.000</td>\n",
       "    </tr>\n",
       "    <tr>\n",
       "      <th>rmonth</th>\n",
       "      <td>0.106</td>\n",
       "      <td>0.072</td>\n",
       "      <td>0.062</td>\n",
       "    </tr>\n",
       "  </tbody>\n",
       "</table>\n",
       "</div>"
      ],
      "text/plain": [
       "             DTC    RFC    GBC\n",
       "feature                       \n",
       "age        0.071  0.087  0.047\n",
       "sex        0.010  0.013  0.001\n",
       "dayswfreq  0.332  0.277  0.528\n",
       "months     0.118  0.139  0.138\n",
       "tbilled    0.106  0.146  0.085\n",
       "maccess    0.070  0.101  0.012\n",
       "free_use   0.027  0.018  0.033\n",
       "nentries   0.066  0.082  0.015\n",
       "cfreq      0.014  0.016  0.022\n",
       "nrenewals  0.081  0.048  0.057\n",
       "cref       0.000  0.001  0.000\n",
       "rmonth     0.106  0.072  0.062"
      ]
     },
     "execution_count": 61,
     "metadata": {},
     "output_type": "execute_result"
    }
   ],
   "source": [
    "import numpy as np\n",
    "#X_train, X_test, y_train, y_test = train_test_split(X, y, random_state=0)\n",
    "\n",
    "importances = pd.DataFrame({'feature':X_train.columns,'importance':np.round(model.feature_importances_,3)})\n",
    "importances = importances.sort_values('importance',ascending=False).set_index('feature')\n",
    "importances = pd.DataFrame({'feature':X.columns})\n",
    "for name, model in models:\n",
    "    t0=time.time()\n",
    "    score = accuracy_score(y_test, y_pred)\n",
    "    model.fit(X,y) \n",
    "    names.append(name)\n",
    "    scores.append(score)\n",
    "    \n",
    "    t1 = time.time()\n",
    "    total = t1-t0\n",
    "    importances[name] = np.round(model.feature_importances_,3)\n",
    "\n",
    "importances = importances.set_index('feature')\n",
    "importances"
   ]
  },
  {
   "cell_type": "markdown",
   "metadata": {},
   "source": [
    "## Variable importance"
   ]
  },
  {
   "cell_type": "code",
   "execution_count": 62,
   "metadata": {},
   "outputs": [
    {
     "data": {
      "text/plain": [
       "<matplotlib.axes._subplots.AxesSubplot at 0x7faa14b2b0b8>"
      ]
     },
     "execution_count": 62,
     "metadata": {},
     "output_type": "execute_result"
    },
    {
     "data": {
      "image/png": "[encoded data removed]",
      "text/plain": [
       "<Figure size 864x216 with 1 Axes>"
      ]
     },
     "metadata": {},
     "output_type": "display_data"
    }
   ],
   "source": [
    "importances.plot(kind='bar',title='Variables importance')"
   ]
  },
  {
   "cell_type": "code",
   "execution_count": 63,
   "metadata": {},
   "outputs": [
    {
     "data": {
      "image/png": "[encoded data removed]",
      "text/plain": [
       "<Figure size 1080x216 with 1 Axes>"
      ]
     },
     "metadata": {},
     "output_type": "display_data"
    }
   ],
   "source": [
    "plt.rcParams['figure.figsize'] = [15, 3]\n",
    "\n",
    "x_values = list(range(len(importances)))\n",
    "# Make a bar chart\n",
    "plt.plot(x_values, importances)\n",
    "# Tick labels for x axis\n",
    "plt.xticks(x_values, X_train.columns, rotation='vertical')\n",
    "plt.legend(('DTC','RFC','GBC'))\n",
    "# Axis labels and title\n",
    "plt.ylabel('Importance'); plt.xlabel('Variable'); plt.title('Variable Importances');\n"
   ]
  },
  {
   "cell_type": "markdown",
   "metadata": {},
   "source": [
    "### ROC Curve\n",
    "Receive Operating Characteristics Curve"
   ]
  },
  {
   "cell_type": "code",
   "execution_count": 135,
   "metadata": {},
   "outputs": [
    {
     "name": "stdout",
     "output_type": "stream",
     "text": [
      "GBC 0.86 (0.6568889466396829, 0.7360784151858105)\n"
     ]
    }
   ],
   "source": [
    "    model = DecisionTreeClassifier(max_depth = 3, random_state=42)\n",
    "    model.fit(X_train, y_train)\n",
    "    y_pred = model.predict(X_test)\n",
    "    y_pred_proba = model.predict_proba(X_test)[::,1]\n",
    "    \n",
    "    fpr, tpr, _ = metrics.roc_curve(y_test,  y_pred)\n",
    "    auc =  np.round(metrics.roc_auc_score(y_test, y_pred_proba),4)\n",
    "    auc_ic=roc_auc_ci(y_test,y_pred)\n",
    "    print(name,auc,auc_ic)\n"
   ]
  },
  {
   "cell_type": "markdown",
   "metadata": {},
   "source": [
    "### Calculations"
   ]
  },
  {
   "cell_type": "code",
   "execution_count": 113,
   "metadata": {},
   "outputs": [
    {
     "name": "stdout",
     "output_type": "stream",
     "text": [
      "(0.8041193277474075, 0.8584636704757291)\n",
      "(0.8064050143043162, 0.8602928254039042)\n",
      "(0.801212058778947, 0.8561338684631742)\n"
     ]
    },
    {
     "data": {
      "image/png": "[encoded data removed]",
      "text/plain": [
       "<Figure size 504x504 with 1 Axes>"
      ]
     },
     "metadata": {},
     "output_type": "display_data"
    }
   ],
   "source": [
    "plt.rcParams['figure.figsize'] = [7, 7]\n",
    "\n",
    "for name, model in models:\n",
    "    model.fit(X_train, y_train)\n",
    "    y_pred = model.predict(X_test)\n",
    "    y_pred_proba = model.predict_proba(X_test)[::,1]\n",
    "    \n",
    "    fpr, tpr, _ = metrics.roc_curve(y_test,  y_pred)\n",
    "    auc =  np.round(metrics.roc_auc_score(y_test, y_pred_proba),4)\n",
    "    auc_ic=roc_auc_ci(y_test,y_pred)\n",
    "    print(auc_ic)\n",
    "    plt.plot(fpr,tpr,label=name + \", AUC=\"+str(auc)+' LI:'+str(np.round(auc_ic[0],2))+' UL:'+str(np.round(auc_ic[1],2)))\n",
    "    plt.legend(loc=4)\n",
    "    \n",
    "plt.title('ROC Curve holdout')\n",
    "plt.xlabel('False positive rate'); plt.ylabel('True positive rate')\n",
    "plt.show()"
   ]
  },
  {
   "cell_type": "markdown",
   "metadata": {},
   "source": [
    "## k-fold"
   ]
  },
  {
   "cell_type": "code",
   "execution_count": 65,
   "metadata": {},
   "outputs": [
    {
     "name": "stdout",
     "output_type": "stream",
     "text": [
      "DecisionTreeClassifier(ccp_alpha=0.0, class_weight=None, criterion='gini',\n",
      "                       max_depth=None, max_features=None, max_leaf_nodes=None,\n",
      "                       min_impurity_decrease=0.0, min_impurity_split=None,\n",
      "                       min_samples_leaf=1, min_samples_split=2,\n",
      "                       min_weight_fraction_leaf=0.0, presort='deprecated',\n",
      "                       random_state=None, splitter='best')\n",
      "duracao: 0.6683351993560791\n",
      "Features sorted by their score:\n",
      "[(0.34, 'dayswfreq'), (0.12, 'months'), (0.1, 'tbilled'), (0.1, 'rmonth'), (0.08, 'nrenewals'), (0.07, 'nentries'), (0.07, 'maccess'), (0.07, 'age'), (0.03, 'free_use'), (0.01, 'sex'), (0.01, 'cfreq'), (0.0, 'cref')]\n",
      "RandomForestClassifier(bootstrap=True, ccp_alpha=0.0, class_weight=None,\n",
      "                       criterion='gini', max_depth=None, max_features='auto',\n",
      "                       max_leaf_nodes=None, max_samples=None,\n",
      "                       min_impurity_decrease=0.0, min_impurity_split=None,\n",
      "                       min_samples_leaf=1, min_samples_split=2,\n",
      "                       min_weight_fraction_leaf=0.0, n_estimators=100,\n",
      "                       n_jobs=None, oob_score=False, random_state=None,\n",
      "                       verbose=0, warm_start=False)\n",
      "duracao: 3.924182415008545\n",
      "Features sorted by their score:\n",
      "[(0.29, 'dayswfreq'), (0.14, 'tbilled'), (0.13, 'months'), (0.1, 'maccess'), (0.09, 'nentries'), (0.09, 'age'), (0.07, 'rmonth'), (0.05, 'nrenewals'), (0.02, 'free_use'), (0.01, 'sex'), (0.01, 'cfreq'), (0.0, 'cref')]\n",
      "GradientBoostingClassifier(ccp_alpha=0.0, criterion='friedman_mse', init=None,\n",
      "                           learning_rate=0.1, loss='deviance', max_depth=3,\n",
      "                           max_features=None, max_leaf_nodes=None,\n",
      "                           min_impurity_decrease=0.0, min_impurity_split=None,\n",
      "                           min_samples_leaf=1, min_samples_split=2,\n",
      "                           min_weight_fraction_leaf=0.0, n_estimators=100,\n",
      "                           n_iter_no_change=None, presort='deprecated',\n",
      "                           random_state=None, subsample=1.0, tol=0.0001,\n",
      "                           validation_fraction=0.1, verbose=0,\n",
      "                           warm_start=False)\n",
      "duracao: 4.577105760574341\n",
      "Features sorted by their score:\n",
      "[(0.53, 'dayswfreq'), (0.14, 'months'), (0.08, 'tbilled'), (0.06, 'rmonth'), (0.06, 'nrenewals'), (0.05, 'age'), (0.03, 'free_use'), (0.02, 'cfreq'), (0.01, 'nentries'), (0.01, 'maccess'), (0.0, 'sex'), (0.0, 'cref')]\n",
      "9.178123712539673\n",
      "  Name     Score\n",
      "0  DTC  0.921011\n",
      "1  RFC  0.943830\n",
      "2  GBC  0.942869\n"
     ]
    }
   ],
   "source": [
    "#from sklearn.cross_validation import KFold\n",
    "from sklearn.model_selection import KFold\n",
    "names = []\n",
    "scores = []\n",
    "\n",
    "tInicio=time.time()\n",
    "for name, model in models:\n",
    "    t0=time.time()\n",
    "    kfold = KFold(n_splits=10, random_state=10) \n",
    "    score = cross_val_score(model, X, y, cv=kfold, scoring='accuracy').mean()\n",
    "    print(model)\n",
    "    model.fit(X,y) \n",
    "    names.append(name)\n",
    "    scores.append(score)\n",
    "    \n",
    "    t1 = time.time()\n",
    "    total = t1-t0\n",
    "    print('duracao:',total)\n",
    "    print(\"Features sorted by their score:\")\n",
    "    print(sorted(zip(map(lambda x: float(\"{0:.2f}\".format(round(x, 4))), model.feature_importances_), X_train.columns),reverse=True))\n",
    "    \n",
    "kf_cross_val = pd.DataFrame({'Name': names, 'Score': scores})\n",
    "tFinal = time.time(); total = tFinal-tInicio; print(total)\n",
    "\n",
    "print(kf_cross_val)"
   ]
  },
  {
   "cell_type": "markdown",
   "metadata": {},
   "source": [
    "## Model accuracy"
   ]
  },
  {
   "cell_type": "code",
   "execution_count": 66,
   "metadata": {},
   "outputs": [],
   "source": [
    "plt.rcParams['figure.figsize'] = [12, 3]"
   ]
  },
  {
   "cell_type": "code",
   "execution_count": 67,
   "metadata": {},
   "outputs": [
    {
     "data": {
      "image/png": "[encoded data removed]",
      "text/plain": [
       "<Figure size 864x216 with 1 Axes>"
      ]
     },
     "metadata": {},
     "output_type": "display_data"
    }
   ],
   "source": [
    "axis = sns.barplot(x = 'Nome', y = 'Accuracy', data = tr_split)\n",
    "axis.set(xlabel='Train/Test', ylabel='Accuracy')\n",
    "for p in axis.patches:\n",
    "    height = p.get_height()\n",
    "    axis.text(p.get_x() + p.get_width()/2, height + 0.005, '{:1.4f}'.format(height), ha=\"center\") \n",
    "    \n",
    "plt.show()"
   ]
  },
  {
   "cell_type": "code",
   "execution_count": 68,
   "metadata": {},
   "outputs": [
    {
     "name": "stdout",
     "output_type": "stream",
     "text": [
      "DTC\n",
      "duracao: 0.20648407936096191\n",
      "RFC\n",
      "duracao: 3.8551154136657715\n",
      "GBC\n",
      "duracao: 4.7287678718566895\n"
     ]
    }
   ],
   "source": [
    "import numpy as np\n",
    "importances = pd.DataFrame({'feature':X_train.columns,'importance':np.round(model.feature_importances_,3)})\n",
    "importances = importances.sort_values('importance',ascending=False).set_index('feature')\n",
    "\n",
    "importances = pd.DataFrame({'feature':X.columns})\n",
    "for name, model in models:\n",
    "    t0=time.time()\n",
    "    kfold = KFold(n_splits=10, random_state=10) \n",
    "    score = cross_val_score(model, X, y, cv=kfold, scoring='accuracy').mean()\n",
    "    print(name)\n",
    "    model.fit(X,y) \n",
    "    names.append(name)\n",
    "    scores.append(score)\n",
    "    \n",
    "    t1 = time.time()\n",
    "    total = t1-t0\n",
    "    print('duracao:',total)\n",
    "    importances[name] = np.round(model.feature_importances_,3)\n",
    "\n",
    "importances = importances.set_index('feature')"
   ]
  },
  {
   "cell_type": "markdown",
   "metadata": {},
   "source": [
    "## Variable importance"
   ]
  },
  {
   "cell_type": "code",
   "execution_count": 69,
   "metadata": {},
   "outputs": [],
   "source": [
    "plt.rcParams['figure.figsize'] = [14, 8]"
   ]
  },
  {
   "cell_type": "code",
   "execution_count": 70,
   "metadata": {},
   "outputs": [
    {
     "data": {
      "text/html": [
       "<div>\n",
       "<style scoped>\n",
       "    .dataframe tbody tr th:only-of-type {\n",
       "        vertical-align: middle;\n",
       "    }\n",
       "\n",
       "    .dataframe tbody tr th {\n",
       "        vertical-align: top;\n",
       "    }\n",
       "\n",
       "    .dataframe thead th {\n",
       "        text-align: right;\n",
       "    }\n",
       "</style>\n",
       "<table border=\"1\" class=\"dataframe\">\n",
       "  <thead>\n",
       "    <tr style=\"text-align: right;\">\n",
       "      <th></th>\n",
       "      <th>DTC</th>\n",
       "      <th>RFC</th>\n",
       "      <th>GBC</th>\n",
       "    </tr>\n",
       "    <tr>\n",
       "      <th>feature</th>\n",
       "      <th></th>\n",
       "      <th></th>\n",
       "      <th></th>\n",
       "    </tr>\n",
       "  </thead>\n",
       "  <tbody>\n",
       "    <tr>\n",
       "      <th>age</th>\n",
       "      <td>0.077</td>\n",
       "      <td>0.085</td>\n",
       "      <td>0.047</td>\n",
       "    </tr>\n",
       "    <tr>\n",
       "      <th>sex</th>\n",
       "      <td>0.005</td>\n",
       "      <td>0.013</td>\n",
       "      <td>0.001</td>\n",
       "    </tr>\n",
       "    <tr>\n",
       "      <th>dayswfreq</th>\n",
       "      <td>0.332</td>\n",
       "      <td>0.289</td>\n",
       "      <td>0.528</td>\n",
       "    </tr>\n",
       "    <tr>\n",
       "      <th>months</th>\n",
       "      <td>0.125</td>\n",
       "      <td>0.133</td>\n",
       "      <td>0.138</td>\n",
       "    </tr>\n",
       "    <tr>\n",
       "      <th>tbilled</th>\n",
       "      <td>0.104</td>\n",
       "      <td>0.145</td>\n",
       "      <td>0.085</td>\n",
       "    </tr>\n",
       "    <tr>\n",
       "      <th>maccess</th>\n",
       "      <td>0.062</td>\n",
       "      <td>0.097</td>\n",
       "      <td>0.012</td>\n",
       "    </tr>\n",
       "    <tr>\n",
       "      <th>free_use</th>\n",
       "      <td>0.026</td>\n",
       "      <td>0.017</td>\n",
       "      <td>0.033</td>\n",
       "    </tr>\n",
       "    <tr>\n",
       "      <th>nentries</th>\n",
       "      <td>0.069</td>\n",
       "      <td>0.086</td>\n",
       "      <td>0.015</td>\n",
       "    </tr>\n",
       "    <tr>\n",
       "      <th>cfreq</th>\n",
       "      <td>0.011</td>\n",
       "      <td>0.015</td>\n",
       "      <td>0.022</td>\n",
       "    </tr>\n",
       "    <tr>\n",
       "      <th>nrenewals</th>\n",
       "      <td>0.082</td>\n",
       "      <td>0.048</td>\n",
       "      <td>0.057</td>\n",
       "    </tr>\n",
       "    <tr>\n",
       "      <th>cref</th>\n",
       "      <td>0.001</td>\n",
       "      <td>0.000</td>\n",
       "      <td>0.000</td>\n",
       "    </tr>\n",
       "    <tr>\n",
       "      <th>rmonth</th>\n",
       "      <td>0.107</td>\n",
       "      <td>0.073</td>\n",
       "      <td>0.062</td>\n",
       "    </tr>\n",
       "  </tbody>\n",
       "</table>\n",
       "</div>"
      ],
      "text/plain": [
       "             DTC    RFC    GBC\n",
       "feature                       \n",
       "age        0.077  0.085  0.047\n",
       "sex        0.005  0.013  0.001\n",
       "dayswfreq  0.332  0.289  0.528\n",
       "months     0.125  0.133  0.138\n",
       "tbilled    0.104  0.145  0.085\n",
       "maccess    0.062  0.097  0.012\n",
       "free_use   0.026  0.017  0.033\n",
       "nentries   0.069  0.086  0.015\n",
       "cfreq      0.011  0.015  0.022\n",
       "nrenewals  0.082  0.048  0.057\n",
       "cref       0.001  0.000  0.000\n",
       "rmonth     0.107  0.073  0.062"
      ]
     },
     "execution_count": 70,
     "metadata": {},
     "output_type": "execute_result"
    }
   ],
   "source": [
    "importances"
   ]
  },
  {
   "cell_type": "code",
   "execution_count": 71,
   "metadata": {},
   "outputs": [
    {
     "data": {
      "image/png": "[encoded data removed]",
      "text/plain": [
       "<Figure size 1080x216 with 1 Axes>"
      ]
     },
     "metadata": {},
     "output_type": "display_data"
    }
   ],
   "source": [
    "plt.rcParams['figure.figsize'] = [15, 3]\n",
    "x_values = list(range(len(importances)))\n",
    "# Make a bar chart\n",
    "plt.plot(x_values, importances)\n",
    "# Tick labels for x axis\n",
    "plt.xticks(x_values, X_train.columns, rotation='vertical')\n",
    "# Axis labels and title\n",
    "plt.ylabel('Importance'); plt.xlabel('Variable'); plt.title('Variable Importances');"
   ]
  },
  {
   "cell_type": "markdown",
   "metadata": {},
   "source": [
    "### ROC Curve\n",
    "Receive Operating Characteristics Curve"
   ]
  },
  {
   "cell_type": "code",
   "execution_count": 72,
   "metadata": {},
   "outputs": [],
   "source": [
    "plt.rcParams['figure.figsize'] = [10, 10]"
   ]
  },
  {
   "cell_type": "code",
   "execution_count": 73,
   "metadata": {},
   "outputs": [
    {
     "data": {
      "image/png": "[encoded data removed]",
      "text/plain": [
       "<Figure size 720x720 with 1 Axes>"
      ]
     },
     "metadata": {},
     "output_type": "display_data"
    },
    {
     "data": {
      "image/png": "[encoded data removed]",
      "text/plain": [
       "<Figure size 720x720 with 1 Axes>"
      ]
     },
     "metadata": {},
     "output_type": "display_data"
    },
    {
     "data": {
      "image/png": "[encoded data removed]",
      "text/plain": [
       "<Figure size 720x720 with 1 Axes>"
      ]
     },
     "metadata": {},
     "output_type": "display_data"
    }
   ],
   "source": [
    "#Adapted from https://scikit-learn.org/stable/auto_examples/model_selection/plot_roc_crossval.html#sphx-glr-auto-examples-model-selection-plot-roc-crossval-py\n",
    "from sklearn.model_selection import StratifiedKFold\n",
    "from sklearn.metrics import roc_curve, auc\n",
    "from scipy import interp\n",
    "\n",
    "mean_fpr = np.linspace(0, 1, 100)\n",
    "mean_tpr = 0\n",
    "\n",
    "for name, model in models:\n",
    "    kfold = KFold(n_splits=10, random_state=10) \n",
    "    cv = StratifiedKFold(n_splits=10)\n",
    "    score = cross_val_score(model, X, y, cv=kfold, scoring='accuracy').mean()\n",
    "    i=0\n",
    "    tprs= []\n",
    "    aucs= []\n",
    "    for train, test in cv.split(X, y):\n",
    "        probas_ = model.fit(X.iloc[train], y.iloc[train]).predict_proba(X.iloc[test])\n",
    "        probas_ = model.fit(X.iloc[train], y.iloc[train]).predict_proba(X.iloc[test])\n",
    "        # Compute ROC curve and area the curve\n",
    "        fpr, tpr, thresholds = roc_curve(y.iloc[test], probas_[:,1])\n",
    "        tprs.append(interp(mean_fpr,fpr,tpr))\n",
    "        tprs[-1][0] = 0.0\n",
    "        mean_tpr += interp(mean_fpr, fpr, tpr)\n",
    "        mean_tpr[0] = 0.0\n",
    "        roc_auc = auc(fpr, tpr)\n",
    "        aucs.append(roc_auc)\n",
    "        plt.plot(fpr, tpr, lw=1, label='ROC fold %d (area = %0.2f)' % (i, roc_auc))\n",
    "        i += 1\n",
    "\n",
    "    plt.plot([0, 1], [0, 1], linestyle='--', lw=2, color='r', label='Chance', alpha=.8)\n",
    "    \n",
    "    mean_tpr = np.mean(tprs, axis=0)\n",
    "    mean_tpr[-1] = 1.0\n",
    "    mean_auc = auc(mean_fpr, mean_tpr)\n",
    "    std_auc = np.std(aucs)\n",
    "    plt.plot(mean_fpr, mean_tpr, color='b',label=r'Mean ROC (AUC = %0.2f $\\pm$ %0.2f)' % (mean_auc, std_auc),\n",
    "             lw=2, alpha=.8)\n",
    "    \n",
    "    plt.xlim([-0.05, 1.05]); plt.ylim([-0.05, 1.05])\n",
    "    plt.xlabel('False Positive Rate'); plt.ylabel('True Positive Rate')\n",
    "    plt.title('ROC Curve '+name); plt.legend(loc=\"lower right\")\n",
    "    plt.show()"
   ]
  },
  {
   "cell_type": "markdown",
   "metadata": {},
   "source": [
    "# Vamos ver a importância de cada variável em cada árvore no random forest"
   ]
  },
  {
   "cell_type": "code",
   "execution_count": 74,
   "metadata": {},
   "outputs": [],
   "source": [
    "importances = pd.DataFrame({'feature':X.columns})\n",
    "\n",
    "kfold = KFold(n_splits=10, random_state=10) \n",
    "score = cross_val_score(model, X, y, cv=kfold, scoring='accuracy').mean()\n",
    "model = RandomForestClassifier(n_estimators= 10, max_leaf_nodes=4)\n",
    "model.fit(X,y) \n",
    "\n",
    "i=1\n",
    "for tree in model.estimators_:\n",
    "    t0=time.time()\n",
    "    kfold = KFold(n_splits=10, random_state=10) \n",
    "    names.append(name)\n",
    "    scores.append(score)\n",
    "    \n",
    "    t1 = time.time()\n",
    "    total = t1-t0\n",
    "    importances[i] = np.round(tree.feature_importances_,3)\n",
    "    i+=1\n",
    "\n",
    "importances = importances.set_index('feature')"
   ]
  },
  {
   "cell_type": "code",
   "execution_count": 75,
   "metadata": {},
   "outputs": [
    {
     "data": {
      "image/png": "[encoded data removed]",
      "text/plain": [
       "<Figure size 1296x360 with 1 Axes>"
      ]
     },
     "metadata": {},
     "output_type": "display_data"
    }
   ],
   "source": [
    "plt.rcParams['figure.figsize'] = [18, 5]\n",
    "importances.plot.bar()\n",
    "plt.xticks(rotation=90);"
   ]
  }
 ],
 "metadata": {
  "kernelspec": {
   "display_name": "Python 3",
   "language": "python",
   "name": "python3"
  },
  "language_info": {
   "codemirror_mode": {
    "name": "ipython",
    "version": 3
   },
   "file_extension": ".py",
   "mimetype": "text/x-python",
   "name": "python",
   "nbconvert_exporter": "python",
   "pygments_lexer": "ipython3",
   "version": "3.6.9"
  },
  "toc-autonumbering": true,
  "toc-showcode": false,
  "toc-showmarkdowntxt": false,
  "toc-showtags": false
 },
 "nbformat": 4,
 "nbformat_minor": 4
}
