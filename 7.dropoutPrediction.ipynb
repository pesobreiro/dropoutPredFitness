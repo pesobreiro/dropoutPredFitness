{
 "cells": [
  {
   "cell_type": "markdown",
   "metadata": {},
   "source": [
    "# Sport instalation analysis\n",
    "\n",
    "Variables:\n",
    "- age\tAge of the participants in years\n",
    "- sex\tSex (0-female, 1-male)\n",
    "- dayswfreq\tNon-attendance days before dropout\n",
    "- tbilled\tTotal amount billed in euros during the registration period (values in euros). \n",
    "- maccess\tAverage number of visits per week\n",
    "- freeuse\tFree use (0-no, 1-yes)\n",
    "- nentries\tTotal number of visits to the fitness center that the customer made during the registration \n",
    "- cfreq\tWeekly contracted accesses \n",
    "- nrenewals\tNumber of registration renewals\n",
    "- cref\tNumber of customer referrals\n",
    "- rmonth\tRegistration month\n",
    "- months\tCustomer enrolment (total time in months)\n",
    "- dropout\tMeasure of customers’ commitment (0=active, 1=dropout)\n",
    "\n",
    "\n",
    "1/TRUE = dead i.e. abandonou\n",
    "0/FALSE = alive i.e. não abandonou\n"
   ]
  },
  {
   "cell_type": "markdown",
   "metadata": {},
   "source": [
    "Corrections to the analysis considering the reviewers suggestions:\n",
    "1. Include 95% confidence intervals in Table 2 for the AUC\n",
    "2. Before moving to decision tree models, one should always try standard logistic regression\n",
    "3. There needs to be some cross validation performed. The reviewer suggests performing a three-fold cross validation for at least 50 iterations. This will generate condence intervals that the authors can see how stable their models are\n",
    "4. Data stratification on the hold-out"
   ]
  },
  {
   "cell_type": "markdown",
   "metadata": {},
   "source": [
    "# Support functions"
   ]
  },
  {
   "cell_type": "code",
   "execution_count": 109,
   "metadata": {},
   "outputs": [],
   "source": [
    "# Adapted from https://gist.github.com/doraneko94/e24643136cfb8baf03ef8a314ab9615c\n",
    "from sklearn.metrics import roc_auc_score\n",
    "from math import sqrt\n",
    "def roc_auc_ci(y_true, y_score, positive=1):\n",
    "    '''\n",
    "    # y_true = TRUE data\n",
    "    # y_pred = predicted data at the model\n",
    "    '''\n",
    "    auc = roc_auc_score(y_true, y_score)\n",
    "    n1 = sum(y_true == positive)\n",
    "    n2 = sum(y_true != positive)\n",
    "    q1 = auc / (2 - auc)\n",
    "    q2 = 2*auc**2 / (1 + auc)\n",
    "    se_auc = sqrt((auc*(1 - auc) + (n1 - 1)*(q1 - auc**2) + (n2 - 1)*(q2 - auc**2)) / (n1*n2))\n",
    "    lower = auc - 1.96*se_auc\n",
    "    upper = auc + 1.96*se_auc\n",
    "    if lower < 0:\n",
    "        lower = 0\n",
    "    if upper > 1:\n",
    "        upper = 1\n",
    "    return (lower, upper)"
   ]
  },
  {
   "cell_type": "markdown",
   "metadata": {},
   "source": [
    "# Imports"
   ]
  },
  {
   "cell_type": "code",
   "execution_count": 110,
   "metadata": {},
   "outputs": [],
   "source": [
    "import numpy as np\n",
    "import pandas as pd\n",
    "import time\n",
    "from sklearn import linear_model, datasets\n",
    "from sklearn import metrics\n",
    "from sklearn import preprocessing\n",
    "\n",
    "import matplotlib.pyplot as plt\n",
    "import seaborn as sns\n",
    "\n",
    "plt.style.use('fivethirtyeight')"
   ]
  },
  {
   "cell_type": "code",
   "execution_count": 111,
   "metadata": {},
   "outputs": [],
   "source": [
    "from sklearn.linear_model import LogisticRegression\n",
    "from sklearn.tree import DecisionTreeClassifier\n",
    "from sklearn.ensemble import RandomForestClassifier\n",
    "from sklearn.ensemble import GradientBoostingClassifier"
   ]
  },
  {
   "cell_type": "code",
   "execution_count": 112,
   "metadata": {},
   "outputs": [],
   "source": [
    "# Disable warnings\n",
    "import warnings\n",
    "warnings.filterwarnings('ignore')"
   ]
  },
  {
   "cell_type": "code",
   "execution_count": 113,
   "metadata": {},
   "outputs": [],
   "source": [
    "from sklearn.model_selection import train_test_split\n",
    "from sklearn.model_selection import StratifiedKFold\n",
    "from sklearn.model_selection import cross_val_score\n",
    "from sklearn.metrics import accuracy_score,mean_squared_error\n",
    "import time\n",
    "\n",
    "import graphviz\n",
    "import pydotplus\n",
    "#import pydot\n",
    "from sklearn.externals.six import StringIO  \n",
    "from sklearn.tree import export_graphviz\n",
    "from IPython.display import Image  "
   ]
  },
  {
   "cell_type": "code",
   "execution_count": 114,
   "metadata": {},
   "outputs": [],
   "source": [
    "from sklearn.model_selection import train_test_split\n",
    "from sklearn.model_selection import StratifiedKFold\n",
    "from sklearn.model_selection import cross_val_score\n",
    "from sklearn.metrics import accuracy_score,mean_squared_error\n",
    "from sklearn import metrics\n",
    "import time\n",
    "\n",
    "import graphviz\n",
    "import pydotplus\n",
    "#import pydot\n",
    "from sklearn.externals.six import StringIO  \n",
    "from sklearn.tree import export_graphviz\n",
    "from IPython.display import Image  "
   ]
  },
  {
   "cell_type": "code",
   "execution_count": 115,
   "metadata": {},
   "outputs": [],
   "source": [
    "from sklearn.model_selection import GridSearchCV"
   ]
  },
  {
   "cell_type": "code",
   "execution_count": 116,
   "metadata": {},
   "outputs": [],
   "source": [
    "from sklearn import tree\n",
    "from dtreeviz.trees import *"
   ]
  },
  {
   "cell_type": "code",
   "execution_count": 117,
   "metadata": {},
   "outputs": [],
   "source": [
    "%matplotlib inline"
   ]
  },
  {
   "cell_type": "markdown",
   "metadata": {},
   "source": [
    "# Data processing"
   ]
  },
  {
   "cell_type": "code",
   "execution_count": 118,
   "metadata": {},
   "outputs": [],
   "source": [
    "#reading data\n",
    "dt = pd.read_excel('dataset/fitnessCustomers.xlsx',index_col=0)"
   ]
  },
  {
   "cell_type": "code",
   "execution_count": 119,
   "metadata": {},
   "outputs": [
    {
     "data": {
      "text/plain": [
       "(5216, 13)"
      ]
     },
     "execution_count": 119,
     "metadata": {},
     "output_type": "execute_result"
    }
   ],
   "source": [
    "#rows and columns\n",
    "dt.shape"
   ]
  },
  {
   "cell_type": "code",
   "execution_count": 120,
   "metadata": {},
   "outputs": [
    {
     "data": {
      "text/plain": [
       "Index(['age', 'sex', 'dayswfreq', 'tbilled', 'maccess', 'freeuse', 'nentries',\n",
       "       'cfreq', 'nrenewals', 'cref', 'startDate', 'months', 'dropout'],\n",
       "      dtype='object')"
      ]
     },
     "execution_count": 120,
     "metadata": {},
     "output_type": "execute_result"
    }
   ],
   "source": [
    "#feature names\n",
    "dt.columns"
   ]
  },
  {
   "cell_type": "code",
   "execution_count": 121,
   "metadata": {},
   "outputs": [
    {
     "data": {
      "text/html": [
       "<div>\n",
       "<style scoped>\n",
       "    .dataframe tbody tr th:only-of-type {\n",
       "        vertical-align: middle;\n",
       "    }\n",
       "\n",
       "    .dataframe tbody tr th {\n",
       "        vertical-align: top;\n",
       "    }\n",
       "\n",
       "    .dataframe thead th {\n",
       "        text-align: right;\n",
       "    }\n",
       "</style>\n",
       "<table border=\"1\" class=\"dataframe\">\n",
       "  <thead>\n",
       "    <tr style=\"text-align: right;\">\n",
       "      <th>Id</th>\n",
       "      <th>00130FE8-5D34-4C66-9819-1EB0BFE69979</th>\n",
       "      <th>0016D0DD-E713-4EDC-BAA3-386AB4CE6779</th>\n",
       "    </tr>\n",
       "  </thead>\n",
       "  <tbody>\n",
       "    <tr>\n",
       "      <th>age</th>\n",
       "      <td>23</td>\n",
       "      <td>34</td>\n",
       "    </tr>\n",
       "    <tr>\n",
       "      <th>sex</th>\n",
       "      <td>1</td>\n",
       "      <td>1</td>\n",
       "    </tr>\n",
       "    <tr>\n",
       "      <th>dayswfreq</th>\n",
       "      <td>7</td>\n",
       "      <td>328</td>\n",
       "    </tr>\n",
       "    <tr>\n",
       "      <th>tbilled</th>\n",
       "      <td>37.6</td>\n",
       "      <td>205.6</td>\n",
       "    </tr>\n",
       "    <tr>\n",
       "      <th>maccess</th>\n",
       "      <td>1.35</td>\n",
       "      <td>0.54</td>\n",
       "    </tr>\n",
       "    <tr>\n",
       "      <th>freeuse</th>\n",
       "      <td>0</td>\n",
       "      <td>0</td>\n",
       "    </tr>\n",
       "    <tr>\n",
       "      <th>nentries</th>\n",
       "      <td>6</td>\n",
       "      <td>39</td>\n",
       "    </tr>\n",
       "    <tr>\n",
       "      <th>cfreq</th>\n",
       "      <td>7</td>\n",
       "      <td>7</td>\n",
       "    </tr>\n",
       "    <tr>\n",
       "      <th>nrenewals</th>\n",
       "      <td>0</td>\n",
       "      <td>2</td>\n",
       "    </tr>\n",
       "    <tr>\n",
       "      <th>cref</th>\n",
       "      <td>0</td>\n",
       "      <td>0</td>\n",
       "    </tr>\n",
       "    <tr>\n",
       "      <th>startDate</th>\n",
       "      <td>2017-05-02 09:43:11.320</td>\n",
       "      <td>2016-04-20 18:33:21.170</td>\n",
       "    </tr>\n",
       "    <tr>\n",
       "      <th>months</th>\n",
       "      <td>1</td>\n",
       "      <td>19</td>\n",
       "    </tr>\n",
       "    <tr>\n",
       "      <th>dropout</th>\n",
       "      <td>1</td>\n",
       "      <td>0</td>\n",
       "    </tr>\n",
       "  </tbody>\n",
       "</table>\n",
       "</div>"
      ],
      "text/plain": [
       "Id        00130FE8-5D34-4C66-9819-1EB0BFE69979  \\\n",
       "age                                         23   \n",
       "sex                                          1   \n",
       "dayswfreq                                    7   \n",
       "tbilled                                   37.6   \n",
       "maccess                                   1.35   \n",
       "freeuse                                      0   \n",
       "nentries                                     6   \n",
       "cfreq                                        7   \n",
       "nrenewals                                    0   \n",
       "cref                                         0   \n",
       "startDate              2017-05-02 09:43:11.320   \n",
       "months                                       1   \n",
       "dropout                                      1   \n",
       "\n",
       "Id        0016D0DD-E713-4EDC-BAA3-386AB4CE6779  \n",
       "age                                         34  \n",
       "sex                                          1  \n",
       "dayswfreq                                  328  \n",
       "tbilled                                  205.6  \n",
       "maccess                                   0.54  \n",
       "freeuse                                      0  \n",
       "nentries                                    39  \n",
       "cfreq                                        7  \n",
       "nrenewals                                    2  \n",
       "cref                                         0  \n",
       "startDate              2016-04-20 18:33:21.170  \n",
       "months                                      19  \n",
       "dropout                                      0  "
      ]
     },
     "execution_count": 121,
     "metadata": {},
     "output_type": "execute_result"
    }
   ],
   "source": [
    "dt.head(2).T"
   ]
  },
  {
   "cell_type": "code",
   "execution_count": 122,
   "metadata": {},
   "outputs": [
    {
     "data": {
      "text/plain": [
       "1    4566\n",
       "0     650\n",
       "Name: dropout, dtype: int64"
      ]
     },
     "execution_count": 122,
     "metadata": {},
     "output_type": "execute_result"
    }
   ],
   "source": [
    "# number Customers by dropout\n",
    "dt.dropout.value_counts()"
   ]
  },
  {
   "cell_type": "code",
   "execution_count": 123,
   "metadata": {
    "scrolled": true
   },
   "outputs": [
    {
     "data": {
      "text/html": [
       "<div>\n",
       "<style scoped>\n",
       "    .dataframe tbody tr th:only-of-type {\n",
       "        vertical-align: middle;\n",
       "    }\n",
       "\n",
       "    .dataframe tbody tr th {\n",
       "        vertical-align: top;\n",
       "    }\n",
       "\n",
       "    .dataframe thead th {\n",
       "        text-align: right;\n",
       "    }\n",
       "</style>\n",
       "<table border=\"1\" class=\"dataframe\">\n",
       "  <thead>\n",
       "    <tr style=\"text-align: right;\">\n",
       "      <th>Id</th>\n",
       "      <th>00130FE8-5D34-4C66-9819-1EB0BFE69979</th>\n",
       "      <th>0016D0DD-E713-4EDC-BAA3-386AB4CE6779</th>\n",
       "      <th>001A70CA-0985-42D1-A0C0-6D70BEC00BFB</th>\n",
       "      <th>001B9AC2-7711-4384-BF9D-C5205F68BDFC</th>\n",
       "      <th>001D927E-ACD2-4B3D-ACDA-1480F6A31F3E</th>\n",
       "    </tr>\n",
       "  </thead>\n",
       "  <tbody>\n",
       "    <tr>\n",
       "      <th>age</th>\n",
       "      <td>23</td>\n",
       "      <td>34</td>\n",
       "      <td>24</td>\n",
       "      <td>20</td>\n",
       "      <td>21</td>\n",
       "    </tr>\n",
       "    <tr>\n",
       "      <th>sex</th>\n",
       "      <td>1</td>\n",
       "      <td>1</td>\n",
       "      <td>0</td>\n",
       "      <td>1</td>\n",
       "      <td>1</td>\n",
       "    </tr>\n",
       "    <tr>\n",
       "      <th>dayswfreq</th>\n",
       "      <td>7</td>\n",
       "      <td>328</td>\n",
       "      <td>3</td>\n",
       "      <td>41</td>\n",
       "      <td>18</td>\n",
       "    </tr>\n",
       "    <tr>\n",
       "      <th>tbilled</th>\n",
       "      <td>37.6</td>\n",
       "      <td>205.6</td>\n",
       "      <td>140</td>\n",
       "      <td>71.6</td>\n",
       "      <td>113.2</td>\n",
       "    </tr>\n",
       "    <tr>\n",
       "      <th>maccess</th>\n",
       "      <td>1.35</td>\n",
       "      <td>0.54</td>\n",
       "      <td>0.8</td>\n",
       "      <td>1</td>\n",
       "      <td>0.08</td>\n",
       "    </tr>\n",
       "    <tr>\n",
       "      <th>freeuse</th>\n",
       "      <td>0</td>\n",
       "      <td>0</td>\n",
       "      <td>0</td>\n",
       "      <td>0</td>\n",
       "      <td>0</td>\n",
       "    </tr>\n",
       "    <tr>\n",
       "      <th>nentries</th>\n",
       "      <td>6</td>\n",
       "      <td>39</td>\n",
       "      <td>28</td>\n",
       "      <td>13</td>\n",
       "      <td>7</td>\n",
       "    </tr>\n",
       "    <tr>\n",
       "      <th>cfreq</th>\n",
       "      <td>7</td>\n",
       "      <td>7</td>\n",
       "      <td>7</td>\n",
       "      <td>7</td>\n",
       "      <td>7</td>\n",
       "    </tr>\n",
       "    <tr>\n",
       "      <th>nrenewals</th>\n",
       "      <td>0</td>\n",
       "      <td>2</td>\n",
       "      <td>0</td>\n",
       "      <td>0</td>\n",
       "      <td>3</td>\n",
       "    </tr>\n",
       "    <tr>\n",
       "      <th>cref</th>\n",
       "      <td>0</td>\n",
       "      <td>0</td>\n",
       "      <td>0</td>\n",
       "      <td>0</td>\n",
       "      <td>0</td>\n",
       "    </tr>\n",
       "    <tr>\n",
       "      <th>startDate</th>\n",
       "      <td>2017-05-02 09:43:11.320</td>\n",
       "      <td>2016-04-20 18:33:21.170</td>\n",
       "      <td>2015-12-01 19:47:59.513</td>\n",
       "      <td>2015-10-06 16:33:47.983</td>\n",
       "      <td>2015-03-25 15:25:11.383</td>\n",
       "    </tr>\n",
       "    <tr>\n",
       "      <th>months</th>\n",
       "      <td>1</td>\n",
       "      <td>19</td>\n",
       "      <td>8</td>\n",
       "      <td>3</td>\n",
       "      <td>24</td>\n",
       "    </tr>\n",
       "    <tr>\n",
       "      <th>dropout</th>\n",
       "      <td>1</td>\n",
       "      <td>0</td>\n",
       "      <td>1</td>\n",
       "      <td>1</td>\n",
       "      <td>1</td>\n",
       "    </tr>\n",
       "  </tbody>\n",
       "</table>\n",
       "</div>"
      ],
      "text/plain": [
       "Id        00130FE8-5D34-4C66-9819-1EB0BFE69979  \\\n",
       "age                                         23   \n",
       "sex                                          1   \n",
       "dayswfreq                                    7   \n",
       "tbilled                                   37.6   \n",
       "maccess                                   1.35   \n",
       "freeuse                                      0   \n",
       "nentries                                     6   \n",
       "cfreq                                        7   \n",
       "nrenewals                                    0   \n",
       "cref                                         0   \n",
       "startDate              2017-05-02 09:43:11.320   \n",
       "months                                       1   \n",
       "dropout                                      1   \n",
       "\n",
       "Id        0016D0DD-E713-4EDC-BAA3-386AB4CE6779  \\\n",
       "age                                         34   \n",
       "sex                                          1   \n",
       "dayswfreq                                  328   \n",
       "tbilled                                  205.6   \n",
       "maccess                                   0.54   \n",
       "freeuse                                      0   \n",
       "nentries                                    39   \n",
       "cfreq                                        7   \n",
       "nrenewals                                    2   \n",
       "cref                                         0   \n",
       "startDate              2016-04-20 18:33:21.170   \n",
       "months                                      19   \n",
       "dropout                                      0   \n",
       "\n",
       "Id        001A70CA-0985-42D1-A0C0-6D70BEC00BFB  \\\n",
       "age                                         24   \n",
       "sex                                          0   \n",
       "dayswfreq                                    3   \n",
       "tbilled                                    140   \n",
       "maccess                                    0.8   \n",
       "freeuse                                      0   \n",
       "nentries                                    28   \n",
       "cfreq                                        7   \n",
       "nrenewals                                    0   \n",
       "cref                                         0   \n",
       "startDate              2015-12-01 19:47:59.513   \n",
       "months                                       8   \n",
       "dropout                                      1   \n",
       "\n",
       "Id        001B9AC2-7711-4384-BF9D-C5205F68BDFC  \\\n",
       "age                                         20   \n",
       "sex                                          1   \n",
       "dayswfreq                                   41   \n",
       "tbilled                                   71.6   \n",
       "maccess                                      1   \n",
       "freeuse                                      0   \n",
       "nentries                                    13   \n",
       "cfreq                                        7   \n",
       "nrenewals                                    0   \n",
       "cref                                         0   \n",
       "startDate              2015-10-06 16:33:47.983   \n",
       "months                                       3   \n",
       "dropout                                      1   \n",
       "\n",
       "Id        001D927E-ACD2-4B3D-ACDA-1480F6A31F3E  \n",
       "age                                         21  \n",
       "sex                                          1  \n",
       "dayswfreq                                   18  \n",
       "tbilled                                  113.2  \n",
       "maccess                                   0.08  \n",
       "freeuse                                      0  \n",
       "nentries                                     7  \n",
       "cfreq                                        7  \n",
       "nrenewals                                    3  \n",
       "cref                                         0  \n",
       "startDate              2015-03-25 15:25:11.383  \n",
       "months                                      24  \n",
       "dropout                                      1  "
      ]
     },
     "execution_count": 123,
     "metadata": {},
     "output_type": "execute_result"
    }
   ],
   "source": [
    "dt.head().T"
   ]
  },
  {
   "cell_type": "markdown",
   "metadata": {},
   "source": [
    "## Inscription month calculation"
   ]
  },
  {
   "cell_type": "code",
   "execution_count": 124,
   "metadata": {},
   "outputs": [],
   "source": [
    "# Calculate inscriptio month\n",
    "dt['rmonth']=dt['startDate'].str.extract('-(\\d\\d)', expand=True)\n",
    "dt['rmonth']=pd.to_numeric(dt['rmonth'])"
   ]
  },
  {
   "cell_type": "code",
   "execution_count": 125,
   "metadata": {},
   "outputs": [],
   "source": [
    "# drop start date\n",
    "dt.drop(axis=1,columns=['startDate'],inplace=True)"
   ]
  },
  {
   "cell_type": "code",
   "execution_count": 126,
   "metadata": {},
   "outputs": [
    {
     "data": {
      "text/plain": [
       "Index(['age', 'sex', 'dayswfreq', 'tbilled', 'maccess', 'freeuse', 'nentries',\n",
       "       'cfreq', 'nrenewals', 'cref', 'months', 'dropout', 'rmonth'],\n",
       "      dtype='object')"
      ]
     },
     "execution_count": 126,
     "metadata": {},
     "output_type": "execute_result"
    }
   ],
   "source": [
    "dt.columns"
   ]
  },
  {
   "cell_type": "code",
   "execution_count": 127,
   "metadata": {},
   "outputs": [
    {
     "data": {
      "text/html": [
       "<div>\n",
       "<style scoped>\n",
       "    .dataframe tbody tr th:only-of-type {\n",
       "        vertical-align: middle;\n",
       "    }\n",
       "\n",
       "    .dataframe tbody tr th {\n",
       "        vertical-align: top;\n",
       "    }\n",
       "\n",
       "    .dataframe thead th {\n",
       "        text-align: right;\n",
       "    }\n",
       "</style>\n",
       "<table border=\"1\" class=\"dataframe\">\n",
       "  <thead>\n",
       "    <tr style=\"text-align: right;\">\n",
       "      <th>Id</th>\n",
       "      <th>00130FE8-5D34-4C66-9819-1EB0BFE69979</th>\n",
       "      <th>0016D0DD-E713-4EDC-BAA3-386AB4CE6779</th>\n",
       "    </tr>\n",
       "  </thead>\n",
       "  <tbody>\n",
       "    <tr>\n",
       "      <th>age</th>\n",
       "      <td>23.00</td>\n",
       "      <td>34.00</td>\n",
       "    </tr>\n",
       "    <tr>\n",
       "      <th>sex</th>\n",
       "      <td>1.00</td>\n",
       "      <td>1.00</td>\n",
       "    </tr>\n",
       "    <tr>\n",
       "      <th>dayswfreq</th>\n",
       "      <td>7.00</td>\n",
       "      <td>328.00</td>\n",
       "    </tr>\n",
       "    <tr>\n",
       "      <th>tbilled</th>\n",
       "      <td>37.60</td>\n",
       "      <td>205.60</td>\n",
       "    </tr>\n",
       "    <tr>\n",
       "      <th>maccess</th>\n",
       "      <td>1.35</td>\n",
       "      <td>0.54</td>\n",
       "    </tr>\n",
       "    <tr>\n",
       "      <th>freeuse</th>\n",
       "      <td>0.00</td>\n",
       "      <td>0.00</td>\n",
       "    </tr>\n",
       "    <tr>\n",
       "      <th>nentries</th>\n",
       "      <td>6.00</td>\n",
       "      <td>39.00</td>\n",
       "    </tr>\n",
       "    <tr>\n",
       "      <th>cfreq</th>\n",
       "      <td>7.00</td>\n",
       "      <td>7.00</td>\n",
       "    </tr>\n",
       "    <tr>\n",
       "      <th>nrenewals</th>\n",
       "      <td>0.00</td>\n",
       "      <td>2.00</td>\n",
       "    </tr>\n",
       "    <tr>\n",
       "      <th>cref</th>\n",
       "      <td>0.00</td>\n",
       "      <td>0.00</td>\n",
       "    </tr>\n",
       "    <tr>\n",
       "      <th>months</th>\n",
       "      <td>1.00</td>\n",
       "      <td>19.00</td>\n",
       "    </tr>\n",
       "    <tr>\n",
       "      <th>dropout</th>\n",
       "      <td>1.00</td>\n",
       "      <td>0.00</td>\n",
       "    </tr>\n",
       "    <tr>\n",
       "      <th>rmonth</th>\n",
       "      <td>5.00</td>\n",
       "      <td>4.00</td>\n",
       "    </tr>\n",
       "  </tbody>\n",
       "</table>\n",
       "</div>"
      ],
      "text/plain": [
       "Id         00130FE8-5D34-4C66-9819-1EB0BFE69979  \\\n",
       "age                                       23.00   \n",
       "sex                                        1.00   \n",
       "dayswfreq                                  7.00   \n",
       "tbilled                                   37.60   \n",
       "maccess                                    1.35   \n",
       "freeuse                                    0.00   \n",
       "nentries                                   6.00   \n",
       "cfreq                                      7.00   \n",
       "nrenewals                                  0.00   \n",
       "cref                                       0.00   \n",
       "months                                     1.00   \n",
       "dropout                                    1.00   \n",
       "rmonth                                     5.00   \n",
       "\n",
       "Id         0016D0DD-E713-4EDC-BAA3-386AB4CE6779  \n",
       "age                                       34.00  \n",
       "sex                                        1.00  \n",
       "dayswfreq                                328.00  \n",
       "tbilled                                  205.60  \n",
       "maccess                                    0.54  \n",
       "freeuse                                    0.00  \n",
       "nentries                                  39.00  \n",
       "cfreq                                      7.00  \n",
       "nrenewals                                  2.00  \n",
       "cref                                       0.00  \n",
       "months                                    19.00  \n",
       "dropout                                    0.00  \n",
       "rmonth                                     4.00  "
      ]
     },
     "execution_count": 127,
     "metadata": {},
     "output_type": "execute_result"
    }
   ],
   "source": [
    "dt.head(2).T"
   ]
  },
  {
   "cell_type": "markdown",
   "metadata": {},
   "source": [
    "## Checking null values"
   ]
  },
  {
   "cell_type": "code",
   "execution_count": 128,
   "metadata": {},
   "outputs": [
    {
     "data": {
      "text/plain": [
       "age          False\n",
       "sex          False\n",
       "dayswfreq    False\n",
       "tbilled      False\n",
       "maccess      False\n",
       "freeuse      False\n",
       "nentries     False\n",
       "cfreq         True\n",
       "nrenewals    False\n",
       "cref         False\n",
       "months       False\n",
       "dropout      False\n",
       "rmonth       False\n",
       "dtype: bool"
      ]
     },
     "execution_count": 128,
     "metadata": {},
     "output_type": "execute_result"
    }
   ],
   "source": [
    "dt.isnull().any()"
   ]
  },
  {
   "cell_type": "code",
   "execution_count": 129,
   "metadata": {},
   "outputs": [
    {
     "data": {
      "text/plain": [
       "7.0    5008\n",
       "4.0     125\n",
       "2.0      67\n",
       "6.0      10\n",
       "Name: cfreq, dtype: int64"
      ]
     },
     "execution_count": 129,
     "metadata": {},
     "output_type": "execute_result"
    }
   ],
   "source": [
    "dt.cfreq.value_counts()"
   ]
  },
  {
   "cell_type": "code",
   "execution_count": 130,
   "metadata": {},
   "outputs": [
    {
     "data": {
      "text/html": [
       "<div>\n",
       "<style scoped>\n",
       "    .dataframe tbody tr th:only-of-type {\n",
       "        vertical-align: middle;\n",
       "    }\n",
       "\n",
       "    .dataframe tbody tr th {\n",
       "        vertical-align: top;\n",
       "    }\n",
       "\n",
       "    .dataframe thead th {\n",
       "        text-align: right;\n",
       "    }\n",
       "</style>\n",
       "<table border=\"1\" class=\"dataframe\">\n",
       "  <thead>\n",
       "    <tr style=\"text-align: right;\">\n",
       "      <th></th>\n",
       "      <th>age</th>\n",
       "      <th>sex</th>\n",
       "      <th>dayswfreq</th>\n",
       "      <th>tbilled</th>\n",
       "      <th>maccess</th>\n",
       "      <th>freeuse</th>\n",
       "      <th>nentries</th>\n",
       "      <th>cfreq</th>\n",
       "      <th>nrenewals</th>\n",
       "      <th>cref</th>\n",
       "      <th>months</th>\n",
       "      <th>dropout</th>\n",
       "      <th>rmonth</th>\n",
       "    </tr>\n",
       "    <tr>\n",
       "      <th>Id</th>\n",
       "      <th></th>\n",
       "      <th></th>\n",
       "      <th></th>\n",
       "      <th></th>\n",
       "      <th></th>\n",
       "      <th></th>\n",
       "      <th></th>\n",
       "      <th></th>\n",
       "      <th></th>\n",
       "      <th></th>\n",
       "      <th></th>\n",
       "      <th></th>\n",
       "      <th></th>\n",
       "    </tr>\n",
       "  </thead>\n",
       "  <tbody>\n",
       "    <tr>\n",
       "      <th>4CA4608D-9366-46C7-9B51-7916E516B691</th>\n",
       "      <td>26</td>\n",
       "      <td>0</td>\n",
       "      <td>22</td>\n",
       "      <td>58.6</td>\n",
       "      <td>0.70</td>\n",
       "      <td>0</td>\n",
       "      <td>3</td>\n",
       "      <td>NaN</td>\n",
       "      <td>0</td>\n",
       "      <td>0</td>\n",
       "      <td>1</td>\n",
       "      <td>0</td>\n",
       "      <td>10</td>\n",
       "    </tr>\n",
       "    <tr>\n",
       "      <th>649D78E8-4C98-4397-AEDF-C6959AD959EA</th>\n",
       "      <td>26</td>\n",
       "      <td>0</td>\n",
       "      <td>6</td>\n",
       "      <td>126.1</td>\n",
       "      <td>0.03</td>\n",
       "      <td>0</td>\n",
       "      <td>3</td>\n",
       "      <td>NaN</td>\n",
       "      <td>2</td>\n",
       "      <td>0</td>\n",
       "      <td>25</td>\n",
       "      <td>0</td>\n",
       "      <td>10</td>\n",
       "    </tr>\n",
       "    <tr>\n",
       "      <th>6ABEE4C8-951A-4FE1-BF90-AAD1875AD582</th>\n",
       "      <td>21</td>\n",
       "      <td>0</td>\n",
       "      <td>8</td>\n",
       "      <td>58.6</td>\n",
       "      <td>1.63</td>\n",
       "      <td>0</td>\n",
       "      <td>7</td>\n",
       "      <td>NaN</td>\n",
       "      <td>0</td>\n",
       "      <td>0</td>\n",
       "      <td>1</td>\n",
       "      <td>0</td>\n",
       "      <td>10</td>\n",
       "    </tr>\n",
       "    <tr>\n",
       "      <th>A7438DA1-1801-4E73-8B99-896CC347C8FC</th>\n",
       "      <td>18</td>\n",
       "      <td>0</td>\n",
       "      <td>5</td>\n",
       "      <td>58.6</td>\n",
       "      <td>3.25</td>\n",
       "      <td>0</td>\n",
       "      <td>13</td>\n",
       "      <td>NaN</td>\n",
       "      <td>0</td>\n",
       "      <td>0</td>\n",
       "      <td>1</td>\n",
       "      <td>0</td>\n",
       "      <td>10</td>\n",
       "    </tr>\n",
       "    <tr>\n",
       "      <th>AEEDCE35-83DC-4CCB-A81F-5912FB6FE5C6</th>\n",
       "      <td>20</td>\n",
       "      <td>0</td>\n",
       "      <td>4</td>\n",
       "      <td>58.6</td>\n",
       "      <td>3.03</td>\n",
       "      <td>0</td>\n",
       "      <td>13</td>\n",
       "      <td>NaN</td>\n",
       "      <td>0</td>\n",
       "      <td>0</td>\n",
       "      <td>1</td>\n",
       "      <td>0</td>\n",
       "      <td>10</td>\n",
       "    </tr>\n",
       "    <tr>\n",
       "      <th>DE419BDD-A882-4754-8AA5-6656AF1D37CE</th>\n",
       "      <td>20</td>\n",
       "      <td>1</td>\n",
       "      <td>1</td>\n",
       "      <td>106.1</td>\n",
       "      <td>3.67</td>\n",
       "      <td>0</td>\n",
       "      <td>22</td>\n",
       "      <td>NaN</td>\n",
       "      <td>0</td>\n",
       "      <td>0</td>\n",
       "      <td>2</td>\n",
       "      <td>0</td>\n",
       "      <td>9</td>\n",
       "    </tr>\n",
       "  </tbody>\n",
       "</table>\n",
       "</div>"
      ],
      "text/plain": [
       "                                      age  sex  dayswfreq  tbilled  maccess  \\\n",
       "Id                                                                            \n",
       "4CA4608D-9366-46C7-9B51-7916E516B691   26    0         22     58.6     0.70   \n",
       "649D78E8-4C98-4397-AEDF-C6959AD959EA   26    0          6    126.1     0.03   \n",
       "6ABEE4C8-951A-4FE1-BF90-AAD1875AD582   21    0          8     58.6     1.63   \n",
       "A7438DA1-1801-4E73-8B99-896CC347C8FC   18    0          5     58.6     3.25   \n",
       "AEEDCE35-83DC-4CCB-A81F-5912FB6FE5C6   20    0          4     58.6     3.03   \n",
       "DE419BDD-A882-4754-8AA5-6656AF1D37CE   20    1          1    106.1     3.67   \n",
       "\n",
       "                                      freeuse  nentries  cfreq  nrenewals  \\\n",
       "Id                                                                          \n",
       "4CA4608D-9366-46C7-9B51-7916E516B691        0         3    NaN          0   \n",
       "649D78E8-4C98-4397-AEDF-C6959AD959EA        0         3    NaN          2   \n",
       "6ABEE4C8-951A-4FE1-BF90-AAD1875AD582        0         7    NaN          0   \n",
       "A7438DA1-1801-4E73-8B99-896CC347C8FC        0        13    NaN          0   \n",
       "AEEDCE35-83DC-4CCB-A81F-5912FB6FE5C6        0        13    NaN          0   \n",
       "DE419BDD-A882-4754-8AA5-6656AF1D37CE        0        22    NaN          0   \n",
       "\n",
       "                                      cref  months  dropout  rmonth  \n",
       "Id                                                                   \n",
       "4CA4608D-9366-46C7-9B51-7916E516B691     0       1        0      10  \n",
       "649D78E8-4C98-4397-AEDF-C6959AD959EA     0      25        0      10  \n",
       "6ABEE4C8-951A-4FE1-BF90-AAD1875AD582     0       1        0      10  \n",
       "A7438DA1-1801-4E73-8B99-896CC347C8FC     0       1        0      10  \n",
       "AEEDCE35-83DC-4CCB-A81F-5912FB6FE5C6     0       1        0      10  \n",
       "DE419BDD-A882-4754-8AA5-6656AF1D37CE     0       2        0       9  "
      ]
     },
     "execution_count": 130,
     "metadata": {},
     "output_type": "execute_result"
    }
   ],
   "source": [
    "# where are the nulls?\n",
    "dt[pd.isnull(dt['cfreq'])]"
   ]
  },
  {
   "cell_type": "code",
   "execution_count": 131,
   "metadata": {},
   "outputs": [
    {
     "data": {
      "text/plain": [
       "(6,)"
      ]
     },
     "execution_count": 131,
     "metadata": {},
     "output_type": "execute_result"
    }
   ],
   "source": [
    "# How many values are nulls?\n",
    "dt['cfreq'][pd.isnull(dt['cfreq'])].shape"
   ]
  },
  {
   "cell_type": "code",
   "execution_count": 132,
   "metadata": {},
   "outputs": [
    {
     "data": {
      "text/plain": [
       "(5216, 13)"
      ]
     },
     "execution_count": 132,
     "metadata": {},
     "output_type": "execute_result"
    }
   ],
   "source": [
    "dt.shape"
   ]
  },
  {
   "cell_type": "code",
   "execution_count": 133,
   "metadata": {},
   "outputs": [],
   "source": [
    "dt.dropna(axis=0,inplace=True)"
   ]
  },
  {
   "cell_type": "code",
   "execution_count": 134,
   "metadata": {},
   "outputs": [
    {
     "data": {
      "text/plain": [
       "(5210, 13)"
      ]
     },
     "execution_count": 134,
     "metadata": {},
     "output_type": "execute_result"
    }
   ],
   "source": [
    "dt.shape"
   ]
  },
  {
   "cell_type": "markdown",
   "metadata": {},
   "source": [
    "### Drop freeuse column\n",
    "The software used is also used to manage other sport facilities, such as swimming pools. In this study e only used customers that only perform fitness activities.The free use represents customers that in the past performed free use, which means that used to develop free swimming without a coach supervising their activity. That variable shouldn’t be in the study, and therefore we removed it."
   ]
  },
  {
   "cell_type": "code",
   "execution_count": 135,
   "metadata": {},
   "outputs": [],
   "source": [
    "dt.drop(axis=1,columns=['freeuse'],inplace=True)"
   ]
  },
  {
   "cell_type": "markdown",
   "metadata": {},
   "source": [
    "## Descriptives"
   ]
  },
  {
   "cell_type": "code",
   "execution_count": 136,
   "metadata": {},
   "outputs": [
    {
     "data": {
      "text/html": [
       "<div>\n",
       "<style scoped>\n",
       "    .dataframe tbody tr th:only-of-type {\n",
       "        vertical-align: middle;\n",
       "    }\n",
       "\n",
       "    .dataframe tbody tr th {\n",
       "        vertical-align: top;\n",
       "    }\n",
       "\n",
       "    .dataframe thead th {\n",
       "        text-align: right;\n",
       "    }\n",
       "</style>\n",
       "<table border=\"1\" class=\"dataframe\">\n",
       "  <thead>\n",
       "    <tr style=\"text-align: right;\">\n",
       "      <th></th>\n",
       "      <th>count</th>\n",
       "      <th>mean</th>\n",
       "      <th>std</th>\n",
       "      <th>min</th>\n",
       "      <th>25%</th>\n",
       "      <th>50%</th>\n",
       "      <th>75%</th>\n",
       "      <th>max</th>\n",
       "    </tr>\n",
       "  </thead>\n",
       "  <tbody>\n",
       "    <tr>\n",
       "      <th>age</th>\n",
       "      <td>5210.0</td>\n",
       "      <td>27.881766</td>\n",
       "      <td>11.804636</td>\n",
       "      <td>0.00</td>\n",
       "      <td>21.0000</td>\n",
       "      <td>23.00</td>\n",
       "      <td>30.00</td>\n",
       "      <td>93.00</td>\n",
       "    </tr>\n",
       "    <tr>\n",
       "      <th>sex</th>\n",
       "      <td>5210.0</td>\n",
       "      <td>0.351823</td>\n",
       "      <td>0.477585</td>\n",
       "      <td>0.00</td>\n",
       "      <td>0.0000</td>\n",
       "      <td>0.00</td>\n",
       "      <td>1.00</td>\n",
       "      <td>1.00</td>\n",
       "    </tr>\n",
       "    <tr>\n",
       "      <th>dayswfreq</th>\n",
       "      <td>5210.0</td>\n",
       "      <td>76.406526</td>\n",
       "      <td>101.792781</td>\n",
       "      <td>0.00</td>\n",
       "      <td>10.0000</td>\n",
       "      <td>41.00</td>\n",
       "      <td>99.00</td>\n",
       "      <td>991.00</td>\n",
       "    </tr>\n",
       "    <tr>\n",
       "      <th>tbilled</th>\n",
       "      <td>5210.0</td>\n",
       "      <td>155.314637</td>\n",
       "      <td>162.435028</td>\n",
       "      <td>3.60</td>\n",
       "      <td>61.6000</td>\n",
       "      <td>102.60</td>\n",
       "      <td>186.10</td>\n",
       "      <td>3747.20</td>\n",
       "    </tr>\n",
       "    <tr>\n",
       "      <th>maccess</th>\n",
       "      <td>5210.0</td>\n",
       "      <td>0.890616</td>\n",
       "      <td>0.761275</td>\n",
       "      <td>0.01</td>\n",
       "      <td>0.3325</td>\n",
       "      <td>0.68</td>\n",
       "      <td>1.21</td>\n",
       "      <td>10.33</td>\n",
       "    </tr>\n",
       "    <tr>\n",
       "      <th>nentries</th>\n",
       "      <td>5210.0</td>\n",
       "      <td>29.062188</td>\n",
       "      <td>41.149181</td>\n",
       "      <td>1.00</td>\n",
       "      <td>6.0000</td>\n",
       "      <td>15.00</td>\n",
       "      <td>34.75</td>\n",
       "      <td>585.00</td>\n",
       "    </tr>\n",
       "    <tr>\n",
       "      <th>cfreq</th>\n",
       "      <td>5210.0</td>\n",
       "      <td>6.861804</td>\n",
       "      <td>0.721352</td>\n",
       "      <td>2.00</td>\n",
       "      <td>7.0000</td>\n",
       "      <td>7.00</td>\n",
       "      <td>7.00</td>\n",
       "      <td>7.00</td>\n",
       "    </tr>\n",
       "    <tr>\n",
       "      <th>nrenewals</th>\n",
       "      <td>5210.0</td>\n",
       "      <td>0.777351</td>\n",
       "      <td>0.900260</td>\n",
       "      <td>0.00</td>\n",
       "      <td>0.0000</td>\n",
       "      <td>1.00</td>\n",
       "      <td>1.00</td>\n",
       "      <td>4.00</td>\n",
       "    </tr>\n",
       "    <tr>\n",
       "      <th>cref</th>\n",
       "      <td>5210.0</td>\n",
       "      <td>0.005566</td>\n",
       "      <td>0.076943</td>\n",
       "      <td>0.00</td>\n",
       "      <td>0.0000</td>\n",
       "      <td>0.00</td>\n",
       "      <td>0.00</td>\n",
       "      <td>2.00</td>\n",
       "    </tr>\n",
       "    <tr>\n",
       "      <th>months</th>\n",
       "      <td>5210.0</td>\n",
       "      <td>9.350288</td>\n",
       "      <td>8.215163</td>\n",
       "      <td>0.00</td>\n",
       "      <td>3.0000</td>\n",
       "      <td>7.00</td>\n",
       "      <td>12.00</td>\n",
       "      <td>47.00</td>\n",
       "    </tr>\n",
       "    <tr>\n",
       "      <th>dropout</th>\n",
       "      <td>5210.0</td>\n",
       "      <td>0.876392</td>\n",
       "      <td>0.329166</td>\n",
       "      <td>0.00</td>\n",
       "      <td>1.0000</td>\n",
       "      <td>1.00</td>\n",
       "      <td>1.00</td>\n",
       "      <td>1.00</td>\n",
       "    </tr>\n",
       "    <tr>\n",
       "      <th>rmonth</th>\n",
       "      <td>5210.0</td>\n",
       "      <td>6.721113</td>\n",
       "      <td>3.531276</td>\n",
       "      <td>1.00</td>\n",
       "      <td>3.0000</td>\n",
       "      <td>9.00</td>\n",
       "      <td>10.00</td>\n",
       "      <td>12.00</td>\n",
       "    </tr>\n",
       "  </tbody>\n",
       "</table>\n",
       "</div>"
      ],
      "text/plain": [
       "            count        mean         std   min      25%     50%     75%  \\\n",
       "age        5210.0   27.881766   11.804636  0.00  21.0000   23.00   30.00   \n",
       "sex        5210.0    0.351823    0.477585  0.00   0.0000    0.00    1.00   \n",
       "dayswfreq  5210.0   76.406526  101.792781  0.00  10.0000   41.00   99.00   \n",
       "tbilled    5210.0  155.314637  162.435028  3.60  61.6000  102.60  186.10   \n",
       "maccess    5210.0    0.890616    0.761275  0.01   0.3325    0.68    1.21   \n",
       "nentries   5210.0   29.062188   41.149181  1.00   6.0000   15.00   34.75   \n",
       "cfreq      5210.0    6.861804    0.721352  2.00   7.0000    7.00    7.00   \n",
       "nrenewals  5210.0    0.777351    0.900260  0.00   0.0000    1.00    1.00   \n",
       "cref       5210.0    0.005566    0.076943  0.00   0.0000    0.00    0.00   \n",
       "months     5210.0    9.350288    8.215163  0.00   3.0000    7.00   12.00   \n",
       "dropout    5210.0    0.876392    0.329166  0.00   1.0000    1.00    1.00   \n",
       "rmonth     5210.0    6.721113    3.531276  1.00   3.0000    9.00   10.00   \n",
       "\n",
       "               max  \n",
       "age          93.00  \n",
       "sex           1.00  \n",
       "dayswfreq   991.00  \n",
       "tbilled    3747.20  \n",
       "maccess      10.33  \n",
       "nentries    585.00  \n",
       "cfreq         7.00  \n",
       "nrenewals     4.00  \n",
       "cref          2.00  \n",
       "months       47.00  \n",
       "dropout       1.00  \n",
       "rmonth       12.00  "
      ]
     },
     "execution_count": 136,
     "metadata": {},
     "output_type": "execute_result"
    }
   ],
   "source": [
    "dt.describe().T"
   ]
  },
  {
   "cell_type": "markdown",
   "metadata": {},
   "source": [
    "### Checking Min age = 0\n",
    "There is something not well, minimum age of 0"
   ]
  },
  {
   "cell_type": "code",
   "execution_count": 137,
   "metadata": {},
   "outputs": [
    {
     "data": {
      "text/html": [
       "<div>\n",
       "<style scoped>\n",
       "    .dataframe tbody tr th:only-of-type {\n",
       "        vertical-align: middle;\n",
       "    }\n",
       "\n",
       "    .dataframe tbody tr th {\n",
       "        vertical-align: top;\n",
       "    }\n",
       "\n",
       "    .dataframe thead th {\n",
       "        text-align: right;\n",
       "    }\n",
       "</style>\n",
       "<table border=\"1\" class=\"dataframe\">\n",
       "  <thead>\n",
       "    <tr style=\"text-align: right;\">\n",
       "      <th>Id</th>\n",
       "      <th>352A9804-29B4-49CA-BDF1-EEC6453F38D5</th>\n",
       "      <th>5AE0C2F9-35F0-4EB4-AE2F-F7398E3C75BF</th>\n",
       "    </tr>\n",
       "  </thead>\n",
       "  <tbody>\n",
       "    <tr>\n",
       "      <th>age</th>\n",
       "      <td>9.00</td>\n",
       "      <td>0.0</td>\n",
       "    </tr>\n",
       "    <tr>\n",
       "      <th>sex</th>\n",
       "      <td>0.00</td>\n",
       "      <td>0.0</td>\n",
       "    </tr>\n",
       "    <tr>\n",
       "      <th>dayswfreq</th>\n",
       "      <td>204.00</td>\n",
       "      <td>118.0</td>\n",
       "    </tr>\n",
       "    <tr>\n",
       "      <th>tbilled</th>\n",
       "      <td>229.40</td>\n",
       "      <td>121.1</td>\n",
       "    </tr>\n",
       "    <tr>\n",
       "      <th>maccess</th>\n",
       "      <td>0.34</td>\n",
       "      <td>0.9</td>\n",
       "    </tr>\n",
       "    <tr>\n",
       "      <th>nentries</th>\n",
       "      <td>14.00</td>\n",
       "      <td>23.0</td>\n",
       "    </tr>\n",
       "    <tr>\n",
       "      <th>cfreq</th>\n",
       "      <td>4.00</td>\n",
       "      <td>7.0</td>\n",
       "    </tr>\n",
       "    <tr>\n",
       "      <th>nrenewals</th>\n",
       "      <td>1.00</td>\n",
       "      <td>1.0</td>\n",
       "    </tr>\n",
       "    <tr>\n",
       "      <th>cref</th>\n",
       "      <td>0.00</td>\n",
       "      <td>0.0</td>\n",
       "    </tr>\n",
       "    <tr>\n",
       "      <th>months</th>\n",
       "      <td>10.00</td>\n",
       "      <td>7.0</td>\n",
       "    </tr>\n",
       "    <tr>\n",
       "      <th>dropout</th>\n",
       "      <td>1.00</td>\n",
       "      <td>1.0</td>\n",
       "    </tr>\n",
       "    <tr>\n",
       "      <th>rmonth</th>\n",
       "      <td>11.00</td>\n",
       "      <td>2.0</td>\n",
       "    </tr>\n",
       "  </tbody>\n",
       "</table>\n",
       "</div>"
      ],
      "text/plain": [
       "Id         352A9804-29B4-49CA-BDF1-EEC6453F38D5  \\\n",
       "age                                        9.00   \n",
       "sex                                        0.00   \n",
       "dayswfreq                                204.00   \n",
       "tbilled                                  229.40   \n",
       "maccess                                    0.34   \n",
       "nentries                                  14.00   \n",
       "cfreq                                      4.00   \n",
       "nrenewals                                  1.00   \n",
       "cref                                       0.00   \n",
       "months                                    10.00   \n",
       "dropout                                    1.00   \n",
       "rmonth                                    11.00   \n",
       "\n",
       "Id         5AE0C2F9-35F0-4EB4-AE2F-F7398E3C75BF  \n",
       "age                                         0.0  \n",
       "sex                                         0.0  \n",
       "dayswfreq                                 118.0  \n",
       "tbilled                                   121.1  \n",
       "maccess                                     0.9  \n",
       "nentries                                   23.0  \n",
       "cfreq                                       7.0  \n",
       "nrenewals                                   1.0  \n",
       "cref                                        0.0  \n",
       "months                                      7.0  \n",
       "dropout                                     1.0  \n",
       "rmonth                                      2.0  "
      ]
     },
     "execution_count": 137,
     "metadata": {},
     "output_type": "execute_result"
    }
   ],
   "source": [
    "dt.loc[dt.age<10].T"
   ]
  },
  {
   "cell_type": "code",
   "execution_count": 138,
   "metadata": {},
   "outputs": [
    {
     "data": {
      "image/png": "[encoded data removed]",
      "text/plain": [
       "<Figure size 1440x360 with 1 Axes>"
      ]
     },
     "metadata": {
      "needs_background": "light"
     },
     "output_type": "display_data"
    }
   ],
   "source": [
    "plt.rcParams['figure.figsize'] = [20, 5]\n",
    "sns.countplot(x='age',data=dt,palette='rainbow').set_title('Customers by age')\n",
    "plt.xticks(rotation=45);"
   ]
  },
  {
   "cell_type": "markdown",
   "metadata": {},
   "source": [
    "### Remove the customer with age = 0"
   ]
  },
  {
   "cell_type": "code",
   "execution_count": 139,
   "metadata": {},
   "outputs": [],
   "source": [
    "dt=dt.loc[dt.age!=0]"
   ]
  },
  {
   "cell_type": "code",
   "execution_count": 140,
   "metadata": {},
   "outputs": [
    {
     "data": {
      "text/plain": [
       "0    3376\n",
       "1    1833\n",
       "Name: sex, dtype: int64"
      ]
     },
     "execution_count": 140,
     "metadata": {},
     "output_type": "execute_result"
    }
   ],
   "source": [
    "dt['sex'].value_counts()"
   ]
  },
  {
   "cell_type": "markdown",
   "metadata": {},
   "source": [
    "### Final descriptives"
   ]
  },
  {
   "cell_type": "code",
   "execution_count": 141,
   "metadata": {},
   "outputs": [
    {
     "data": {
      "text/html": [
       "<div>\n",
       "<style scoped>\n",
       "    .dataframe tbody tr th:only-of-type {\n",
       "        vertical-align: middle;\n",
       "    }\n",
       "\n",
       "    .dataframe tbody tr th {\n",
       "        vertical-align: top;\n",
       "    }\n",
       "\n",
       "    .dataframe thead th {\n",
       "        text-align: right;\n",
       "    }\n",
       "</style>\n",
       "<table border=\"1\" class=\"dataframe\">\n",
       "  <thead>\n",
       "    <tr style=\"text-align: right;\">\n",
       "      <th></th>\n",
       "      <th>count</th>\n",
       "      <th>mean</th>\n",
       "      <th>std</th>\n",
       "      <th>min</th>\n",
       "      <th>25%</th>\n",
       "      <th>50%</th>\n",
       "      <th>75%</th>\n",
       "      <th>max</th>\n",
       "    </tr>\n",
       "  </thead>\n",
       "  <tbody>\n",
       "    <tr>\n",
       "      <th>age</th>\n",
       "      <td>5209.0</td>\n",
       "      <td>27.887118</td>\n",
       "      <td>11.799444</td>\n",
       "      <td>9.00</td>\n",
       "      <td>21.00</td>\n",
       "      <td>23.00</td>\n",
       "      <td>30.00</td>\n",
       "      <td>93.00</td>\n",
       "    </tr>\n",
       "    <tr>\n",
       "      <th>sex</th>\n",
       "      <td>5209.0</td>\n",
       "      <td>0.351891</td>\n",
       "      <td>0.477606</td>\n",
       "      <td>0.00</td>\n",
       "      <td>0.00</td>\n",
       "      <td>0.00</td>\n",
       "      <td>1.00</td>\n",
       "      <td>1.00</td>\n",
       "    </tr>\n",
       "    <tr>\n",
       "      <th>dayswfreq</th>\n",
       "      <td>5209.0</td>\n",
       "      <td>76.398541</td>\n",
       "      <td>101.800921</td>\n",
       "      <td>0.00</td>\n",
       "      <td>10.00</td>\n",
       "      <td>41.00</td>\n",
       "      <td>99.00</td>\n",
       "      <td>991.00</td>\n",
       "    </tr>\n",
       "    <tr>\n",
       "      <th>tbilled</th>\n",
       "      <td>5209.0</td>\n",
       "      <td>155.321206</td>\n",
       "      <td>162.449930</td>\n",
       "      <td>3.60</td>\n",
       "      <td>61.60</td>\n",
       "      <td>102.60</td>\n",
       "      <td>186.10</td>\n",
       "      <td>3747.20</td>\n",
       "    </tr>\n",
       "    <tr>\n",
       "      <th>maccess</th>\n",
       "      <td>5209.0</td>\n",
       "      <td>0.890614</td>\n",
       "      <td>0.761348</td>\n",
       "      <td>0.01</td>\n",
       "      <td>0.33</td>\n",
       "      <td>0.68</td>\n",
       "      <td>1.21</td>\n",
       "      <td>10.33</td>\n",
       "    </tr>\n",
       "    <tr>\n",
       "      <th>nentries</th>\n",
       "      <td>5209.0</td>\n",
       "      <td>29.063352</td>\n",
       "      <td>41.153046</td>\n",
       "      <td>1.00</td>\n",
       "      <td>6.00</td>\n",
       "      <td>15.00</td>\n",
       "      <td>35.00</td>\n",
       "      <td>585.00</td>\n",
       "    </tr>\n",
       "    <tr>\n",
       "      <th>cfreq</th>\n",
       "      <td>5209.0</td>\n",
       "      <td>6.861778</td>\n",
       "      <td>0.721419</td>\n",
       "      <td>2.00</td>\n",
       "      <td>7.00</td>\n",
       "      <td>7.00</td>\n",
       "      <td>7.00</td>\n",
       "      <td>7.00</td>\n",
       "    </tr>\n",
       "    <tr>\n",
       "      <th>nrenewals</th>\n",
       "      <td>5209.0</td>\n",
       "      <td>0.777309</td>\n",
       "      <td>0.900341</td>\n",
       "      <td>0.00</td>\n",
       "      <td>0.00</td>\n",
       "      <td>1.00</td>\n",
       "      <td>1.00</td>\n",
       "      <td>4.00</td>\n",
       "    </tr>\n",
       "    <tr>\n",
       "      <th>cref</th>\n",
       "      <td>5209.0</td>\n",
       "      <td>0.005567</td>\n",
       "      <td>0.076951</td>\n",
       "      <td>0.00</td>\n",
       "      <td>0.00</td>\n",
       "      <td>0.00</td>\n",
       "      <td>0.00</td>\n",
       "      <td>2.00</td>\n",
       "    </tr>\n",
       "    <tr>\n",
       "      <th>months</th>\n",
       "      <td>5209.0</td>\n",
       "      <td>9.350739</td>\n",
       "      <td>8.215887</td>\n",
       "      <td>0.00</td>\n",
       "      <td>3.00</td>\n",
       "      <td>7.00</td>\n",
       "      <td>12.00</td>\n",
       "      <td>47.00</td>\n",
       "    </tr>\n",
       "    <tr>\n",
       "      <th>dropout</th>\n",
       "      <td>5209.0</td>\n",
       "      <td>0.876368</td>\n",
       "      <td>0.329193</td>\n",
       "      <td>0.00</td>\n",
       "      <td>1.00</td>\n",
       "      <td>1.00</td>\n",
       "      <td>1.00</td>\n",
       "      <td>1.00</td>\n",
       "    </tr>\n",
       "    <tr>\n",
       "      <th>rmonth</th>\n",
       "      <td>5209.0</td>\n",
       "      <td>6.722020</td>\n",
       "      <td>3.531009</td>\n",
       "      <td>1.00</td>\n",
       "      <td>3.00</td>\n",
       "      <td>9.00</td>\n",
       "      <td>10.00</td>\n",
       "      <td>12.00</td>\n",
       "    </tr>\n",
       "  </tbody>\n",
       "</table>\n",
       "</div>"
      ],
      "text/plain": [
       "            count        mean         std   min    25%     50%     75%  \\\n",
       "age        5209.0   27.887118   11.799444  9.00  21.00   23.00   30.00   \n",
       "sex        5209.0    0.351891    0.477606  0.00   0.00    0.00    1.00   \n",
       "dayswfreq  5209.0   76.398541  101.800921  0.00  10.00   41.00   99.00   \n",
       "tbilled    5209.0  155.321206  162.449930  3.60  61.60  102.60  186.10   \n",
       "maccess    5209.0    0.890614    0.761348  0.01   0.33    0.68    1.21   \n",
       "nentries   5209.0   29.063352   41.153046  1.00   6.00   15.00   35.00   \n",
       "cfreq      5209.0    6.861778    0.721419  2.00   7.00    7.00    7.00   \n",
       "nrenewals  5209.0    0.777309    0.900341  0.00   0.00    1.00    1.00   \n",
       "cref       5209.0    0.005567    0.076951  0.00   0.00    0.00    0.00   \n",
       "months     5209.0    9.350739    8.215887  0.00   3.00    7.00   12.00   \n",
       "dropout    5209.0    0.876368    0.329193  0.00   1.00    1.00    1.00   \n",
       "rmonth     5209.0    6.722020    3.531009  1.00   3.00    9.00   10.00   \n",
       "\n",
       "               max  \n",
       "age          93.00  \n",
       "sex           1.00  \n",
       "dayswfreq   991.00  \n",
       "tbilled    3747.20  \n",
       "maccess      10.33  \n",
       "nentries    585.00  \n",
       "cfreq         7.00  \n",
       "nrenewals     4.00  \n",
       "cref          2.00  \n",
       "months       47.00  \n",
       "dropout       1.00  \n",
       "rmonth       12.00  "
      ]
     },
     "execution_count": 141,
     "metadata": {},
     "output_type": "execute_result"
    }
   ],
   "source": [
    "dt.describe().T"
   ]
  },
  {
   "cell_type": "code",
   "execution_count": 142,
   "metadata": {},
   "outputs": [
    {
     "name": "stdout",
     "output_type": "stream",
     "text": [
      "Females 3376 Males 1833\n"
     ]
    }
   ],
   "source": [
    "females, males = dt.sex.value_counts().ravel()\n",
    "print('Females %d Males %d' %(females,males))"
   ]
  },
  {
   "cell_type": "markdown",
   "metadata": {},
   "source": [
    "## Checking dataset balancing"
   ]
  },
  {
   "cell_type": "code",
   "execution_count": 143,
   "metadata": {},
   "outputs": [
    {
     "data": {
      "text/plain": [
       "1    4565\n",
       "0     644\n",
       "Name: dropout, dtype: int64"
      ]
     },
     "execution_count": 143,
     "metadata": {},
     "output_type": "execute_result"
    }
   ],
   "source": [
    "class_dropout=dt.dropout.value_counts()\n",
    "class_dropout"
   ]
  },
  {
   "cell_type": "code",
   "execution_count": 144,
   "metadata": {},
   "outputs": [
    {
     "name": "stdout",
     "output_type": "stream",
     "text": [
      "dropout 87.64% non-dropout 12.36%\n"
     ]
    }
   ],
   "source": [
    "dropout, non_dropout = dt.dropout.value_counts().ravel()\n",
    "print('dropout %.2f%% non-dropout %.2f%%' %(dropout/(dropout+non_dropout)*100,non_dropout/(dropout+non_dropout)*100))"
   ]
  },
  {
   "cell_type": "code",
   "execution_count": 145,
   "metadata": {},
   "outputs": [
    {
     "name": "stdout",
     "output_type": "stream",
     "text": [
      "Minority class represents 12.36%\n"
     ]
    }
   ],
   "source": [
    "# checking classes \n",
    "# dropout customer\n",
    "print('Minority class represents %.2f%%' %(class_dropout[0]/(class_dropout[0]+class_dropout[1])*100))"
   ]
  },
  {
   "cell_type": "markdown",
   "metadata": {},
   "source": [
    "The minority class represents 12.36% of the data. We are in the presence of imbalanced dataset customers that didn't dropout. We are going to address this using grid search to tune this parameter. Based on this [example](https://scikit-learn.org/stable/auto_examples/model_selection/plot_multi_metric_evaluation.html#sphx-glr-auto-examples-model-selection-plot-multi-metric-evaluation-py)."
   ]
  },
  {
   "cell_type": "markdown",
   "metadata": {},
   "source": [
    "## Overall histograms"
   ]
  },
  {
   "cell_type": "code",
   "execution_count": 146,
   "metadata": {},
   "outputs": [
    {
     "data": {
      "image/png": "[encoded data removed]",
      "text/plain": [
       "<Figure size 1224x864 with 12 Axes>"
      ]
     },
     "metadata": {
      "needs_background": "light"
     },
     "output_type": "display_data"
    }
   ],
   "source": [
    "plt.rcParams['figure.figsize']=[17,12]\n",
    "dt.hist();"
   ]
  },
  {
   "cell_type": "markdown",
   "metadata": {},
   "source": [
    "# Dropout prediction\n",
    "\n",
    "1. Some data preparation\n",
    "2. Create dataset with features and prediction variable"
   ]
  },
  {
   "cell_type": "code",
   "execution_count": 147,
   "metadata": {},
   "outputs": [],
   "source": [
    "X=dt.copy()\n",
    "y=dt['dropout']\n",
    "X.drop(axis=1,columns=['dropout'],inplace=True)"
   ]
  },
  {
   "cell_type": "code",
   "execution_count": 148,
   "metadata": {},
   "outputs": [
    {
     "data": {
      "text/plain": [
       "Index(['age', 'sex', 'dayswfreq', 'tbilled', 'maccess', 'nentries', 'cfreq',\n",
       "       'nrenewals', 'cref', 'months', 'rmonth'],\n",
       "      dtype='object')"
      ]
     },
     "execution_count": 148,
     "metadata": {},
     "output_type": "execute_result"
    }
   ],
   "source": [
    "X.columns"
   ]
  },
  {
   "cell_type": "code",
   "execution_count": 149,
   "metadata": {},
   "outputs": [
    {
     "name": "stdout",
     "output_type": "stream",
     "text": [
      "<class 'pandas.core.frame.DataFrame'>\n",
      "Index: 5209 entries, 00130FE8-5D34-4C66-9819-1EB0BFE69979 to FFFB7214-F2FE-4AC0-8BD2-DB1CD47BDBEF\n",
      "Data columns (total 11 columns):\n",
      " #   Column     Non-Null Count  Dtype  \n",
      "---  ------     --------------  -----  \n",
      " 0   age        5209 non-null   int64  \n",
      " 1   sex        5209 non-null   int64  \n",
      " 2   dayswfreq  5209 non-null   int64  \n",
      " 3   tbilled    5209 non-null   float64\n",
      " 4   maccess    5209 non-null   float64\n",
      " 5   nentries   5209 non-null   int64  \n",
      " 6   cfreq      5209 non-null   float64\n",
      " 7   nrenewals  5209 non-null   int64  \n",
      " 8   cref       5209 non-null   int64  \n",
      " 9   months     5209 non-null   int64  \n",
      " 10  rmonth     5209 non-null   int64  \n",
      "dtypes: float64(3), int64(8)\n",
      "memory usage: 488.3+ KB\n"
     ]
    }
   ],
   "source": [
    "X.info()"
   ]
  },
  {
   "cell_type": "code",
   "execution_count": 150,
   "metadata": {},
   "outputs": [
    {
     "data": {
      "text/plain": [
       "Index(['age', 'sex', 'dayswfreq', 'tbilled', 'maccess', 'nentries', 'cfreq',\n",
       "       'nrenewals', 'cref', 'months', 'rmonth'],\n",
       "      dtype='object')"
      ]
     },
     "execution_count": 150,
     "metadata": {},
     "output_type": "execute_result"
    }
   ],
   "source": [
    "X.columns"
   ]
  },
  {
   "cell_type": "code",
   "execution_count": 151,
   "metadata": {},
   "outputs": [
    {
     "data": {
      "text/html": [
       "<div>\n",
       "<style scoped>\n",
       "    .dataframe tbody tr th:only-of-type {\n",
       "        vertical-align: middle;\n",
       "    }\n",
       "\n",
       "    .dataframe tbody tr th {\n",
       "        vertical-align: top;\n",
       "    }\n",
       "\n",
       "    .dataframe thead th {\n",
       "        text-align: right;\n",
       "    }\n",
       "</style>\n",
       "<table border=\"1\" class=\"dataframe\">\n",
       "  <thead>\n",
       "    <tr style=\"text-align: right;\">\n",
       "      <th></th>\n",
       "      <th>age</th>\n",
       "      <th>sex</th>\n",
       "      <th>dayswfreq</th>\n",
       "      <th>tbilled</th>\n",
       "      <th>maccess</th>\n",
       "      <th>nentries</th>\n",
       "      <th>cfreq</th>\n",
       "      <th>nrenewals</th>\n",
       "      <th>cref</th>\n",
       "      <th>months</th>\n",
       "      <th>rmonth</th>\n",
       "    </tr>\n",
       "  </thead>\n",
       "  <tbody>\n",
       "    <tr>\n",
       "      <th>count</th>\n",
       "      <td>5209.00</td>\n",
       "      <td>5209.00</td>\n",
       "      <td>5209.0</td>\n",
       "      <td>5209.00</td>\n",
       "      <td>5209.00</td>\n",
       "      <td>5209.00</td>\n",
       "      <td>5209.00</td>\n",
       "      <td>5209.00</td>\n",
       "      <td>5209.00</td>\n",
       "      <td>5209.00</td>\n",
       "      <td>5209.00</td>\n",
       "    </tr>\n",
       "    <tr>\n",
       "      <th>mean</th>\n",
       "      <td>27.89</td>\n",
       "      <td>0.35</td>\n",
       "      <td>76.4</td>\n",
       "      <td>155.32</td>\n",
       "      <td>0.89</td>\n",
       "      <td>29.06</td>\n",
       "      <td>6.86</td>\n",
       "      <td>0.78</td>\n",
       "      <td>0.01</td>\n",
       "      <td>9.35</td>\n",
       "      <td>6.72</td>\n",
       "    </tr>\n",
       "    <tr>\n",
       "      <th>std</th>\n",
       "      <td>11.80</td>\n",
       "      <td>0.48</td>\n",
       "      <td>101.8</td>\n",
       "      <td>162.45</td>\n",
       "      <td>0.76</td>\n",
       "      <td>41.15</td>\n",
       "      <td>0.72</td>\n",
       "      <td>0.90</td>\n",
       "      <td>0.08</td>\n",
       "      <td>8.22</td>\n",
       "      <td>3.53</td>\n",
       "    </tr>\n",
       "    <tr>\n",
       "      <th>min</th>\n",
       "      <td>9.00</td>\n",
       "      <td>0.00</td>\n",
       "      <td>0.0</td>\n",
       "      <td>3.60</td>\n",
       "      <td>0.01</td>\n",
       "      <td>1.00</td>\n",
       "      <td>2.00</td>\n",
       "      <td>0.00</td>\n",
       "      <td>0.00</td>\n",
       "      <td>0.00</td>\n",
       "      <td>1.00</td>\n",
       "    </tr>\n",
       "    <tr>\n",
       "      <th>25%</th>\n",
       "      <td>21.00</td>\n",
       "      <td>0.00</td>\n",
       "      <td>10.0</td>\n",
       "      <td>61.60</td>\n",
       "      <td>0.33</td>\n",
       "      <td>6.00</td>\n",
       "      <td>7.00</td>\n",
       "      <td>0.00</td>\n",
       "      <td>0.00</td>\n",
       "      <td>3.00</td>\n",
       "      <td>3.00</td>\n",
       "    </tr>\n",
       "    <tr>\n",
       "      <th>50%</th>\n",
       "      <td>23.00</td>\n",
       "      <td>0.00</td>\n",
       "      <td>41.0</td>\n",
       "      <td>102.60</td>\n",
       "      <td>0.68</td>\n",
       "      <td>15.00</td>\n",
       "      <td>7.00</td>\n",
       "      <td>1.00</td>\n",
       "      <td>0.00</td>\n",
       "      <td>7.00</td>\n",
       "      <td>9.00</td>\n",
       "    </tr>\n",
       "    <tr>\n",
       "      <th>75%</th>\n",
       "      <td>30.00</td>\n",
       "      <td>1.00</td>\n",
       "      <td>99.0</td>\n",
       "      <td>186.10</td>\n",
       "      <td>1.21</td>\n",
       "      <td>35.00</td>\n",
       "      <td>7.00</td>\n",
       "      <td>1.00</td>\n",
       "      <td>0.00</td>\n",
       "      <td>12.00</td>\n",
       "      <td>10.00</td>\n",
       "    </tr>\n",
       "    <tr>\n",
       "      <th>max</th>\n",
       "      <td>93.00</td>\n",
       "      <td>1.00</td>\n",
       "      <td>991.0</td>\n",
       "      <td>3747.20</td>\n",
       "      <td>10.33</td>\n",
       "      <td>585.00</td>\n",
       "      <td>7.00</td>\n",
       "      <td>4.00</td>\n",
       "      <td>2.00</td>\n",
       "      <td>47.00</td>\n",
       "      <td>12.00</td>\n",
       "    </tr>\n",
       "  </tbody>\n",
       "</table>\n",
       "</div>"
      ],
      "text/plain": [
       "           age      sex  dayswfreq  tbilled  maccess  nentries    cfreq  \\\n",
       "count  5209.00  5209.00     5209.0  5209.00  5209.00   5209.00  5209.00   \n",
       "mean     27.89     0.35       76.4   155.32     0.89     29.06     6.86   \n",
       "std      11.80     0.48      101.8   162.45     0.76     41.15     0.72   \n",
       "min       9.00     0.00        0.0     3.60     0.01      1.00     2.00   \n",
       "25%      21.00     0.00       10.0    61.60     0.33      6.00     7.00   \n",
       "50%      23.00     0.00       41.0   102.60     0.68     15.00     7.00   \n",
       "75%      30.00     1.00       99.0   186.10     1.21     35.00     7.00   \n",
       "max      93.00     1.00      991.0  3747.20    10.33    585.00     7.00   \n",
       "\n",
       "       nrenewals     cref   months   rmonth  \n",
       "count    5209.00  5209.00  5209.00  5209.00  \n",
       "mean        0.78     0.01     9.35     6.72  \n",
       "std         0.90     0.08     8.22     3.53  \n",
       "min         0.00     0.00     0.00     1.00  \n",
       "25%         0.00     0.00     3.00     3.00  \n",
       "50%         1.00     0.00     7.00     9.00  \n",
       "75%         1.00     0.00    12.00    10.00  \n",
       "max         4.00     2.00    47.00    12.00  "
      ]
     },
     "execution_count": 151,
     "metadata": {},
     "output_type": "execute_result"
    }
   ],
   "source": [
    "X.describe().round(decimals=2)"
   ]
  },
  {
   "cell_type": "code",
   "execution_count": 152,
   "metadata": {},
   "outputs": [
    {
     "data": {
      "text/plain": [
       "count    5209.00\n",
       "mean        0.88\n",
       "std         0.33\n",
       "min         0.00\n",
       "25%         1.00\n",
       "50%         1.00\n",
       "75%         1.00\n",
       "max         1.00\n",
       "Name: dropout, dtype: float64"
      ]
     },
     "execution_count": 152,
     "metadata": {},
     "output_type": "execute_result"
    }
   ],
   "source": [
    "y.describe().round(decimals=2)"
   ]
  },
  {
   "cell_type": "code",
   "execution_count": 153,
   "metadata": {},
   "outputs": [
    {
     "data": {
      "text/plain": [
       "<matplotlib.axes._subplots.AxesSubplot at 0x7fc1585511d0>"
      ]
     },
     "execution_count": 153,
     "metadata": {},
     "output_type": "execute_result"
    },
    {
     "data": {
      "image/png": "[encoded data removed]",
      "text/plain": [
       "<Figure size 864x216 with 1 Axes>"
      ]
     },
     "metadata": {
      "needs_background": "light"
     },
     "output_type": "display_data"
    }
   ],
   "source": [
    "plt.rcParams['figure.figsize'] = [12, 3]\n",
    "X.age.hist(bins=20)"
   ]
  },
  {
   "cell_type": "code",
   "execution_count": 154,
   "metadata": {},
   "outputs": [
    {
     "data": {
      "text/plain": [
       "0    3376\n",
       "1    1833\n",
       "Name: sex, dtype: int64"
      ]
     },
     "execution_count": 154,
     "metadata": {},
     "output_type": "execute_result"
    }
   ],
   "source": [
    "X.sex.value_counts()"
   ]
  },
  {
   "cell_type": "markdown",
   "metadata": {},
   "source": [
    "## Comparison of the performance of the machine learning classifier"
   ]
  },
  {
   "cell_type": "markdown",
   "metadata": {},
   "source": [
    "__Create train/test__\n",
    "1. Part of the data (70%) was used to ‘train’ the model, and the other 30% to test the model (Buntine & Niblett, 1992). Was also possible the proportion 2/3 for training and 1/3 for test (Kohavi 1995;Gama et al. 2017)\n",
    "2. To ensure the proportion of cases in the train/test the stratification was defined in the target variable\n",
    "3. Altought the class weights were optimized with grid-search best results were achieved with balanced.\n",
    "\n",
    "Balanced calculations are based in the following formula:\n",
    "\n",
    "$K_n=\\frac{n}{k.n_j}$\n",
    "where:\n",
    "- $n$ sample size\n",
    "- $k$ number of classes\n",
    "- $n_j$ observations in class j\n",
    "\n",
    "More details available in scikit-learn [docs](https://scikit-learn.org/stable/modules/generated/sklearn.utils.class_weight.compute_class_weight.html\n",
    ")."
   ]
  },
  {
   "cell_type": "markdown",
   "metadata": {},
   "source": [
    "12% of the data are customers that didn't dropout. We are going to address this using grid search to tune this parameter Based on this example: https://scikit-learn.org/stable/auto_examples/model_selection/plot_multi_metric_evaluation.html#sphx-glr-auto-examples-model-selection-plot-multi-metric-evaluation-py"
   ]
  },
  {
   "cell_type": "code",
   "execution_count": 155,
   "metadata": {},
   "outputs": [
    {
     "name": "stdout",
     "output_type": "stream",
     "text": [
      "1    4565\n",
      "0     644\n",
      "Name: dropout, dtype: int64\n",
      "class 1 4.044255 class 2 0.570537\n"
     ]
    }
   ],
   "source": [
    "# calculation class weights\n",
    "n=len(y)\n",
    "k=2\n",
    "print(y.value_counts())\n",
    "n0=np.bincount(y)[0]\n",
    "n1=np.bincount(y)[1]\n",
    "print('class 1 %2f class 2 %2f' % ((n/(2*n0)),(n/(k*n1))))"
   ]
  },
  {
   "cell_type": "code",
   "execution_count": 156,
   "metadata": {},
   "outputs": [
    {
     "name": "stdout",
     "output_type": "stream",
     "text": [
      "Size X_train: (3646, 11)\n",
      "Size X_test: (1563, 11)\n",
      "Size y_train: (3646,)\n",
      "Size y_test: (1563,)\n"
     ]
    }
   ],
   "source": [
    "X_train, X_test, y_train, y_test = train_test_split(X, y, train_size=0.7, stratify = y, random_state=0)\n",
    "print('Size X_train:',X_train.shape)\n",
    "print('Size X_test:',X_test.shape)\n",
    "print('Size y_train:',y_train.shape)\n",
    "print('Size y_test:',y_test.shape)"
   ]
  },
  {
   "cell_type": "markdown",
   "metadata": {},
   "source": [
    "### Confirm if the proportion of cases are maintained"
   ]
  },
  {
   "cell_type": "code",
   "execution_count": 157,
   "metadata": {},
   "outputs": [
    {
     "name": "stdout",
     "output_type": "stream",
     "text": [
      "base \t[ 644 4565] ratio 0.123632 \n",
      "y_train [ 451 3195] ratio 0.123632 \n",
      "y_test \t[ 193 1370] ratio 0.123632\n"
     ]
    }
   ],
   "source": [
    "print('base \\t%s ratio %2f \\ny_train %s ratio %2f \\ny_test \\t%s ratio %2f'\n",
    "      % (np.bincount(y), np.bincount(y)[0]/(np.bincount(y)[0]+np.bincount(y)[1]),\n",
    "         np.bincount(y_train),np.bincount(y)[0]/(np.bincount(y)[0]+np.bincount(y)[1]),\n",
    "         np.bincount(y_test), np.bincount(y)[0]/(np.bincount(y)[0]+np.bincount(y)[1])))"
   ]
  },
  {
   "cell_type": "markdown",
   "metadata": {},
   "source": [
    "### Model accuracies"
   ]
  },
  {
   "cell_type": "markdown",
   "metadata": {},
   "source": [
    "#### Logistic Regression"
   ]
  },
  {
   "cell_type": "code",
   "execution_count": 158,
   "metadata": {},
   "outputs": [
    {
     "data": {
      "text/plain": [
       "{'C': 1.0,\n",
       " 'class_weight': None,\n",
       " 'dual': False,\n",
       " 'fit_intercept': True,\n",
       " 'intercept_scaling': 1,\n",
       " 'l1_ratio': None,\n",
       " 'max_iter': 100,\n",
       " 'multi_class': 'auto',\n",
       " 'n_jobs': None,\n",
       " 'penalty': 'l2',\n",
       " 'random_state': None,\n",
       " 'solver': 'lbfgs',\n",
       " 'tol': 0.0001,\n",
       " 'verbose': 0,\n",
       " 'warm_start': False}"
      ]
     },
     "execution_count": 158,
     "metadata": {},
     "output_type": "execute_result"
    }
   ],
   "source": [
    "# getting params that can be optimized in gridsearch\n",
    "LogisticRegression().get_params()"
   ]
  },
  {
   "cell_type": "code",
   "execution_count": 159,
   "metadata": {},
   "outputs": [],
   "source": [
    "solvers = ['newton-cg', 'lbfgs', 'liblinear']\n",
    "penalty = ['l1', 'l2', 'elasticnet', 'none']\n",
    "c_values = [100, 10, 1.0, 0.1, 0.01]\n",
    "# define grid search\n",
    "grid = dict(solver=solvers,penalty=penalty,C=c_values)"
   ]
  },
  {
   "cell_type": "code",
   "execution_count": 160,
   "metadata": {},
   "outputs": [
    {
     "name": "stdout",
     "output_type": "stream",
     "text": [
      "best params {'C': 1.0, 'penalty': 'l2', 'solver': 'liblinear'}\n",
      "best AUC score: 0.845118956856046\n",
      "execution time: 163.54702472686768\n"
     ]
    }
   ],
   "source": [
    "start_time = time.time()\n",
    "\n",
    "scoring = {'AUC': 'roc_auc'}\n",
    "gs = GridSearchCV(estimator = LogisticRegression(random_state=42, class_weight={0: 4.0, 1: 0.571}),\n",
    "                  param_grid=grid,\n",
    "                  scoring=scoring, \n",
    "                  refit='AUC', \n",
    "                  return_train_score=True)\n",
    "grid_result = gs.fit(X_train,y_train)\n",
    "print('best params',grid_result.best_params_)\n",
    "print('best AUC score:',grid_result.best_score_)\n",
    "print('execution time:',time.time()-start_time)"
   ]
  },
  {
   "cell_type": "code",
   "execution_count": 187,
   "metadata": {},
   "outputs": [
    {
     "name": "stdout",
     "output_type": "stream",
     "text": [
      "              precision    recall  f1-score   support\n",
      "\n",
      "           0       0.34      0.79      0.48       215\n",
      "           1       0.96      0.79      0.87      1522\n",
      "\n",
      "    accuracy                           0.79      1737\n",
      "   macro avg       0.65      0.79      0.67      1737\n",
      "weighted avg       0.89      0.79      0.82      1737\n",
      "\n",
      "[[ 169   46]\n",
      " [ 327 1195]]\n",
      "AUC 0.7855988142896433\n",
      "AUC_ROC (0.7587821295307224, 0.8124154990485641)\n"
     ]
    }
   ],
   "source": [
    "model_lr = LogisticRegression(C=1.0,penalty='l2', solver='liblinear' , random_state=42, class_weight={0: 4.0, 1: 0.571})\n",
    "model_lr.fit(X_train,y_train)\n",
    "y_pred_lr = model_lr.predict(X_test)\n",
    "print(metrics.classification_report(y_test,y_pred_lr))\n",
    "print(metrics.confusion_matrix(y_test,y_pred_lr))\n",
    "#print(\"Features sorted by their score:\") Logistic regression dont allow to sort features by their score\n",
    "#print(sorted(zip(map(lambda x: float(\"{0:.2f}\".format(round(x, 4))), model.feature_importances_), X_train.columns),reverse=True))\n",
    "matrix_LR=metrics.confusion_matrix(y_test, y_pred_lr)\n",
    "print('AUC',metrics.roc_auc_score(y_test, y_pred_lr))\n",
    "print('AUC_ROC',roc_auc_ci(y_test,y_pred_lr))"
   ]
  },
  {
   "cell_type": "markdown",
   "metadata": {},
   "source": [
    "$ \\begin{align} sensivity = \\frac{TP}{TP+FN} \\end{align} $\n",
    "$ \\begin{align} specificity = \\frac{TN}{TN+FP} \\end{align} $\n",
    "$ \\begin{align} precision = \\frac{TP}{TP+FP} \\end{align} $\n",
    "$ \\begin{align} F-Score = \\frac{2xTP}{2xTP+FP+FN} \\end{align} $\n",
    "\n",
    "**Logistic regression**\n",
    "1 = Positive/0 = negative\n",
    "\n",
    "|  &nbsp; | &nbsp; |prev<br/>neg|<br/>pos | Tot   |\n",
    "|---------|--------|:----------:|--------:|:-----:|\n",
    "|true     | Neg    |  TN:169    |  FP:46  |   215 |\n",
    "|  &nbsp; | Pos    |  FN:327    | TP:1195 |  1522 |\n",
    "|         |        |    496     |  1241   |       |\n"
   ]
  },
  {
   "cell_type": "code",
   "execution_count": 192,
   "metadata": {},
   "outputs": [
    {
     "name": "stdout",
     "output_type": "stream",
     "text": [
      "tn:169 fp:46 fn:327 tp:1195\n",
      "accuracy 0.785262 sensitivy 0.785151, specificity 0.786047, precision 0.962933, f1score 0.865002\n"
     ]
    }
   ],
   "source": [
    "tn, fp, fn, tp = metrics.confusion_matrix(y_test, y_pred_lr).ravel()\n",
    "print('tn:%d fp:%d fn:%d tp:%d' %(tn, fp, fn, tp))\n",
    "print('accuracy %f sensitivy %f, specificity %f, precision %f, f1score %f' \\\n",
    "      %(((tp+tn)/(tp+tn+fn+fp)),(tp/(tp+fn)),tn/(tn+fp),tp/(tp+fp), 2*tp/(2*tp+fp+fn)))"
   ]
  },
  {
   "cell_type": "markdown",
   "metadata": {},
   "source": [
    "#### DecisionTreeClassifier"
   ]
  },
  {
   "cell_type": "code",
   "execution_count": 163,
   "metadata": {},
   "outputs": [
    {
     "data": {
      "text/plain": [
       "{'ccp_alpha': 0.0,\n",
       " 'class_weight': None,\n",
       " 'criterion': 'gini',\n",
       " 'max_depth': None,\n",
       " 'max_features': None,\n",
       " 'max_leaf_nodes': None,\n",
       " 'min_impurity_decrease': 0.0,\n",
       " 'min_impurity_split': None,\n",
       " 'min_samples_leaf': 1,\n",
       " 'min_samples_split': 2,\n",
       " 'min_weight_fraction_leaf': 0.0,\n",
       " 'presort': 'deprecated',\n",
       " 'random_state': None,\n",
       " 'splitter': 'best'}"
      ]
     },
     "execution_count": 163,
     "metadata": {},
     "output_type": "execute_result"
    }
   ],
   "source": [
    "DecisionTreeClassifier().get_params()"
   ]
  },
  {
   "cell_type": "code",
   "execution_count": 164,
   "metadata": {},
   "outputs": [],
   "source": [
    "max_features = ['auto', 'sqrt', 'log2','None']\n",
    "max_depth = [3,4,5,6,7,8]\n",
    "criterion = ['gini', 'entropy']\n",
    "class_weight = [\"balanced\", \"balanced_subsample\"]\n",
    "\n",
    "# define grid search\n",
    "grid = dict(max_features=max_features,max_depth=max_depth, criterion=criterion, class_weight = class_weight)"
   ]
  },
  {
   "cell_type": "code",
   "execution_count": 165,
   "metadata": {},
   "outputs": [
    {
     "name": "stdout",
     "output_type": "stream",
     "text": [
      "best params {'class_weight': 'balanced', 'criterion': 'entropy', 'max_depth': 6, 'max_features': 'auto'}\n",
      "best AUC score: 0.898652045224815\n",
      "execution time: 2.7882089614868164\n"
     ]
    }
   ],
   "source": [
    "start_time = time.time()\n",
    "\n",
    "scoring = {'AUC': 'roc_auc'}\n",
    "gs = GridSearchCV(estimator = DecisionTreeClassifier(random_state=42),\n",
    "                  param_grid=grid,\n",
    "                  scoring=scoring, \n",
    "                  refit='AUC', \n",
    "                  return_train_score=True)\n",
    "grid_result = gs.fit(X_train,y_train)\n",
    "print('best params',grid_result.best_params_)\n",
    "print('best AUC score:',grid_result.best_score_)\n",
    "print('execution time:',time.time()-start_time)"
   ]
  },
  {
   "cell_type": "markdown",
   "metadata": {},
   "source": [
    "Class balanced is calculated using this formula $K_n=\\frac{n}{k.n_j}$ so we mantain class_weight={0: 4.0, 1: 0.571}"
   ]
  },
  {
   "cell_type": "code",
   "execution_count": 193,
   "metadata": {},
   "outputs": [
    {
     "name": "stdout",
     "output_type": "stream",
     "text": [
      "              precision    recall  f1-score   support\n",
      "\n",
      "           0       0.42      0.82      0.56       215\n",
      "           1       0.97      0.84      0.90      1522\n",
      "\n",
      "    accuracy                           0.84      1737\n",
      "   macro avg       0.70      0.83      0.73      1737\n",
      "weighted avg       0.90      0.84      0.86      1737\n",
      "\n",
      "[[ 176   39]\n",
      " [ 240 1282]]\n",
      "Features sorted by their score:\n",
      "[(0.46, 'dayswfreq'), (0.19, 'tbilled'), (0.17, 'months'), (0.06, 'nrenewals'), (0.05, 'age'), (0.03, 'rmonth'), (0.03, 'maccess'), (0.01, 'nentries'), (0.0, 'sex'), (0.0, 'cref'), (0.0, 'cfreq')]\n",
      "AUCROC: 0.8304586987745622\n",
      "AUC_ROC_CI (0.8075112062755905, 0.853406191273534)\n"
     ]
    }
   ],
   "source": [
    "model_dtc = DecisionTreeClassifier(class_weight={0: 4.0, 1: 0.571}, criterion='entropy',max_depth = 6, max_features='auto', random_state=42)\n",
    "model_dtc.fit(X_train,y_train)\n",
    "y_pred_dtc = model_dtc.predict(X_test)\n",
    "print(metrics.classification_report(y_test,y_pred_dtc))\n",
    "print(metrics.confusion_matrix(y_test,y_pred_dtc))\n",
    "print(\"Features sorted by their score:\")\n",
    "print(sorted(zip(map(lambda x: float(\"{0:.2f}\".format(round(x, 4))), model_dtc.feature_importances_), X_train.columns),reverse=True))\n",
    "matrix_DTC=metrics.confusion_matrix(y_test, y_pred_dtc)\n",
    "print('AUCROC:',metrics.roc_auc_score(y_test, y_pred_dtc))\n",
    "print('AUC_ROC_CI',roc_auc_ci(y_test,y_pred_dtc))"
   ]
  },
  {
   "cell_type": "markdown",
   "metadata": {},
   "source": [
    "$ \\begin{align} sensivity = \\frac{TP}{TP+FN} \\end{align} $\n",
    "$ \\begin{align} specificity = \\frac{TN}{TN+FP} \\end{align} $\n",
    "$ \\begin{align} precision = \\frac{TP}{TP+FP} \\end{align} $\n",
    "$ \\begin{align} F-Score = \\frac{2xTP}{2xTP+FP+FN} \\end{align} $\n",
    "\n",
    "**Decision Tree Classifier**\n",
    "1 = Positive/0 = negative\n",
    "\n",
    "|  &nbsp; | &nbsp; |prev<br/>neg|<br/>pos | Tot   |\n",
    "|---------|--------|:----------:|--------:|:-----:|\n",
    "|true     | Neg    |  TN:176    |  FP:39  |   215 |\n",
    "|  &nbsp; | Pos    |  FN:240    | TP:1282 |  1522 |\n",
    "|         |        |    416     |  1321   |       |\n"
   ]
  },
  {
   "cell_type": "code",
   "execution_count": 194,
   "metadata": {},
   "outputs": [
    {
     "name": "stdout",
     "output_type": "stream",
     "text": [
      "tn:176 fp:39 fn:240 tp:1282\n",
      "accuracy 0.839378 sensitivy 0.842313, specificity 0.818605, precision 0.970477, f1score 0.901864\n"
     ]
    }
   ],
   "source": [
    "tn, fp, fn, tp = metrics.confusion_matrix(y_test, y_pred_dtc).ravel()\n",
    "print('tn:%d fp:%d fn:%d tp:%d' %(tn, fp, fn, tp))\n",
    "print('accuracy %f sensitivy %f, specificity %f, precision %f, f1score %f' \\\n",
    "      %(((tp+tn)/(tp+tn+fn+fp)),(tp/(tp+fn)),tn/(tn+fp),tp/(tp+fp), 2*tp/(2*tp+fp+fn)))"
   ]
  },
  {
   "cell_type": "markdown",
   "metadata": {},
   "source": [
    "#### Random Forest Classifier"
   ]
  },
  {
   "cell_type": "code",
   "execution_count": 168,
   "metadata": {},
   "outputs": [
    {
     "data": {
      "text/plain": [
       "{'bootstrap': True,\n",
       " 'ccp_alpha': 0.0,\n",
       " 'class_weight': None,\n",
       " 'criterion': 'gini',\n",
       " 'max_depth': None,\n",
       " 'max_features': 'auto',\n",
       " 'max_leaf_nodes': None,\n",
       " 'max_samples': None,\n",
       " 'min_impurity_decrease': 0.0,\n",
       " 'min_impurity_split': None,\n",
       " 'min_samples_leaf': 1,\n",
       " 'min_samples_split': 2,\n",
       " 'min_weight_fraction_leaf': 0.0,\n",
       " 'n_estimators': 100,\n",
       " 'n_jobs': None,\n",
       " 'oob_score': False,\n",
       " 'random_state': None,\n",
       " 'verbose': 0,\n",
       " 'warm_start': False}"
      ]
     },
     "execution_count": 168,
     "metadata": {},
     "output_type": "execute_result"
    }
   ],
   "source": [
    "RandomForestClassifier().get_params()"
   ]
  },
  {
   "cell_type": "code",
   "execution_count": 169,
   "metadata": {},
   "outputs": [],
   "source": [
    "n_estimators = [100,200, 500]\n",
    "max_features = ['auto', 'sqrt', 'log2','None']\n",
    "max_depth = [4,5,6,7,8]\n",
    "criterion = ['gini', 'entropy']\n",
    "class_weight = [\"balanced\", \"balanced_subsample\"]\n",
    "\n",
    "# define grid search\n",
    "grid = dict(n_estimators = n_estimators,max_features=max_features,max_depth=max_depth, criterion=criterion, class_weight = class_weight)"
   ]
  },
  {
   "cell_type": "code",
   "execution_count": 195,
   "metadata": {},
   "outputs": [
    {
     "name": "stdout",
     "output_type": "stream",
     "text": [
      "best params {'max_depth': 8, 'max_features': 'auto', 'n_estimators': 200}\n",
      "best AUC score: 0.9476825766920959\n",
      "execution time: 207.71050786972046\n"
     ]
    }
   ],
   "source": [
    "start_time = time.time()\n",
    "X_train, X_test, y_train, y_test = train_test_split(X, y, train_size=2/3, stratify = y, random_state=0)\n",
    "\n",
    "scoring = {'AUC': 'roc_auc'}\n",
    "gs = GridSearchCV(estimator = RandomForestClassifier(random_state=42),\n",
    "                  param_grid=grid,\n",
    "                  scoring=scoring, \n",
    "                  refit='AUC', \n",
    "                  return_train_score=True)\n",
    "grid_result = gs.fit(X_train,y_train)\n",
    "print('best params',grid_result.best_params_)\n",
    "print('best AUC score:',grid_result.best_score_)\n",
    "print('execution time:',time.time()-start_time)"
   ]
  },
  {
   "cell_type": "code",
   "execution_count": 198,
   "metadata": {},
   "outputs": [
    {
     "name": "stdout",
     "output_type": "stream",
     "text": [
      "              precision    recall  f1-score   support\n",
      "\n",
      "           0       0.65      0.79      0.71       215\n",
      "           1       0.97      0.94      0.95      1522\n",
      "\n",
      "    accuracy                           0.92      1737\n",
      "   macro avg       0.81      0.86      0.83      1737\n",
      "weighted avg       0.93      0.92      0.92      1737\n",
      "\n",
      "[[ 170   45]\n",
      " [  93 1429]]\n",
      "Features sorted by their score:\n",
      "[(0.43, 'dayswfreq'), (0.14, 'months'), (0.1, 'tbilled'), (0.08, 'maccess'), (0.07, 'age'), (0.06, 'rmonth'), (0.06, 'nentries'), (0.05, 'nrenewals'), (0.01, 'sex'), (0.01, 'cfreq'), (0.0, 'cref')]\n",
      "AUC 0.8647969318216544\n",
      "AUCROC: 0.8647969318216544\n",
      "AUC_ROC_CI (0.8451435573967021, 0.8844503062466067)\n"
     ]
    }
   ],
   "source": [
    "model_rfc = RandomForestClassifier(class_weight='balanced',criterion='gini',max_depth=8,max_features='auto',\n",
    "                                   n_estimators=500, random_state=42)\n",
    "model_rfc.fit(X_train,y_train)\n",
    "y_pred_rfc = model_rfc.predict(X_test)\n",
    "print(metrics.classification_report(y_test,y_pred_rfc))\n",
    "print(metrics.confusion_matrix(y_test,y_pred_rfc))\n",
    "print(\"Features sorted by their score:\")\n",
    "print(sorted(zip(map(lambda x: float(\"{0:.2f}\".format(round(x, 4))), model_rfc.feature_importances_), X_train.columns),reverse=True))\n",
    "matrix_RFC=metrics.confusion_matrix(y_test, y_pred_rfc)\n",
    "print('AUC',metrics.roc_auc_score(y_test, y_pred_rfc))\n",
    "print('AUCROC:',metrics.roc_auc_score(y_test, y_pred_rfc))\n",
    "print('AUC_ROC_CI',roc_auc_ci(y_test,y_pred_rfc))"
   ]
  },
  {
   "cell_type": "markdown",
   "metadata": {},
   "source": [
    "$ \\begin{align} sensivity = \\frac{TP}{TP+FN} \\end{align} $ \n",
    "$ \\begin{align} specificity = \\frac{TN}{TN+FP} \\end{align} $\n",
    "$ \\begin{align} precision = \\frac{TP}{TP+FP} \\end{align} $\n",
    "$ \\begin{align} F-Score = \\frac{2xTP}{2xTP+FP+FN} \\end{align} $\n",
    "\n",
    "**Random Forest Classifier**\n",
    "\n",
    "1 = Positive/0 = negative\n",
    "\n",
    "|  &nbsp; | &nbsp; |prev<br/>neg|<br/>pos | Tot   |\n",
    "|---------|--------|:----------:|--------:|:-----:|\n",
    "|true     | Neg    |  TN:170    |  FP:45  |   215 |\n",
    "|  &nbsp; | Pos    |  FN:93     | TP:1429 |  1522 |\n",
    "|         |        |    263     |  1474   |       |\n"
   ]
  },
  {
   "cell_type": "code",
   "execution_count": 199,
   "metadata": {},
   "outputs": [
    {
     "name": "stdout",
     "output_type": "stream",
     "text": [
      "tn:170 fp:45 fn:93 tp:1429\n",
      "accuracy 0.920553 sensitivy 0.938896, specificity 0.790698, precision 0.969471, f1score 0.953939\n"
     ]
    }
   ],
   "source": [
    "tn, fp, fn, tp = metrics.confusion_matrix(y_test, y_pred_rfc).ravel()\n",
    "print('tn:%d fp:%d fn:%d tp:%d' %(tn, fp, fn, tp))\n",
    "print('accuracy %f sensitivy %f, specificity %f, precision %f, f1score %f' \\\n",
    "      %(((tp+tn)/(tp+tn+fn+fp)),(tp/(tp+fn)),tn/(tn+fp),tp/(tp+fp), 2*tp/(2*tp+fp+fn)))"
   ]
  },
  {
   "cell_type": "markdown",
   "metadata": {},
   "source": [
    "#### Gradient Boosting Classifier"
   ]
  },
  {
   "cell_type": "code",
   "execution_count": 173,
   "metadata": {},
   "outputs": [
    {
     "data": {
      "text/plain": [
       "{'ccp_alpha': 0.0,\n",
       " 'criterion': 'friedman_mse',\n",
       " 'init': None,\n",
       " 'learning_rate': 0.1,\n",
       " 'loss': 'deviance',\n",
       " 'max_depth': 3,\n",
       " 'max_features': None,\n",
       " 'max_leaf_nodes': None,\n",
       " 'min_impurity_decrease': 0.0,\n",
       " 'min_impurity_split': None,\n",
       " 'min_samples_leaf': 1,\n",
       " 'min_samples_split': 2,\n",
       " 'min_weight_fraction_leaf': 0.0,\n",
       " 'n_estimators': 100,\n",
       " 'n_iter_no_change': None,\n",
       " 'presort': 'deprecated',\n",
       " 'random_state': None,\n",
       " 'subsample': 1.0,\n",
       " 'tol': 0.0001,\n",
       " 'validation_fraction': 0.1,\n",
       " 'verbose': 0,\n",
       " 'warm_start': False}"
      ]
     },
     "execution_count": 173,
     "metadata": {},
     "output_type": "execute_result"
    }
   ],
   "source": [
    "GradientBoostingClassifier().get_params()"
   ]
  },
  {
   "cell_type": "code",
   "execution_count": 174,
   "metadata": {},
   "outputs": [],
   "source": [
    "n_estimators = [100, 200, 500]\n",
    "max_features = ['auto', 'sqrt', 'log2','None']\n",
    "max_depth = [3,4,5,6,7,8]\n",
    "\n",
    "# define grid search\n",
    "grid = dict(n_estimators = n_estimators,max_features=max_features,max_depth=max_depth)"
   ]
  },
  {
   "cell_type": "code",
   "execution_count": 175,
   "metadata": {},
   "outputs": [
    {
     "name": "stdout",
     "output_type": "stream",
     "text": [
      "best params {'max_depth': 6, 'max_features': 'sqrt', 'n_estimators': 500}\n",
      "best AUC score: 0.965127764396604\n",
      "execution time: 303.0413498878479\n"
     ]
    }
   ],
   "source": [
    "start_time = time.time()\n",
    "X_train, X_test, y_train, y_test = train_test_split(X, y, train_size=2/3, stratify = y, random_state=0)\n",
    "\n",
    "scoring = {'AUC': 'roc_auc'}\n",
    "gs = GridSearchCV(estimator = GradientBoostingClassifier(random_state=42),\n",
    "                  param_grid=grid,\n",
    "                  scoring=scoring, \n",
    "                  refit='AUC', \n",
    "                  return_train_score=True)\n",
    "grid_result = gs.fit(X_train,y_train)\n",
    "print('best params',grid_result.best_params_)\n",
    "print('best AUC score:',grid_result.best_score_)\n",
    "print('execution time:',time.time()-start_time)"
   ]
  },
  {
   "cell_type": "code",
   "execution_count": 200,
   "metadata": {},
   "outputs": [
    {
     "name": "stdout",
     "output_type": "stream",
     "text": [
      "              precision    recall  f1-score   support\n",
      "\n",
      "           0       0.88      0.73      0.80       215\n",
      "           1       0.96      0.99      0.97      1522\n",
      "\n",
      "    accuracy                           0.96      1737\n",
      "   macro avg       0.92      0.86      0.89      1737\n",
      "weighted avg       0.95      0.96      0.95      1737\n",
      "\n",
      "[[ 158   57]\n",
      " [  21 1501]]\n",
      "Features sorted by their score:\n",
      "[(0.35, 'dayswfreq'), (0.15, 'months'), (0.14, 'tbilled'), (0.07, 'rmonth'), (0.07, 'nentries'), (0.07, 'maccess'), (0.07, 'age'), (0.06, 'nrenewals'), (0.01, 'sex'), (0.01, 'cfreq'), (0.0, 'cref')]\n",
      "AUCROC: 0.8605430431195183\n",
      "AUC_ROC_CI (0.8404650542744497, 0.880621031964587)\n"
     ]
    }
   ],
   "source": [
    "model_gbc = GradientBoostingClassifier(max_depth=6,max_features='sqrt',n_estimators=500, random_state=42)\n",
    "model_gbc.fit(X_train,y_train)\n",
    "y_pred_gbc = model_gbc.predict(X_test)\n",
    "print(metrics.classification_report(y_test,y_pred_gbc))\n",
    "print(metrics.confusion_matrix(y_test,y_pred_gbc))\n",
    "print(\"Features sorted by their score:\")\n",
    "print(sorted(zip(map(lambda x: float(\"{0:.2f}\".format(round(x, 4))), model_gbc.feature_importances_), X_train.columns),reverse=True))\n",
    "matrix_GBC=metrics.confusion_matrix(y_test, y_pred_gbc)\n",
    "print('AUCROC:',metrics.roc_auc_score(y_test, y_pred_gbc))\n",
    "print('AUC_ROC_CI',roc_auc_ci(y_test,y_pred_gbc))"
   ]
  },
  {
   "cell_type": "markdown",
   "metadata": {},
   "source": [
    "$ \\begin{align} sensivity = \\frac{TP}{TP+FN} \\end{align} $ \n",
    "$ \\begin{align} specificity = \\frac{TN}{TN+FP} \\end{align} $\n",
    "$ \\begin{align} precision = \\frac{TP}{TP+FP} \\end{align} $\n",
    "$ \\begin{align} F-Score = \\frac{2xTP}{2xTP+FP+FN} \\end{align} $\n",
    "\n",
    "**Gradient Boosting Classifier**\n",
    "\n",
    "1 = Positive/0 = negative\n",
    "\n",
    "|  &nbsp; | &nbsp; |prev<br/>neg|<br/>pos | Tot   |\n",
    "|---------|--------|:----------:|--------:|:-----:|\n",
    "|true     | Neg    |  TN:158    |  FP:57  |   215 |\n",
    "|  &nbsp; | Pos    |  FN: 21    | TP:1501 |  1522 |\n",
    "|         |        |    179     |  1558   |       |\n"
   ]
  },
  {
   "cell_type": "code",
   "execution_count": 201,
   "metadata": {},
   "outputs": [
    {
     "name": "stdout",
     "output_type": "stream",
     "text": [
      "tn:158 fp:57 fn:21 tp:1501\n",
      "accuracy 0.955095 sensitivy 0.986202, specificity 0.734884, precision 0.963415, f1score 0.974675\n"
     ]
    }
   ],
   "source": [
    "tn, fp, fn, tp = metrics.confusion_matrix(y_test, y_pred_gbc).ravel()\n",
    "print('tn:%d fp:%d fn:%d tp:%d' %(tn, fp, fn, tp))\n",
    "print('accuracy %f sensitivy %f, specificity %f, precision %f, f1score %f' \\\n",
    "      %(((tp+tn)/(tp+tn+fn+fp)),(tp/(tp+fn)),tn/(tn+fp),tp/(tp+fp), 2*tp/(2*tp+fp+fn)))"
   ]
  },
  {
   "cell_type": "markdown",
   "metadata": {},
   "source": [
    "## Variable importance"
   ]
  },
  {
   "cell_type": "markdown",
   "metadata": {},
   "source": [
    "Logistic Regression doesn't have feature importance. We are working in a classification problem with classes 0 and 1. The coefficients are  positive and negative, the positive represents a feature that predicts class 1,the negative scores a feature that predicts class 0."
   ]
  },
  {
   "cell_type": "code",
   "execution_count": 178,
   "metadata": {},
   "outputs": [
    {
     "data": {
      "text/plain": [
       "Index(['age', 'sex', 'dayswfreq', 'tbilled', 'maccess', 'nentries', 'cfreq',\n",
       "       'nrenewals', 'cref', 'months', 'rmonth'],\n",
       "      dtype='object')"
      ]
     },
     "execution_count": 178,
     "metadata": {},
     "output_type": "execute_result"
    }
   ],
   "source": [
    "X_test.columns"
   ]
  },
  {
   "cell_type": "code",
   "execution_count": 179,
   "metadata": {},
   "outputs": [
    {
     "data": {
      "text/html": [
       "<div>\n",
       "<style scoped>\n",
       "    .dataframe tbody tr th:only-of-type {\n",
       "        vertical-align: middle;\n",
       "    }\n",
       "\n",
       "    .dataframe tbody tr th {\n",
       "        vertical-align: top;\n",
       "    }\n",
       "\n",
       "    .dataframe thead th {\n",
       "        text-align: right;\n",
       "    }\n",
       "</style>\n",
       "<table border=\"1\" class=\"dataframe\">\n",
       "  <thead>\n",
       "    <tr style=\"text-align: right;\">\n",
       "      <th></th>\n",
       "      <th>0</th>\n",
       "      <th>1</th>\n",
       "    </tr>\n",
       "  </thead>\n",
       "  <tbody>\n",
       "    <tr>\n",
       "      <th>0</th>\n",
       "      <td>0.004781</td>\n",
       "      <td>age</td>\n",
       "    </tr>\n",
       "    <tr>\n",
       "      <th>1</th>\n",
       "      <td>0.000000</td>\n",
       "      <td>sex</td>\n",
       "    </tr>\n",
       "    <tr>\n",
       "      <th>2</th>\n",
       "      <td>0.542122</td>\n",
       "      <td>dayswfreq</td>\n",
       "    </tr>\n",
       "    <tr>\n",
       "      <th>3</th>\n",
       "      <td>0.176883</td>\n",
       "      <td>tbilled</td>\n",
       "    </tr>\n",
       "    <tr>\n",
       "      <th>4</th>\n",
       "      <td>0.006351</td>\n",
       "      <td>maccess</td>\n",
       "    </tr>\n",
       "    <tr>\n",
       "      <th>5</th>\n",
       "      <td>0.014243</td>\n",
       "      <td>nentries</td>\n",
       "    </tr>\n",
       "    <tr>\n",
       "      <th>6</th>\n",
       "      <td>0.001207</td>\n",
       "      <td>cfreq</td>\n",
       "    </tr>\n",
       "    <tr>\n",
       "      <th>7</th>\n",
       "      <td>0.085532</td>\n",
       "      <td>nrenewals</td>\n",
       "    </tr>\n",
       "    <tr>\n",
       "      <th>8</th>\n",
       "      <td>0.000000</td>\n",
       "      <td>cref</td>\n",
       "    </tr>\n",
       "    <tr>\n",
       "      <th>9</th>\n",
       "      <td>0.146272</td>\n",
       "      <td>months</td>\n",
       "    </tr>\n",
       "    <tr>\n",
       "      <th>10</th>\n",
       "      <td>0.022607</td>\n",
       "      <td>rmonth</td>\n",
       "    </tr>\n",
       "  </tbody>\n",
       "</table>\n",
       "</div>"
      ],
      "text/plain": [
       "           0          1\n",
       "0   0.004781        age\n",
       "1   0.000000        sex\n",
       "2   0.542122  dayswfreq\n",
       "3   0.176883    tbilled\n",
       "4   0.006351    maccess\n",
       "5   0.014243   nentries\n",
       "6   0.001207      cfreq\n",
       "7   0.085532  nrenewals\n",
       "8   0.000000       cref\n",
       "9   0.146272     months\n",
       "10  0.022607     rmonth"
      ]
     },
     "execution_count": 179,
     "metadata": {},
     "output_type": "execute_result"
    }
   ],
   "source": [
    "pd.DataFrame(list(zip(model_dtc.feature_importances_,X_test.columns)))"
   ]
  },
  {
   "cell_type": "code",
   "execution_count": 180,
   "metadata": {},
   "outputs": [
    {
     "data": {
      "text/html": [
       "<div>\n",
       "<style scoped>\n",
       "    .dataframe tbody tr th:only-of-type {\n",
       "        vertical-align: middle;\n",
       "    }\n",
       "\n",
       "    .dataframe tbody tr th {\n",
       "        vertical-align: top;\n",
       "    }\n",
       "\n",
       "    .dataframe thead th {\n",
       "        text-align: right;\n",
       "    }\n",
       "</style>\n",
       "<table border=\"1\" class=\"dataframe\">\n",
       "  <thead>\n",
       "    <tr style=\"text-align: right;\">\n",
       "      <th></th>\n",
       "      <th>0</th>\n",
       "      <th>1</th>\n",
       "    </tr>\n",
       "  </thead>\n",
       "  <tbody>\n",
       "    <tr>\n",
       "      <th>0</th>\n",
       "      <td>0.065540</td>\n",
       "      <td>age</td>\n",
       "    </tr>\n",
       "    <tr>\n",
       "      <th>1</th>\n",
       "      <td>0.006523</td>\n",
       "      <td>sex</td>\n",
       "    </tr>\n",
       "    <tr>\n",
       "      <th>2</th>\n",
       "      <td>0.432990</td>\n",
       "      <td>dayswfreq</td>\n",
       "    </tr>\n",
       "    <tr>\n",
       "      <th>3</th>\n",
       "      <td>0.097895</td>\n",
       "      <td>tbilled</td>\n",
       "    </tr>\n",
       "    <tr>\n",
       "      <th>4</th>\n",
       "      <td>0.084736</td>\n",
       "      <td>maccess</td>\n",
       "    </tr>\n",
       "    <tr>\n",
       "      <th>5</th>\n",
       "      <td>0.058316</td>\n",
       "      <td>nentries</td>\n",
       "    </tr>\n",
       "    <tr>\n",
       "      <th>6</th>\n",
       "      <td>0.005794</td>\n",
       "      <td>cfreq</td>\n",
       "    </tr>\n",
       "    <tr>\n",
       "      <th>7</th>\n",
       "      <td>0.046346</td>\n",
       "      <td>nrenewals</td>\n",
       "    </tr>\n",
       "    <tr>\n",
       "      <th>8</th>\n",
       "      <td>0.000296</td>\n",
       "      <td>cref</td>\n",
       "    </tr>\n",
       "    <tr>\n",
       "      <th>9</th>\n",
       "      <td>0.142693</td>\n",
       "      <td>months</td>\n",
       "    </tr>\n",
       "    <tr>\n",
       "      <th>10</th>\n",
       "      <td>0.058872</td>\n",
       "      <td>rmonth</td>\n",
       "    </tr>\n",
       "  </tbody>\n",
       "</table>\n",
       "</div>"
      ],
      "text/plain": [
       "           0          1\n",
       "0   0.065540        age\n",
       "1   0.006523        sex\n",
       "2   0.432990  dayswfreq\n",
       "3   0.097895    tbilled\n",
       "4   0.084736    maccess\n",
       "5   0.058316   nentries\n",
       "6   0.005794      cfreq\n",
       "7   0.046346  nrenewals\n",
       "8   0.000296       cref\n",
       "9   0.142693     months\n",
       "10  0.058872     rmonth"
      ]
     },
     "execution_count": 180,
     "metadata": {},
     "output_type": "execute_result"
    }
   ],
   "source": [
    "pd.DataFrame(list(zip(model_rfc.feature_importances_,X_test.columns)))"
   ]
  },
  {
   "cell_type": "code",
   "execution_count": 181,
   "metadata": {},
   "outputs": [
    {
     "data": {
      "text/html": [
       "<div>\n",
       "<style scoped>\n",
       "    .dataframe tbody tr th:only-of-type {\n",
       "        vertical-align: middle;\n",
       "    }\n",
       "\n",
       "    .dataframe tbody tr th {\n",
       "        vertical-align: top;\n",
       "    }\n",
       "\n",
       "    .dataframe thead th {\n",
       "        text-align: right;\n",
       "    }\n",
       "</style>\n",
       "<table border=\"1\" class=\"dataframe\">\n",
       "  <thead>\n",
       "    <tr style=\"text-align: right;\">\n",
       "      <th></th>\n",
       "      <th>0</th>\n",
       "      <th>1</th>\n",
       "    </tr>\n",
       "  </thead>\n",
       "  <tbody>\n",
       "    <tr>\n",
       "      <th>0</th>\n",
       "      <td>0.073031</td>\n",
       "      <td>age</td>\n",
       "    </tr>\n",
       "    <tr>\n",
       "      <th>1</th>\n",
       "      <td>0.008865</td>\n",
       "      <td>sex</td>\n",
       "    </tr>\n",
       "    <tr>\n",
       "      <th>2</th>\n",
       "      <td>0.350187</td>\n",
       "      <td>dayswfreq</td>\n",
       "    </tr>\n",
       "    <tr>\n",
       "      <th>3</th>\n",
       "      <td>0.144715</td>\n",
       "      <td>tbilled</td>\n",
       "    </tr>\n",
       "    <tr>\n",
       "      <th>4</th>\n",
       "      <td>0.071915</td>\n",
       "      <td>maccess</td>\n",
       "    </tr>\n",
       "    <tr>\n",
       "      <th>5</th>\n",
       "      <td>0.069500</td>\n",
       "      <td>nentries</td>\n",
       "    </tr>\n",
       "    <tr>\n",
       "      <th>6</th>\n",
       "      <td>0.011180</td>\n",
       "      <td>cfreq</td>\n",
       "    </tr>\n",
       "    <tr>\n",
       "      <th>7</th>\n",
       "      <td>0.055012</td>\n",
       "      <td>nrenewals</td>\n",
       "    </tr>\n",
       "    <tr>\n",
       "      <th>8</th>\n",
       "      <td>0.000565</td>\n",
       "      <td>cref</td>\n",
       "    </tr>\n",
       "    <tr>\n",
       "      <th>9</th>\n",
       "      <td>0.147133</td>\n",
       "      <td>months</td>\n",
       "    </tr>\n",
       "    <tr>\n",
       "      <th>10</th>\n",
       "      <td>0.067897</td>\n",
       "      <td>rmonth</td>\n",
       "    </tr>\n",
       "  </tbody>\n",
       "</table>\n",
       "</div>"
      ],
      "text/plain": [
       "           0          1\n",
       "0   0.073031        age\n",
       "1   0.008865        sex\n",
       "2   0.350187  dayswfreq\n",
       "3   0.144715    tbilled\n",
       "4   0.071915    maccess\n",
       "5   0.069500   nentries\n",
       "6   0.011180      cfreq\n",
       "7   0.055012  nrenewals\n",
       "8   0.000565       cref\n",
       "9   0.147133     months\n",
       "10  0.067897     rmonth"
      ]
     },
     "execution_count": 181,
     "metadata": {},
     "output_type": "execute_result"
    }
   ],
   "source": [
    "pd.DataFrame(list(zip(model_gbc.feature_importances_,X_test.columns)))"
   ]
  },
  {
   "cell_type": "code",
   "execution_count": 182,
   "metadata": {},
   "outputs": [],
   "source": [
    "importance = pd.DataFrame(dict(features=X_test.columns,lr=model_lr.coef_[0],\n",
    "                               dtc=model_dtc.feature_importances_,\n",
    "                               rfc=model_rfc.feature_importances_,\n",
    "                               gbc=model_gbc.feature_importances_)).set_index('features')\n",
    "importance=importance.sort_values(by='gbc',ascending=False)"
   ]
  },
  {
   "cell_type": "code",
   "execution_count": 183,
   "metadata": {},
   "outputs": [
    {
     "data": {
      "text/html": [
       "<div>\n",
       "<style scoped>\n",
       "    .dataframe tbody tr th:only-of-type {\n",
       "        vertical-align: middle;\n",
       "    }\n",
       "\n",
       "    .dataframe tbody tr th {\n",
       "        vertical-align: top;\n",
       "    }\n",
       "\n",
       "    .dataframe thead th {\n",
       "        text-align: right;\n",
       "    }\n",
       "</style>\n",
       "<table border=\"1\" class=\"dataframe\">\n",
       "  <thead>\n",
       "    <tr style=\"text-align: right;\">\n",
       "      <th></th>\n",
       "      <th>lr</th>\n",
       "      <th>dtc</th>\n",
       "      <th>rfc</th>\n",
       "      <th>gbc</th>\n",
       "    </tr>\n",
       "    <tr>\n",
       "      <th>features</th>\n",
       "      <th></th>\n",
       "      <th></th>\n",
       "      <th></th>\n",
       "      <th></th>\n",
       "    </tr>\n",
       "  </thead>\n",
       "  <tbody>\n",
       "    <tr>\n",
       "      <th>dayswfreq</th>\n",
       "      <td>0.004296</td>\n",
       "      <td>0.542122</td>\n",
       "      <td>0.432990</td>\n",
       "      <td>0.350187</td>\n",
       "    </tr>\n",
       "    <tr>\n",
       "      <th>months</th>\n",
       "      <td>-0.088619</td>\n",
       "      <td>0.146272</td>\n",
       "      <td>0.142693</td>\n",
       "      <td>0.147133</td>\n",
       "    </tr>\n",
       "    <tr>\n",
       "      <th>tbilled</th>\n",
       "      <td>-0.002443</td>\n",
       "      <td>0.176883</td>\n",
       "      <td>0.097895</td>\n",
       "      <td>0.144715</td>\n",
       "    </tr>\n",
       "    <tr>\n",
       "      <th>age</th>\n",
       "      <td>-0.031476</td>\n",
       "      <td>0.004781</td>\n",
       "      <td>0.065540</td>\n",
       "      <td>0.073031</td>\n",
       "    </tr>\n",
       "    <tr>\n",
       "      <th>maccess</th>\n",
       "      <td>-1.449046</td>\n",
       "      <td>0.006351</td>\n",
       "      <td>0.084736</td>\n",
       "      <td>0.071915</td>\n",
       "    </tr>\n",
       "    <tr>\n",
       "      <th>nentries</th>\n",
       "      <td>0.017413</td>\n",
       "      <td>0.014243</td>\n",
       "      <td>0.058316</td>\n",
       "      <td>0.069500</td>\n",
       "    </tr>\n",
       "    <tr>\n",
       "      <th>rmonth</th>\n",
       "      <td>-0.068773</td>\n",
       "      <td>0.022607</td>\n",
       "      <td>0.058872</td>\n",
       "      <td>0.067897</td>\n",
       "    </tr>\n",
       "    <tr>\n",
       "      <th>nrenewals</th>\n",
       "      <td>-0.386044</td>\n",
       "      <td>0.085532</td>\n",
       "      <td>0.046346</td>\n",
       "      <td>0.055012</td>\n",
       "    </tr>\n",
       "    <tr>\n",
       "      <th>cfreq</th>\n",
       "      <td>0.279667</td>\n",
       "      <td>0.001207</td>\n",
       "      <td>0.005794</td>\n",
       "      <td>0.011180</td>\n",
       "    </tr>\n",
       "    <tr>\n",
       "      <th>sex</th>\n",
       "      <td>0.163236</td>\n",
       "      <td>0.000000</td>\n",
       "      <td>0.006523</td>\n",
       "      <td>0.008865</td>\n",
       "    </tr>\n",
       "    <tr>\n",
       "      <th>cref</th>\n",
       "      <td>0.970032</td>\n",
       "      <td>0.000000</td>\n",
       "      <td>0.000296</td>\n",
       "      <td>0.000565</td>\n",
       "    </tr>\n",
       "  </tbody>\n",
       "</table>\n",
       "</div>"
      ],
      "text/plain": [
       "                 lr       dtc       rfc       gbc\n",
       "features                                         \n",
       "dayswfreq  0.004296  0.542122  0.432990  0.350187\n",
       "months    -0.088619  0.146272  0.142693  0.147133\n",
       "tbilled   -0.002443  0.176883  0.097895  0.144715\n",
       "age       -0.031476  0.004781  0.065540  0.073031\n",
       "maccess   -1.449046  0.006351  0.084736  0.071915\n",
       "nentries   0.017413  0.014243  0.058316  0.069500\n",
       "rmonth    -0.068773  0.022607  0.058872  0.067897\n",
       "nrenewals -0.386044  0.085532  0.046346  0.055012\n",
       "cfreq      0.279667  0.001207  0.005794  0.011180\n",
       "sex        0.163236  0.000000  0.006523  0.008865\n",
       "cref       0.970032  0.000000  0.000296  0.000565"
      ]
     },
     "execution_count": 183,
     "metadata": {},
     "output_type": "execute_result"
    }
   ],
   "source": [
    "importance"
   ]
  },
  {
   "cell_type": "code",
   "execution_count": 226,
   "metadata": {},
   "outputs": [
    {
     "data": {
      "image/png": "[encoded data removed]",
      "text/plain": [
       "<Figure size 864x216 with 1 Axes>"
      ]
     },
     "metadata": {
      "needs_background": "light"
     },
     "output_type": "display_data"
    }
   ],
   "source": [
    "#fig,ax = plt.subplots(2,1,figsize=(15,7))\n",
    "#ax1,ax2=ax.flatten()\n",
    "#ax1.set_xticks([])\n",
    "#ax1.set_ylabel('Relative importance')\n",
    "#ax2.set_xticks([])\n",
    "#ax2.set_ylabel('Coeficients')\n",
    "##sns.distplot()\n",
    "#importance[['dtc','rfc','gbc']].plot(kind='bar',title='Features importance',ax=ax1,xticks=[]).xaxis.label.set_visible(False);\n",
    "#importance[['lr']].plot(kind='bar',ax=ax2);\n",
    "importance[['dtc','rfc','gbc']].plot(kind='bar',title='Variables importance')\n",
    "plt.legend(['Decision Tree Classifier','Random Forest Classifier','Gradient Boosting Classifier'])\n",
    "plt.ylabel('Relative importance')\n",
    "plt.xlabel('Features');\n"
   ]
  },
  {
   "cell_type": "code",
   "execution_count": 230,
   "metadata": {},
   "outputs": [],
   "source": [
    "plt.savefig(quality = 95, dpi = 'figure',fname = 'figure1.png')\n",
    "plt.close()"
   ]
  },
  {
   "cell_type": "markdown",
   "metadata": {},
   "source": [
    "## Trees visualization"
   ]
  },
  {
   "cell_type": "code",
   "execution_count": 370,
   "metadata": {},
   "outputs": [],
   "source": [
    "#model_tree = DecisionTreeClassifier(class_weight={0: 4.0, 1: 0.571}, criterion='entropy',max_depth = 4, max_features='auto', random_state=42)\n",
    "model_tree = DecisionTreeClassifier(criterion='entropy',max_depth = 4, max_features='auto', random_state=42)\n",
    "model_tree.fit(X_test,y_test);"
   ]
  },
  {
   "cell_type": "code",
   "execution_count": 371,
   "metadata": {},
   "outputs": [
    {
     "data": {
      "image/png": "[encoded data removed]",
      "text/plain": [
       "<IPython.core.display.Image object>"
      ]
     },
     "execution_count": 371,
     "metadata": {},
     "output_type": "execute_result"
    }
   ],
   "source": [
    "dot_data = StringIO()\n",
    "export_graphviz(model_tree, out_file=dot_data, feature_names=X.columns, class_names=['0','1'],label='all',\n",
    "                filled=False, rounded=True,\n",
    "                special_characters=True,max_depth=5)\n",
    "graph = pydotplus.graph_from_dot_data(dot_data.getvalue()) \n",
    "#graph.write_png('trees/dtc1_arvore.png')\n",
    "Image(graph.create_png())"
   ]
  },
  {
   "cell_type": "code",
   "execution_count": 346,
   "metadata": {},
   "outputs": [
    {
     "data": {
      "text/plain": [
       "1    1522\n",
       "0     215\n",
       "Name: dropout, dtype: int64"
      ]
     },
     "execution_count": 346,
     "metadata": {},
     "output_type": "execute_result"
    }
   ],
   "source": [
    "y_test.value_counts()"
   ]
  },
  {
   "cell_type": "code",
   "execution_count": 325,
   "metadata": {},
   "outputs": [],
   "source": [
    "model_tree = DecisionTreeClassifier(class_weight={0: 4.0, 1: 0.571}, criterion='entropy',max_depth = 3, max_features='auto', random_state=42)\n",
    "model_tree.fit(X_test,y_test);"
   ]
  },
  {
   "cell_type": "code",
   "execution_count": 366,
   "metadata": {},
   "outputs": [],
   "source": [
    "viz = dtreeviz(model_tree,X_test,y_test,target_name='dropout',feature_names=X.columns,class_names=['no','yes'])\n",
    "\n",
    "viz.view()\n",
    "viz.save('trees/dtc2_arvore.svg')"
   ]
  },
  {
   "cell_type": "code",
   "execution_count": 300,
   "metadata": {},
   "outputs": [],
   "source": [
    "sub_tree_98 = model_gbc.estimators_[98, 0]"
   ]
  },
  {
   "cell_type": "code",
   "execution_count": 301,
   "metadata": {},
   "outputs": [],
   "source": [
    "viz = dtreeviz(sub_tree_98,X_train,y_train,target_name='dropout',feature_names=X.columns,class_names=['no','yes'],orientation='LR')\n",
    "\n",
    "viz.view()\n",
    "viz.save('trees/dtc2_arvore.svg')"
   ]
  },
  {
   "cell_type": "code",
   "execution_count": 336,
   "metadata": {},
   "outputs": [
    {
     "data": {
      "text/plain": [
       "Index(['age', 'sex', 'dayswfreq', 'tbilled', 'maccess', 'nentries', 'cfreq',\n",
       "       'nrenewals', 'cref', 'months', 'rmonth'],\n",
       "      dtype='object')"
      ]
     },
     "execution_count": 336,
     "metadata": {},
     "output_type": "execute_result"
    }
   ],
   "source": [
    "X_test.columns"
   ]
  },
  {
   "cell_type": "code",
   "execution_count": 361,
   "metadata": {},
   "outputs": [
    {
     "name": "stdout",
     "output_type": "stream",
     "text": [
      "|--- tbilled <= 273.7\n",
      "|   |--- dayswfreq <= 11.5\n",
      "|   |   |--- rmonth <= 7.5\n",
      "|   |   |   |--- cfreq <= 6.5\n",
      "|   |   |   |   |--- age <= 40.0\n",
      "|   |   |   |   |   |--- class: 1\n",
      "|   |   |   |   |--- age >  40.0\n",
      "|   |   |   |   |   |--- nrenewals <= 0.5\n",
      "|   |   |   |   |   |   |--- class: 1\n",
      "|   |   |   |   |   |--- nrenewals >  0.5\n",
      "|   |   |   |   |   |   |--- class: 0\n",
      "|   |   |   |--- cfreq >  6.5\n",
      "|   |   |   |   |--- months <= 3.5\n",
      "|   |   |   |   |   |--- class: 1\n",
      "|   |   |   |   |--- months >  3.5\n",
      "|   |   |   |   |   |--- nrenewals <= 0.5\n",
      "|   |   |   |   |   |   |--- class: 1\n",
      "|   |   |   |   |   |--- nrenewals >  0.5\n",
      "|   |   |   |   |   |   |--- class: 0\n",
      "|   |   |--- rmonth >  7.5\n",
      "|   |   |   |--- months <= 2.5\n",
      "|   |   |   |   |--- tbilled <= 111.6\n",
      "|   |   |   |   |   |--- age <= 38.5\n",
      "|   |   |   |   |   |   |--- class: 0\n",
      "|   |   |   |   |   |--- age >  38.5\n",
      "|   |   |   |   |   |   |--- class: 0\n",
      "|   |   |   |   |--- tbilled >  111.6\n",
      "|   |   |   |   |   |--- class: 0\n",
      "|   |   |   |--- months >  2.5\n",
      "|   |   |   |   |--- dayswfreq <= 6.5\n",
      "|   |   |   |   |   |--- months <= 10.5\n",
      "|   |   |   |   |   |   |--- class: 1\n",
      "|   |   |   |   |   |--- months >  10.5\n",
      "|   |   |   |   |   |   |--- class: 0\n",
      "|   |   |   |   |--- dayswfreq >  6.5\n",
      "|   |   |   |   |   |--- maccess <= 0.5\n",
      "|   |   |   |   |   |   |--- class: 0\n",
      "|   |   |   |   |   |--- maccess >  0.5\n",
      "|   |   |   |   |   |   |--- class: 1\n",
      "|   |--- dayswfreq >  11.5\n",
      "|   |   |--- months <= 17.5\n",
      "|   |   |   |--- nentries <= 8.5\n",
      "|   |   |   |   |--- tbilled <= 61.5\n",
      "|   |   |   |   |   |--- age <= 64.0\n",
      "|   |   |   |   |   |   |--- class: 1\n",
      "|   |   |   |   |   |--- age >  64.0\n",
      "|   |   |   |   |   |   |--- class: 0\n",
      "|   |   |   |   |--- tbilled >  61.5\n",
      "|   |   |   |   |   |--- months <= 2.5\n",
      "|   |   |   |   |   |   |--- class: 0\n",
      "|   |   |   |   |   |--- months >  2.5\n",
      "|   |   |   |   |   |   |--- class: 1\n",
      "|   |   |   |--- nentries >  8.5\n",
      "|   |   |   |   |--- sex <= 0.5\n",
      "|   |   |   |   |   |--- rmonth <= 9.5\n",
      "|   |   |   |   |   |   |--- class: 1\n",
      "|   |   |   |   |   |--- rmonth >  9.5\n",
      "|   |   |   |   |   |   |--- class: 1\n",
      "|   |   |   |   |--- sex >  0.5\n",
      "|   |   |   |   |   |--- nrenewals <= 0.5\n",
      "|   |   |   |   |   |   |--- class: 1\n",
      "|   |   |   |   |   |--- nrenewals >  0.5\n",
      "|   |   |   |   |   |   |--- class: 1\n",
      "|   |   |--- months >  17.5\n",
      "|   |   |   |--- rmonth <= 5.5\n",
      "|   |   |   |   |--- rmonth <= 3.5\n",
      "|   |   |   |   |   |--- maccess <= 0.1\n",
      "|   |   |   |   |   |   |--- class: 1\n",
      "|   |   |   |   |   |--- maccess >  0.1\n",
      "|   |   |   |   |   |   |--- class: 0\n",
      "|   |   |   |   |--- rmonth >  3.5\n",
      "|   |   |   |   |   |--- dayswfreq <= 169.0\n",
      "|   |   |   |   |   |   |--- class: 1\n",
      "|   |   |   |   |   |--- dayswfreq >  169.0\n",
      "|   |   |   |   |   |   |--- class: 0\n",
      "|   |   |   |--- rmonth >  5.5\n",
      "|   |   |   |   |--- rmonth <= 9.5\n",
      "|   |   |   |   |   |--- maccess <= 0.2\n",
      "|   |   |   |   |   |   |--- class: 0\n",
      "|   |   |   |   |   |--- maccess >  0.2\n",
      "|   |   |   |   |   |   |--- class: 1\n",
      "|   |   |   |   |--- rmonth >  9.5\n",
      "|   |   |   |   |   |--- nrenewals <= 1.5\n",
      "|   |   |   |   |   |   |--- class: 1\n",
      "|   |   |   |   |   |--- nrenewals >  1.5\n",
      "|   |   |   |   |   |   |--- class: 0\n",
      "|--- tbilled >  273.7\n",
      "|   |--- age <= 34.5\n",
      "|   |   |--- nrenewals <= 1.5\n",
      "|   |   |   |--- maccess <= 1.6\n",
      "|   |   |   |   |--- rmonth <= 7.5\n",
      "|   |   |   |   |   |--- maccess <= 1.1\n",
      "|   |   |   |   |   |   |--- class: 0\n",
      "|   |   |   |   |   |--- maccess >  1.1\n",
      "|   |   |   |   |   |   |--- class: 1\n",
      "|   |   |   |   |--- rmonth >  7.5\n",
      "|   |   |   |   |   |--- tbilled <= 407.5\n",
      "|   |   |   |   |   |   |--- class: 1\n",
      "|   |   |   |   |   |--- tbilled >  407.5\n",
      "|   |   |   |   |   |   |--- class: 0\n",
      "|   |   |   |--- maccess >  1.6\n",
      "|   |   |   |   |--- maccess <= 2.7\n",
      "|   |   |   |   |   |--- tbilled <= 300.4\n",
      "|   |   |   |   |   |   |--- class: 1\n",
      "|   |   |   |   |   |--- tbilled >  300.4\n",
      "|   |   |   |   |   |   |--- class: 0\n",
      "|   |   |   |   |--- maccess >  2.7\n",
      "|   |   |   |   |   |--- class: 1\n",
      "|   |   |--- nrenewals >  1.5\n",
      "|   |   |   |--- tbilled <= 560.0\n",
      "|   |   |   |   |--- tbilled <= 519.6\n",
      "|   |   |   |   |   |--- dayswfreq <= 8.5\n",
      "|   |   |   |   |   |   |--- class: 0\n",
      "|   |   |   |   |   |--- dayswfreq >  8.5\n",
      "|   |   |   |   |   |   |--- class: 1\n",
      "|   |   |   |   |--- tbilled >  519.6\n",
      "|   |   |   |   |   |--- class: 1\n",
      "|   |   |   |--- tbilled >  560.0\n",
      "|   |   |   |   |--- maccess <= 1.5\n",
      "|   |   |   |   |   |--- nentries <= 66.5\n",
      "|   |   |   |   |   |   |--- class: 1\n",
      "|   |   |   |   |   |--- nentries >  66.5\n",
      "|   |   |   |   |   |   |--- class: 0\n",
      "|   |   |   |   |--- maccess >  1.5\n",
      "|   |   |   |   |   |--- dayswfreq <= 12.5\n",
      "|   |   |   |   |   |   |--- class: 0\n",
      "|   |   |   |   |   |--- dayswfreq >  12.5\n",
      "|   |   |   |   |   |   |--- class: 0\n",
      "|   |--- age >  34.5\n",
      "|   |   |--- nrenewals <= 0.5\n",
      "|   |   |   |--- dayswfreq <= 1.5\n",
      "|   |   |   |   |--- class: 0\n",
      "|   |   |   |--- dayswfreq >  1.5\n",
      "|   |   |   |   |--- class: 1\n",
      "|   |   |--- nrenewals >  0.5\n",
      "|   |   |   |--- nentries <= 63.0\n",
      "|   |   |   |   |--- months <= 9.5\n",
      "|   |   |   |   |   |--- age <= 39.5\n",
      "|   |   |   |   |   |   |--- class: 1\n",
      "|   |   |   |   |   |--- age >  39.5\n",
      "|   |   |   |   |   |   |--- class: 0\n",
      "|   |   |   |   |--- months >  9.5\n",
      "|   |   |   |   |   |--- tbilled <= 490.1\n",
      "|   |   |   |   |   |   |--- class: 0\n",
      "|   |   |   |   |   |--- tbilled >  490.1\n",
      "|   |   |   |   |   |   |--- class: 0\n",
      "|   |   |   |--- nentries >  63.0\n",
      "|   |   |   |   |--- months <= 36.5\n",
      "|   |   |   |   |   |--- maccess <= 2.2\n",
      "|   |   |   |   |   |   |--- class: 0\n",
      "|   |   |   |   |   |--- maccess >  2.2\n",
      "|   |   |   |   |   |   |--- class: 0\n",
      "|   |   |   |   |--- months >  36.5\n",
      "|   |   |   |   |   |--- class: 0\n",
      "\n"
     ]
    }
   ],
   "source": [
    "print(tree.export_text(model_dtc,decimals=1,max_depth=6,feature_names=['age', 'sex', 'dayswfreq', 'tbilled', 'maccess', 'nentries', 'cfreq','nrenewals', 'cref', 'months', 'rmonth']))"
   ]
  },
  {
   "cell_type": "code",
   "execution_count": 276,
   "metadata": {},
   "outputs": [
    {
     "data": {
      "image/png": "[encoded data removed]",
      "text/plain": [
       "<Figure size 2400x2400 with 1 Axes>"
      ]
     },
     "metadata": {
      "needs_background": "light"
     },
     "output_type": "display_data"
    }
   ],
   "source": [
    "from sklearn import tree\n",
    "fig, axes = plt.subplots(nrows = 1,ncols = 1,figsize = (4,4), dpi=600)\n",
    "tree.plot_tree(model_dtc,max_depth=3,feature_names=X_test.columns, class_names=['0','1'],filled=True);\n",
    "fig.savefig('trees/dtree_dtc_arvore.png')"
   ]
  }
 ],
 "metadata": {
  "kernelspec": {
   "display_name": "Python 3",
   "language": "python",
   "name": "python3"
  },
  "language_info": {
   "codemirror_mode": {
    "name": "ipython",
    "version": 3
   },
   "file_extension": ".py",
   "mimetype": "text/x-python",
   "name": "python",
   "nbconvert_exporter": "python",
   "pygments_lexer": "ipython3",
   "version": "3.6.9"
  },
  "toc-autonumbering": true,
  "toc-showcode": false,
  "toc-showmarkdowntxt": false,
  "toc-showtags": false
 },
 "nbformat": 4,
 "nbformat_minor": 4
}
